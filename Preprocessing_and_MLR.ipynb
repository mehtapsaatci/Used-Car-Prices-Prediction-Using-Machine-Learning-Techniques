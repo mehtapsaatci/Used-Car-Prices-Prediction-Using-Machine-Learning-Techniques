{
 "cells": [
  {
   "cell_type": "markdown",
   "id": "e9197164",
   "metadata": {
    "id": "e9197164"
   },
   "source": [
    "# IE 326 Term Project: Used Car Prices Prediction"
   ]
  },
  {
   "cell_type": "markdown",
   "id": "0415b1e1",
   "metadata": {
    "id": "0415b1e1"
   },
   "source": [
    "In this study, used car prices will be predicted using a past dataset via some machine learning methods. Before applying these methods, we need to prepare the dataset."
   ]
  },
  {
   "cell_type": "markdown",
   "id": "b34b41c1",
   "metadata": {
    "id": "b34b41c1"
   },
   "source": [
    "1- Necessary libraries are imported."
   ]
  },
  {
   "cell_type": "code",
   "execution_count": 1,
   "id": "444e0323",
   "metadata": {
    "id": "444e0323"
   },
   "outputs": [],
   "source": [
    "import numpy as np # linear algebra\n",
    "import pandas as pd # data processing, CSV file I/O (e.g. pd.read_csv)\n",
    "import matplotlib.pyplot as plt # for data visualization\n",
    "import seaborn as sns # for statistical data visualization\n",
    "%matplotlib inline\n",
    "import warnings\n",
    "warnings.filterwarnings('ignore')"
   ]
  },
  {
   "cell_type": "markdown",
   "id": "3954bd95",
   "metadata": {
    "id": "3954bd95"
   },
   "source": [
    "2- The dataset is read."
   ]
  },
  {
   "cell_type": "code",
   "execution_count": 2,
   "id": "4f2cfbed",
   "metadata": {
    "id": "4f2cfbed"
   },
   "outputs": [],
   "source": [
    "df = pd.read_csv(\"car_price.csv\", on_bad_lines='skip')"
   ]
  },
  {
   "cell_type": "markdown",
   "id": "914f5e35",
   "metadata": {
    "id": "914f5e35"
   },
   "source": [
    "3- Let's see general information about the dataset."
   ]
  },
  {
   "cell_type": "code",
   "execution_count": 3,
   "id": "9bde8ca3",
   "metadata": {
    "colab": {
     "base_uri": "https://localhost:8080/"
    },
    "id": "9bde8ca3",
    "outputId": "dc86127f-f869-413a-c1d9-5ece41bf0deb"
   },
   "outputs": [
    {
     "name": "stdout",
     "output_type": "stream",
     "text": [
      "<class 'pandas.core.frame.DataFrame'>\n",
      "RangeIndex: 558811 entries, 0 to 558810\n",
      "Data columns (total 16 columns):\n",
      " #   Column        Non-Null Count   Dtype  \n",
      "---  ------        --------------   -----  \n",
      " 0   year          558811 non-null  int64  \n",
      " 1   make          548510 non-null  object \n",
      " 2   model         548412 non-null  object \n",
      " 3   trim          548160 non-null  object \n",
      " 4   body          545616 non-null  object \n",
      " 5   transmission  493458 non-null  object \n",
      " 6   vin           558811 non-null  object \n",
      " 7   state         558811 non-null  object \n",
      " 8   condition     547017 non-null  float64\n",
      " 9   odometer      558717 non-null  float64\n",
      " 10  color         558062 non-null  object \n",
      " 11  interior      558062 non-null  object \n",
      " 12  seller        558811 non-null  object \n",
      " 13  mmr           558811 non-null  int64  \n",
      " 14  sellingprice  558811 non-null  int64  \n",
      " 15  saledate      558811 non-null  object \n",
      "dtypes: float64(2), int64(3), object(11)\n",
      "memory usage: 68.2+ MB\n"
     ]
    }
   ],
   "source": [
    "df.info()"
   ]
  },
  {
   "cell_type": "markdown",
   "id": "3cfb0f62",
   "metadata": {
    "id": "3cfb0f62"
   },
   "source": [
    "4- Also, here we will see the shape of the dataset."
   ]
  },
  {
   "cell_type": "code",
   "execution_count": 4,
   "id": "04b84a36",
   "metadata": {
    "colab": {
     "base_uri": "https://localhost:8080/"
    },
    "id": "04b84a36",
    "outputId": "d2bf9768-fd12-455e-a8ee-c3960e019854"
   },
   "outputs": [
    {
     "data": {
      "text/plain": [
       "(558811, 16)"
      ]
     },
     "execution_count": 4,
     "metadata": {},
     "output_type": "execute_result"
    }
   ],
   "source": [
    "df.shape"
   ]
  },
  {
   "cell_type": "markdown",
   "id": "106e8d94",
   "metadata": {
    "id": "106e8d94"
   },
   "source": [
    "So, it is seen that there are 558,811 instances and 16 variables in the dataset."
   ]
  },
  {
   "cell_type": "markdown",
   "id": "407aaa7c",
   "metadata": {
    "id": "407aaa7c"
   },
   "source": [
    "5- Now, let's preview the dataset."
   ]
  },
  {
   "cell_type": "code",
   "execution_count": 5,
   "id": "c7fc1771",
   "metadata": {
    "colab": {
     "base_uri": "https://localhost:8080/",
     "height": 337
    },
    "id": "c7fc1771",
    "outputId": "e1035883-7228-4849-b80b-6bdd2157c177"
   },
   "outputs": [
    {
     "data": {
      "text/html": [
       "<div>\n",
       "<style scoped>\n",
       "    .dataframe tbody tr th:only-of-type {\n",
       "        vertical-align: middle;\n",
       "    }\n",
       "\n",
       "    .dataframe tbody tr th {\n",
       "        vertical-align: top;\n",
       "    }\n",
       "\n",
       "    .dataframe thead th {\n",
       "        text-align: right;\n",
       "    }\n",
       "</style>\n",
       "<table border=\"1\" class=\"dataframe\">\n",
       "  <thead>\n",
       "    <tr style=\"text-align: right;\">\n",
       "      <th></th>\n",
       "      <th>year</th>\n",
       "      <th>make</th>\n",
       "      <th>model</th>\n",
       "      <th>trim</th>\n",
       "      <th>body</th>\n",
       "      <th>transmission</th>\n",
       "      <th>vin</th>\n",
       "      <th>state</th>\n",
       "      <th>condition</th>\n",
       "      <th>odometer</th>\n",
       "      <th>color</th>\n",
       "      <th>interior</th>\n",
       "      <th>seller</th>\n",
       "      <th>mmr</th>\n",
       "      <th>sellingprice</th>\n",
       "      <th>saledate</th>\n",
       "    </tr>\n",
       "  </thead>\n",
       "  <tbody>\n",
       "    <tr>\n",
       "      <th>0</th>\n",
       "      <td>2015</td>\n",
       "      <td>Kia</td>\n",
       "      <td>Sorento</td>\n",
       "      <td>LX</td>\n",
       "      <td>SUV</td>\n",
       "      <td>automatic</td>\n",
       "      <td>5xyktca69fg566472</td>\n",
       "      <td>ca</td>\n",
       "      <td>5.0</td>\n",
       "      <td>16639.0</td>\n",
       "      <td>white</td>\n",
       "      <td>black</td>\n",
       "      <td>kia motors america, inc</td>\n",
       "      <td>20500</td>\n",
       "      <td>21500</td>\n",
       "      <td>Tue Dec 16 2014 12:30:00 GMT-0800 (PST)</td>\n",
       "    </tr>\n",
       "    <tr>\n",
       "      <th>1</th>\n",
       "      <td>2015</td>\n",
       "      <td>Kia</td>\n",
       "      <td>Sorento</td>\n",
       "      <td>LX</td>\n",
       "      <td>SUV</td>\n",
       "      <td>automatic</td>\n",
       "      <td>5xyktca69fg561319</td>\n",
       "      <td>ca</td>\n",
       "      <td>5.0</td>\n",
       "      <td>9393.0</td>\n",
       "      <td>white</td>\n",
       "      <td>beige</td>\n",
       "      <td>kia motors america, inc</td>\n",
       "      <td>20800</td>\n",
       "      <td>21500</td>\n",
       "      <td>Tue Dec 16 2014 12:30:00 GMT-0800 (PST)</td>\n",
       "    </tr>\n",
       "    <tr>\n",
       "      <th>2</th>\n",
       "      <td>2014</td>\n",
       "      <td>BMW</td>\n",
       "      <td>3 Series</td>\n",
       "      <td>328i SULEV</td>\n",
       "      <td>Sedan</td>\n",
       "      <td>automatic</td>\n",
       "      <td>wba3c1c51ek116351</td>\n",
       "      <td>ca</td>\n",
       "      <td>4.5</td>\n",
       "      <td>1331.0</td>\n",
       "      <td>gray</td>\n",
       "      <td>black</td>\n",
       "      <td>financial services remarketing (lease)</td>\n",
       "      <td>31900</td>\n",
       "      <td>30000</td>\n",
       "      <td>Thu Jan 15 2015 04:30:00 GMT-0800 (PST)</td>\n",
       "    </tr>\n",
       "    <tr>\n",
       "      <th>3</th>\n",
       "      <td>2015</td>\n",
       "      <td>Volvo</td>\n",
       "      <td>S60</td>\n",
       "      <td>T5</td>\n",
       "      <td>Sedan</td>\n",
       "      <td>automatic</td>\n",
       "      <td>yv1612tb4f1310987</td>\n",
       "      <td>ca</td>\n",
       "      <td>4.1</td>\n",
       "      <td>14282.0</td>\n",
       "      <td>white</td>\n",
       "      <td>black</td>\n",
       "      <td>volvo na rep/world omni</td>\n",
       "      <td>27500</td>\n",
       "      <td>27750</td>\n",
       "      <td>Thu Jan 29 2015 04:30:00 GMT-0800 (PST)</td>\n",
       "    </tr>\n",
       "    <tr>\n",
       "      <th>4</th>\n",
       "      <td>2014</td>\n",
       "      <td>BMW</td>\n",
       "      <td>6 Series Gran Coupe</td>\n",
       "      <td>650i</td>\n",
       "      <td>Sedan</td>\n",
       "      <td>automatic</td>\n",
       "      <td>wba6b2c57ed129731</td>\n",
       "      <td>ca</td>\n",
       "      <td>4.3</td>\n",
       "      <td>2641.0</td>\n",
       "      <td>gray</td>\n",
       "      <td>black</td>\n",
       "      <td>financial services remarketing (lease)</td>\n",
       "      <td>66000</td>\n",
       "      <td>67000</td>\n",
       "      <td>Thu Dec 18 2014 12:30:00 GMT-0800 (PST)</td>\n",
       "    </tr>\n",
       "  </tbody>\n",
       "</table>\n",
       "</div>"
      ],
      "text/plain": [
       "   year   make                model        trim   body transmission  \\\n",
       "0  2015    Kia              Sorento          LX    SUV    automatic   \n",
       "1  2015    Kia              Sorento          LX    SUV    automatic   \n",
       "2  2014    BMW             3 Series  328i SULEV  Sedan    automatic   \n",
       "3  2015  Volvo                  S60          T5  Sedan    automatic   \n",
       "4  2014    BMW  6 Series Gran Coupe        650i  Sedan    automatic   \n",
       "\n",
       "                 vin state  condition  odometer  color interior  \\\n",
       "0  5xyktca69fg566472    ca        5.0   16639.0  white    black   \n",
       "1  5xyktca69fg561319    ca        5.0    9393.0  white    beige   \n",
       "2  wba3c1c51ek116351    ca        4.5    1331.0   gray    black   \n",
       "3  yv1612tb4f1310987    ca        4.1   14282.0  white    black   \n",
       "4  wba6b2c57ed129731    ca        4.3    2641.0   gray    black   \n",
       "\n",
       "                                   seller    mmr  sellingprice  \\\n",
       "0                 kia motors america, inc  20500         21500   \n",
       "1                 kia motors america, inc  20800         21500   \n",
       "2  financial services remarketing (lease)  31900         30000   \n",
       "3                 volvo na rep/world omni  27500         27750   \n",
       "4  financial services remarketing (lease)  66000         67000   \n",
       "\n",
       "                                  saledate  \n",
       "0  Tue Dec 16 2014 12:30:00 GMT-0800 (PST)  \n",
       "1  Tue Dec 16 2014 12:30:00 GMT-0800 (PST)  \n",
       "2  Thu Jan 15 2015 04:30:00 GMT-0800 (PST)  \n",
       "3  Thu Jan 29 2015 04:30:00 GMT-0800 (PST)  \n",
       "4  Thu Dec 18 2014 12:30:00 GMT-0800 (PST)  "
      ]
     },
     "execution_count": 5,
     "metadata": {},
     "output_type": "execute_result"
    }
   ],
   "source": [
    "df.head()"
   ]
  },
  {
   "cell_type": "markdown",
   "id": "f71a2892",
   "metadata": {
    "id": "f71a2892"
   },
   "source": [
    "6- Let's describe the dataset."
   ]
  },
  {
   "cell_type": "code",
   "execution_count": 6,
   "id": "239afad8",
   "metadata": {
    "colab": {
     "base_uri": "https://localhost:8080/",
     "height": 300
    },
    "id": "239afad8",
    "outputId": "3d9b2d05-fd30-4e7e-df8c-cfaca7330f05"
   },
   "outputs": [
    {
     "data": {
      "text/html": [
       "<div>\n",
       "<style scoped>\n",
       "    .dataframe tbody tr th:only-of-type {\n",
       "        vertical-align: middle;\n",
       "    }\n",
       "\n",
       "    .dataframe tbody tr th {\n",
       "        vertical-align: top;\n",
       "    }\n",
       "\n",
       "    .dataframe thead th {\n",
       "        text-align: right;\n",
       "    }\n",
       "</style>\n",
       "<table border=\"1\" class=\"dataframe\">\n",
       "  <thead>\n",
       "    <tr style=\"text-align: right;\">\n",
       "      <th></th>\n",
       "      <th>year</th>\n",
       "      <th>condition</th>\n",
       "      <th>odometer</th>\n",
       "      <th>mmr</th>\n",
       "      <th>sellingprice</th>\n",
       "    </tr>\n",
       "  </thead>\n",
       "  <tbody>\n",
       "    <tr>\n",
       "      <th>count</th>\n",
       "      <td>558811.000000</td>\n",
       "      <td>547017.000000</td>\n",
       "      <td>558717.000000</td>\n",
       "      <td>558811.000000</td>\n",
       "      <td>558811.000000</td>\n",
       "    </tr>\n",
       "    <tr>\n",
       "      <th>mean</th>\n",
       "      <td>2010.038696</td>\n",
       "      <td>3.424512</td>\n",
       "      <td>68323.195797</td>\n",
       "      <td>13769.324646</td>\n",
       "      <td>13611.262461</td>\n",
       "    </tr>\n",
       "    <tr>\n",
       "      <th>std</th>\n",
       "      <td>3.966812</td>\n",
       "      <td>0.949439</td>\n",
       "      <td>53397.752933</td>\n",
       "      <td>9679.874607</td>\n",
       "      <td>9749.656919</td>\n",
       "    </tr>\n",
       "    <tr>\n",
       "      <th>min</th>\n",
       "      <td>1982.000000</td>\n",
       "      <td>1.000000</td>\n",
       "      <td>1.000000</td>\n",
       "      <td>25.000000</td>\n",
       "      <td>1.000000</td>\n",
       "    </tr>\n",
       "    <tr>\n",
       "      <th>25%</th>\n",
       "      <td>2007.000000</td>\n",
       "      <td>2.700000</td>\n",
       "      <td>28374.000000</td>\n",
       "      <td>7100.000000</td>\n",
       "      <td>6900.000000</td>\n",
       "    </tr>\n",
       "    <tr>\n",
       "      <th>50%</th>\n",
       "      <td>2012.000000</td>\n",
       "      <td>3.600000</td>\n",
       "      <td>52256.000000</td>\n",
       "      <td>12250.000000</td>\n",
       "      <td>12100.000000</td>\n",
       "    </tr>\n",
       "    <tr>\n",
       "      <th>75%</th>\n",
       "      <td>2013.000000</td>\n",
       "      <td>4.200000</td>\n",
       "      <td>99112.000000</td>\n",
       "      <td>18300.000000</td>\n",
       "      <td>18200.000000</td>\n",
       "    </tr>\n",
       "    <tr>\n",
       "      <th>max</th>\n",
       "      <td>2015.000000</td>\n",
       "      <td>5.000000</td>\n",
       "      <td>999999.000000</td>\n",
       "      <td>182000.000000</td>\n",
       "      <td>230000.000000</td>\n",
       "    </tr>\n",
       "  </tbody>\n",
       "</table>\n",
       "</div>"
      ],
      "text/plain": [
       "                year      condition       odometer            mmr  \\\n",
       "count  558811.000000  547017.000000  558717.000000  558811.000000   \n",
       "mean     2010.038696       3.424512   68323.195797   13769.324646   \n",
       "std         3.966812       0.949439   53397.752933    9679.874607   \n",
       "min      1982.000000       1.000000       1.000000      25.000000   \n",
       "25%      2007.000000       2.700000   28374.000000    7100.000000   \n",
       "50%      2012.000000       3.600000   52256.000000   12250.000000   \n",
       "75%      2013.000000       4.200000   99112.000000   18300.000000   \n",
       "max      2015.000000       5.000000  999999.000000  182000.000000   \n",
       "\n",
       "        sellingprice  \n",
       "count  558811.000000  \n",
       "mean    13611.262461  \n",
       "std      9749.656919  \n",
       "min         1.000000  \n",
       "25%      6900.000000  \n",
       "50%     12100.000000  \n",
       "75%     18200.000000  \n",
       "max    230000.000000  "
      ]
     },
     "execution_count": 6,
     "metadata": {},
     "output_type": "execute_result"
    }
   ],
   "source": [
    "df.describe()"
   ]
  },
  {
   "cell_type": "markdown",
   "id": "f4e444eb",
   "metadata": {
    "id": "f4e444eb"
   },
   "source": [
    "7- Detect dublicates if any exists."
   ]
  },
  {
   "cell_type": "code",
   "execution_count": 7,
   "id": "f01489fd",
   "metadata": {
    "colab": {
     "base_uri": "https://localhost:8080/"
    },
    "id": "f01489fd",
    "outputId": "d4cacd42-f15a-4e9f-aafe-9fb210eaacd2"
   },
   "outputs": [
    {
     "data": {
      "text/plain": [
       "558811"
      ]
     },
     "execution_count": 7,
     "metadata": {},
     "output_type": "execute_result"
    }
   ],
   "source": [
    "len(df)"
   ]
  },
  {
   "cell_type": "code",
   "execution_count": 8,
   "id": "dca985ba",
   "metadata": {
    "colab": {
     "base_uri": "https://localhost:8080/"
    },
    "id": "dca985ba",
    "outputId": "d7f8cdf1-5a3f-4304-de24-2a4e1f808b44"
   },
   "outputs": [
    {
     "data": {
      "text/plain": [
       "558811"
      ]
     },
     "execution_count": 8,
     "metadata": {},
     "output_type": "execute_result"
    }
   ],
   "source": [
    "df = df.drop_duplicates()\n",
    "len(df)"
   ]
  },
  {
   "cell_type": "markdown",
   "id": "6b8a2fca",
   "metadata": {
    "id": "6b8a2fca"
   },
   "source": [
    "So, there are no duplicate values in this dataset."
   ]
  },
  {
   "cell_type": "markdown",
   "id": "ffc0d15b",
   "metadata": {
    "id": "ffc0d15b"
   },
   "source": [
    "8- Let's check whether any spaces in the column names."
   ]
  },
  {
   "cell_type": "code",
   "execution_count": 9,
   "id": "8cf8ef79",
   "metadata": {
    "colab": {
     "base_uri": "https://localhost:8080/"
    },
    "id": "8cf8ef79",
    "outputId": "c3de12a9-358b-4781-b946-33f363a946f7"
   },
   "outputs": [
    {
     "data": {
      "text/plain": [
       "Index(['year', 'make', 'model', 'trim', 'body', 'transmission', 'vin', 'state',\n",
       "       'condition', 'odometer', 'color', 'interior', 'seller', 'mmr',\n",
       "       'sellingprice', 'saledate'],\n",
       "      dtype='object')"
      ]
     },
     "execution_count": 9,
     "metadata": {},
     "output_type": "execute_result"
    }
   ],
   "source": [
    "col_names = df.columns\n",
    "col_names"
   ]
  },
  {
   "cell_type": "markdown",
   "id": "0a99e068",
   "metadata": {
    "id": "0a99e068"
   },
   "source": [
    "It seems that there is no problem in the name of columns, but, to guarantee it, let's remove if any existing spaces."
   ]
  },
  {
   "cell_type": "code",
   "execution_count": 10,
   "id": "82b43be2",
   "metadata": {
    "colab": {
     "base_uri": "https://localhost:8080/"
    },
    "id": "82b43be2",
    "outputId": "f3e76e35-da00-416c-8772-e2383029145d"
   },
   "outputs": [
    {
     "data": {
      "text/plain": [
       "Index(['year', 'make', 'model', 'trim', 'body', 'transmission', 'vin', 'state',\n",
       "       'condition', 'odometer', 'color', 'interior', 'seller', 'mmr',\n",
       "       'sellingprice', 'saledate'],\n",
       "      dtype='object')"
      ]
     },
     "execution_count": 10,
     "metadata": {},
     "output_type": "execute_result"
    }
   ],
   "source": [
    "df.columns = df.columns.str.strip()\n",
    "df.columns"
   ]
  },
  {
   "cell_type": "markdown",
   "id": "f55fcd20",
   "metadata": {
    "id": "f55fcd20"
   },
   "source": [
    "9- Here, we are going to check the datatypes of each column one by one:"
   ]
  },
  {
   "cell_type": "code",
   "execution_count": 11,
   "id": "83097b1f",
   "metadata": {
    "colab": {
     "base_uri": "https://localhost:8080/"
    },
    "id": "83097b1f",
    "outputId": "284de4c0-98b2-452d-945e-0d6545213213"
   },
   "outputs": [
    {
     "name": "stdout",
     "output_type": "stream",
     "text": [
      "year              int64\n",
      "make             object\n",
      "model            object\n",
      "trim             object\n",
      "body             object\n",
      "transmission     object\n",
      "vin              object\n",
      "state            object\n",
      "condition       float64\n",
      "odometer        float64\n",
      "color            object\n",
      "interior         object\n",
      "seller           object\n",
      "mmr               int64\n",
      "sellingprice      int64\n",
      "saledate         object\n",
      "dtype: object\n"
     ]
    }
   ],
   "source": [
    "print(df.dtypes)"
   ]
  },
  {
   "cell_type": "markdown",
   "id": "53fc42db",
   "metadata": {
    "id": "53fc42db"
   },
   "source": [
    "10- To guarantee that all data points are proper, we need to check and delete data points with wrong datatypes. Here is code for it:"
   ]
  },
  {
   "cell_type": "code",
   "execution_count": 12,
   "id": "21d8a8c1",
   "metadata": {
    "colab": {
     "base_uri": "https://localhost:8080/"
    },
    "id": "21d8a8c1",
    "outputId": "c61768bc-28a9-4a79-ad10-ea3c34c29c88"
   },
   "outputs": [
    {
     "data": {
      "text/plain": [
       "transmission    11.695010\n",
       "body             2.361263\n",
       "condition        2.110553\n",
       "trim             1.906011\n",
       "model            1.860915\n",
       "make             1.843378\n",
       "color            0.134035\n",
       "interior         0.134035\n",
       "odometer         0.016821\n",
       "year             0.000000\n",
       "vin              0.000000\n",
       "state            0.000000\n",
       "seller           0.000000\n",
       "mmr              0.000000\n",
       "sellingprice     0.000000\n",
       "saledate         0.000000\n",
       "dtype: float64"
      ]
     },
     "execution_count": 12,
     "metadata": {},
     "output_type": "execute_result"
    }
   ],
   "source": [
    "df.isnull().sum().sort_values(ascending=False)/len(df)*100"
   ]
  },
  {
   "cell_type": "markdown",
   "id": "b5455c62",
   "metadata": {
    "id": "b5455c62"
   },
   "source": [
    "According to this analysis: 11.69% of transmission, 2.36% of body, 2.11% of condition and so on values are missing."
   ]
  },
  {
   "cell_type": "markdown",
   "id": "9c008fa6",
   "metadata": {
    "id": "9c008fa6"
   },
   "source": [
    "11- Column names will be stored as col_names to represent it clearly."
   ]
  },
  {
   "cell_type": "code",
   "execution_count": 13,
   "id": "0db12c87",
   "metadata": {
    "id": "0db12c87"
   },
   "outputs": [],
   "source": [
    "col_names=df.columns"
   ]
  },
  {
   "cell_type": "markdown",
   "id": "da043056",
   "metadata": {
    "id": "da043056"
   },
   "source": [
    "12 - In this study, the target variable is sellingprice, meaning that this variable is the one that we desire to predict. Other variables are predictor variables or features."
   ]
  },
  {
   "cell_type": "markdown",
   "id": "b882e7d5",
   "metadata": {
    "id": "b882e7d5"
   },
   "source": [
    "13- Since the target variable is selling price, we will check distribution of sellingprice column."
   ]
  },
  {
   "cell_type": "code",
   "execution_count": 14,
   "id": "e8f4383d",
   "metadata": {
    "colab": {
     "base_uri": "https://localhost:8080/"
    },
    "id": "e8f4383d",
    "outputId": "f70c39aa-9b14-4da3-ea30-7c06fb88e686"
   },
   "outputs": [
    {
     "data": {
      "text/plain": [
       "11000     4453\n",
       "12000     4450\n",
       "13000     4334\n",
       "10000     4030\n",
       "14000     3898\n",
       "          ... \n",
       "28350        1\n",
       "30201        1\n",
       "131500       1\n",
       "31550        1\n",
       "27840        1\n",
       "Name: sellingprice, Length: 1887, dtype: int64"
      ]
     },
     "execution_count": 14,
     "metadata": {},
     "output_type": "execute_result"
    }
   ],
   "source": [
    "df['sellingprice'].value_counts()"
   ]
  },
  {
   "cell_type": "markdown",
   "id": "ae32930b",
   "metadata": {
    "id": "ae32930b"
   },
   "source": [
    "14- Here, we will view the percentage distribution of sellingprice column."
   ]
  },
  {
   "cell_type": "code",
   "execution_count": 15,
   "id": "93dc47a4",
   "metadata": {
    "colab": {
     "base_uri": "https://localhost:8080/"
    },
    "id": "93dc47a4",
    "outputId": "98d4346b-f7a8-43f7-e32b-c7801360899e"
   },
   "outputs": [
    {
     "data": {
      "text/plain": [
       "11000     0.007969\n",
       "12000     0.007963\n",
       "13000     0.007756\n",
       "10000     0.007212\n",
       "14000     0.006976\n",
       "            ...   \n",
       "28350     0.000002\n",
       "30201     0.000002\n",
       "131500    0.000002\n",
       "31550     0.000002\n",
       "27840     0.000002\n",
       "Name: sellingprice, Length: 1887, dtype: float64"
      ]
     },
     "execution_count": 15,
     "metadata": {},
     "output_type": "execute_result"
    }
   ],
   "source": [
    "df['sellingprice'].value_counts()/np.float(len(df))"
   ]
  },
  {
   "cell_type": "markdown",
   "id": "8hTqdjvlYOpu",
   "metadata": {
    "id": "8hTqdjvlYOpu"
   },
   "source": [
    "15- Checking the number of unique values."
   ]
  },
  {
   "cell_type": "code",
   "execution_count": 16,
   "id": "Ub6YRx50YV91",
   "metadata": {
    "colab": {
     "base_uri": "https://localhost:8080/"
    },
    "id": "Ub6YRx50YV91",
    "outputId": "5b7da176-ed48-4a33-8cf5-9510441e6bb7"
   },
   "outputs": [
    {
     "data": {
      "text/plain": [
       "make                96\n",
       "model              973\n",
       "trim              1975\n",
       "body                86\n",
       "transmission         2\n",
       "vin             550296\n",
       "state               38\n",
       "color               20\n",
       "interior            17\n",
       "seller           14264\n",
       "saledate          3745\n",
       "dtype: int64"
      ]
     },
     "execution_count": 16,
     "metadata": {},
     "output_type": "execute_result"
    }
   ],
   "source": [
    "df.select_dtypes(include=\"object\").nunique()"
   ]
  },
  {
   "cell_type": "markdown",
   "id": "fGc7dcYY7DCV",
   "metadata": {
    "id": "fGc7dcYY7DCV"
   },
   "source": [
    "# **Imputing missing values**"
   ]
  },
  {
   "cell_type": "markdown",
   "id": "1nEtjCE0d1dj",
   "metadata": {
    "id": "1nEtjCE0d1dj"
   },
   "source": [
    "17- Checking of transmission data and filling the missing values."
   ]
  },
  {
   "cell_type": "code",
   "execution_count": 17,
   "id": "Mt-DzQzNeJxd",
   "metadata": {
    "colab": {
     "base_uri": "https://localhost:8080/"
    },
    "id": "Mt-DzQzNeJxd",
    "outputId": "ad5ce840-23db-48a1-950e-8847204ed14d"
   },
   "outputs": [
    {
     "data": {
      "text/plain": [
       "array(['automatic', nan, 'manual'], dtype=object)"
      ]
     },
     "execution_count": 17,
     "metadata": {},
     "output_type": "execute_result"
    }
   ],
   "source": [
    "updated_df = df.copy()\n",
    "updated_df.transmission.unique()"
   ]
  },
  {
   "cell_type": "code",
   "execution_count": 18,
   "id": "QZBy7H2v9Qoh",
   "metadata": {
    "colab": {
     "base_uri": "https://localhost:8080/",
     "height": 447
    },
    "id": "QZBy7H2v9Qoh",
    "outputId": "6964f90a-1675-46d4-f6c7-f449346a884d"
   },
   "outputs": [
    {
     "data": {
      "text/plain": [
       "<AxesSubplot:>"
      ]
     },
     "execution_count": 18,
     "metadata": {},
     "output_type": "execute_result"
    },
    {
     "data": {
      "image/png": "[encoded data removed]",
      "text/plain": [
       "<Figure size 640x480 with 1 Axes>"
      ]
     },
     "metadata": {},
     "output_type": "display_data"
    }
   ],
   "source": [
    "updated_df['transmission'].hist() "
   ]
  },
  {
   "cell_type": "code",
   "execution_count": 19,
   "id": "UumLgANFeUMn",
   "metadata": {
    "colab": {
     "base_uri": "https://localhost:8080/",
     "height": 35
    },
    "id": "UumLgANFeUMn",
    "outputId": "a6dcf482-64e3-4b12-9871-379acf8d5068"
   },
   "outputs": [
    {
     "data": {
      "text/plain": [
       "'automatic'"
      ]
     },
     "execution_count": 19,
     "metadata": {},
     "output_type": "execute_result"
    }
   ],
   "source": [
    "updated_df['transmission'].mode()[0]"
   ]
  },
  {
   "cell_type": "markdown",
   "id": "d5YnQ1szezWI",
   "metadata": {
    "id": "d5YnQ1szezWI"
   },
   "source": [
    "The mode of this column is \"automatic\". Therefore, missing data in the transmission column has been updated \"automatic\"."
   ]
  },
  {
   "cell_type": "code",
   "execution_count": 20,
   "id": "lijck5yce1Kp",
   "metadata": {
    "id": "lijck5yce1Kp"
   },
   "outputs": [],
   "source": [
    "updated_df.transmission = updated_df.transmission.fillna(\"automatic\")"
   ]
  },
  {
   "cell_type": "code",
   "execution_count": 21,
   "id": "6YZELiJNe5gS",
   "metadata": {
    "colab": {
     "base_uri": "https://localhost:8080/"
    },
    "id": "6YZELiJNe5gS",
    "outputId": "271f8ef0-ca24-4dc5-8249-68da5c5e498b"
   },
   "outputs": [
    {
     "data": {
      "text/plain": [
       "year                0\n",
       "make            10301\n",
       "model           10399\n",
       "trim            10651\n",
       "body            13195\n",
       "transmission        0\n",
       "vin                 0\n",
       "state               0\n",
       "condition       11794\n",
       "odometer           94\n",
       "color             749\n",
       "interior          749\n",
       "seller              0\n",
       "mmr                 0\n",
       "sellingprice        0\n",
       "saledate            0\n",
       "dtype: int64"
      ]
     },
     "execution_count": 21,
     "metadata": {},
     "output_type": "execute_result"
    }
   ],
   "source": [
    "updated_df.isnull().sum()"
   ]
  },
  {
   "cell_type": "code",
   "execution_count": 22,
   "id": "uA3GNGoAfGDz",
   "metadata": {
    "colab": {
     "base_uri": "https://localhost:8080/"
    },
    "id": "uA3GNGoAfGDz",
    "outputId": "d51c154d-3cc7-423b-cbf1-fabb2b73336a"
   },
   "outputs": [
    {
     "data": {
      "text/plain": [
       "array(['automatic', 'manual'], dtype=object)"
      ]
     },
     "execution_count": 22,
     "metadata": {},
     "output_type": "execute_result"
    }
   ],
   "source": [
    "updated_df.transmission.unique()"
   ]
  },
  {
   "cell_type": "markdown",
   "id": "TueregaGfLKS",
   "metadata": {
    "id": "TueregaGfLKS"
   },
   "source": [
    "18- Checking of make and filling the missing values."
   ]
  },
  {
   "cell_type": "code",
   "execution_count": 23,
   "id": "9ItRQkKDfasa",
   "metadata": {
    "colab": {
     "base_uri": "https://localhost:8080/"
    },
    "id": "9ItRQkKDfasa",
    "outputId": "6e1e6878-3b3a-4679-e646-c5c117859854"
   },
   "outputs": [
    {
     "data": {
      "text/plain": [
       "array(['Kia', 'BMW', 'Volvo', 'Nissan', 'Chevrolet', 'Audi', 'Ford',\n",
       "       'Hyundai', 'Buick', 'Cadillac', 'Acura', 'Lexus', 'Infiniti',\n",
       "       'Jeep', 'Mercedes-Benz', 'Mitsubishi', 'Mazda', 'MINI',\n",
       "       'Land Rover', 'Lincoln', 'lincoln', 'Jaguar', 'Volkswagen',\n",
       "       'Toyota', 'Subaru', 'Scion', 'Porsche', nan, 'bmw', 'Dodge',\n",
       "       'FIAT', 'Chrysler', 'ford', 'Ferrari', 'Honda', 'GMC',\n",
       "       'mitsubishi', 'Ram', 'smart', 'chevrolet', 'Bentley', 'chrysler',\n",
       "       'pontiac', 'Pontiac', 'Saturn', 'Maserati', 'Mercury', 'HUMMER',\n",
       "       'landrover', 'cadillac', 'land rover', 'mercedes', 'mazda',\n",
       "       'toyota', 'lexus', 'gmc truck', 'honda', 'nissan', 'porsche',\n",
       "       'Saab', 'Suzuki', 'dodge', 'subaru', 'Oldsmobile', 'oldsmobile',\n",
       "       'hyundai', 'jeep', 'Isuzu', 'dodge tk', 'Geo', 'acura',\n",
       "       'volkswagen', 'suzuki', 'kia', 'audi', 'Rolls-Royce', 'gmc',\n",
       "       'maserati', 'mazda tk', 'mercury', 'buick', 'hyundai tk',\n",
       "       'mercedes-b', 'vw', 'Daewoo', 'chev truck', 'ford tk', 'plymouth',\n",
       "       'Plymouth', 'ford truck', 'Tesla', 'airstream', 'dot',\n",
       "       'Aston Martin', 'Fisker', 'Lamborghini', 'Lotus'], dtype=object)"
      ]
     },
     "execution_count": 23,
     "metadata": {},
     "output_type": "execute_result"
    }
   ],
   "source": [
    "updated_df.make.unique()"
   ]
  },
  {
   "cell_type": "markdown",
   "id": "dEo9KCxkf5cj",
   "metadata": {
    "id": "dEo9KCxkf5cj"
   },
   "source": [
    "There are problems with the data. \n",
    "1. Lower and upper case. For example: \"Kia\" or \"kia\"\n",
    "2. Short and long definition. For example: \"volkswagen\" or \"vw\""
   ]
  },
  {
   "cell_type": "code",
   "execution_count": 24,
   "id": "wZDvvbbBgP6M",
   "metadata": {
    "colab": {
     "base_uri": "https://localhost:8080/"
    },
    "id": "wZDvvbbBgP6M",
    "outputId": "2e877a95-5acc-4ea7-ab66-0d5a033985b7"
   },
   "outputs": [
    {
     "data": {
      "text/plain": [
       "array(['kia', 'bmw', 'volvo', 'nissan', 'chevrolet', 'audi', 'ford',\n",
       "       'hyundai', 'buick', 'cadillac', 'acura', 'lexus', 'infiniti',\n",
       "       'jeep', 'mercedes-benz', 'mitsubishi', 'mazda', 'mini',\n",
       "       'land rover', 'lincoln', 'jaguar', 'volkswagen', 'toyota',\n",
       "       'subaru', 'scion', 'porsche', nan, 'dodge', 'fiat', 'chrysler',\n",
       "       'ferrari', 'honda', 'gmc', 'ram', 'smart', 'bentley', 'pontiac',\n",
       "       'saturn', 'maserati', 'mercury', 'hummer', 'landrover', 'mercedes',\n",
       "       'gmc truck', 'saab', 'suzuki', 'oldsmobile', 'isuzu', 'dodge tk',\n",
       "       'geo', 'rolls-royce', 'mazda tk', 'hyundai tk', 'mercedes-b', 'vw',\n",
       "       'daewoo', 'chev truck', 'ford tk', 'plymouth', 'ford truck',\n",
       "       'tesla', 'airstream', 'dot', 'aston martin', 'fisker',\n",
       "       'lamborghini', 'lotus'], dtype=object)"
      ]
     },
     "execution_count": 24,
     "metadata": {},
     "output_type": "execute_result"
    }
   ],
   "source": [
    "updated_df.make = updated_df.make.str.lower()\n",
    "updated_df.make.unique()"
   ]
  },
  {
   "cell_type": "code",
   "execution_count": 25,
   "id": "DqVRX06xlD9a",
   "metadata": {
    "colab": {
     "base_uri": "https://localhost:8080/"
    },
    "id": "DqVRX06xlD9a",
    "outputId": "ec260383-229e-48e7-b4a8-4f7db5db61d5"
   },
   "outputs": [
    {
     "data": {
      "text/plain": [
       "ford          17.14\n",
       "chevrolet     11.05\n",
       "nissan         9.85\n",
       "toyota         7.29\n",
       "dodge          5.64\n",
       "              ...  \n",
       "dot            0.00\n",
       "hyundai tk     0.00\n",
       "mazda tk       0.00\n",
       "dodge tk       0.00\n",
       "lotus          0.00\n",
       "Name: make, Length: 66, dtype: float64"
      ]
     },
     "execution_count": 25,
     "metadata": {},
     "output_type": "execute_result"
    }
   ],
   "source": [
    "round(updated_df.make.value_counts()/sum(updated_df.make.value_counts())*100,2)"
   ]
  },
  {
   "cell_type": "markdown",
   "id": "qi88jGLBldkm",
   "metadata": {
    "id": "qi88jGLBldkm"
   },
   "source": [
    "An overwhelming 17% of most cars are ford. Therefore, missing data in the make column has been updated by \"ford\"."
   ]
  },
  {
   "cell_type": "code",
   "execution_count": 26,
   "id": "4K08ytV2lo3u",
   "metadata": {
    "colab": {
     "base_uri": "https://localhost:8080/"
    },
    "id": "4K08ytV2lo3u",
    "outputId": "7fae42ce-42ed-4b4e-c274-d1201216b1c4"
   },
   "outputs": [
    {
     "data": {
      "text/plain": [
       "year                0\n",
       "make                0\n",
       "model           10399\n",
       "trim            10651\n",
       "body            13195\n",
       "transmission        0\n",
       "vin                 0\n",
       "state               0\n",
       "condition       11794\n",
       "odometer           94\n",
       "color             749\n",
       "interior          749\n",
       "seller              0\n",
       "mmr                 0\n",
       "sellingprice        0\n",
       "saledate            0\n",
       "dtype: int64"
      ]
     },
     "execution_count": 26,
     "metadata": {},
     "output_type": "execute_result"
    }
   ],
   "source": [
    "updated_df.make.fillna(\"ford\", inplace=True)\n",
    "updated_df.isnull().sum()"
   ]
  },
  {
   "cell_type": "code",
   "execution_count": 27,
   "id": "Ueo0Mn1TltoG",
   "metadata": {
    "colab": {
     "base_uri": "https://localhost:8080/"
    },
    "id": "Ueo0Mn1TltoG",
    "outputId": "27c40c74-0840-45cf-8e32-fa1735385fcb"
   },
   "outputs": [
    {
     "data": {
      "text/plain": [
       "ford         104302\n",
       "chevrolet     60588\n",
       "nissan        54017\n",
       "toyota        39966\n",
       "dodge         30956\n",
       "Name: make, dtype: int64"
      ]
     },
     "execution_count": 27,
     "metadata": {},
     "output_type": "execute_result"
    }
   ],
   "source": [
    "def cleaned_make(batch):\n",
    "    for index, value in batch.iteritems():\n",
    "        if \"chev\" in value:\n",
    "            batch[index] = \"chevrolet\"\n",
    "        elif \"ford\" in value:\n",
    "            batch[index] = \"ford\" \n",
    "        elif \"hyundai\" in value:\n",
    "            batch[index] = \"hyundai\" \n",
    "        elif \"vw\" in value:\n",
    "            batch[index] = \"volkswagen\" \n",
    "        elif \"dodge\" in value:\n",
    "            batch[index] = \"dodge\"\n",
    "        elif \"merced\" in value:\n",
    "            batch[index] = \"mercedes\"\n",
    "        elif \"mazda\" in value:\n",
    "            batch[index] = \"mazda\"\n",
    "        elif \"rover\" in value:\n",
    "            batch[index] = \"landrover\"\n",
    "        elif \"gmc\" in value:\n",
    "            batch[index] = \"gmc\"\n",
    "        else:\n",
    "            pass \n",
    "        \n",
    "    return batch\n",
    "\n",
    "\n",
    "batch_list = np.array_split(updated_df.make, 20)\n",
    "    \n",
    "for batch in batch_list:\n",
    "    cleaned_make(batch)\n",
    "\n",
    "new_make_series = pd.concat(batch_list, axis=0)\n",
    "new_make_series.value_counts().head()\n",
    "\n"
   ]
  },
  {
   "cell_type": "code",
   "execution_count": 28,
   "id": "q6m3982rutLf",
   "metadata": {
    "colab": {
     "base_uri": "https://localhost:8080/"
    },
    "id": "q6m3982rutLf",
    "outputId": "ebe77a70-bee7-4dbb-cf96-7085235be30d"
   },
   "outputs": [
    {
     "data": {
      "text/plain": [
       "66"
      ]
     },
     "execution_count": 28,
     "metadata": {},
     "output_type": "execute_result"
    }
   ],
   "source": [
    "len(updated_df.make.unique())"
   ]
  },
  {
   "cell_type": "code",
   "execution_count": 29,
   "id": "PLpt99YJCqE4",
   "metadata": {
    "id": "PLpt99YJCqE4"
   },
   "outputs": [],
   "source": [
    "updated_df.drop(\"make\", axis=1, inplace=True)"
   ]
  },
  {
   "cell_type": "code",
   "execution_count": 30,
   "id": "1LaSFXT3zIad",
   "metadata": {
    "id": "1LaSFXT3zIad"
   },
   "outputs": [],
   "source": [
    "updated_df[\"make_new\"] = new_make_series"
   ]
  },
  {
   "cell_type": "code",
   "execution_count": 31,
   "id": "caP3CmxKzSxH",
   "metadata": {
    "colab": {
     "base_uri": "https://localhost:8080/"
    },
    "id": "caP3CmxKzSxH",
    "outputId": "6bb9ec48-a7dd-4d9c-f279-ae601e28ddd9"
   },
   "outputs": [
    {
     "data": {
      "text/plain": [
       "55"
      ]
     },
     "execution_count": 31,
     "metadata": {},
     "output_type": "execute_result"
    }
   ],
   "source": [
    "len(updated_df.make_new.unique())"
   ]
  },
  {
   "cell_type": "code",
   "execution_count": 32,
   "id": "ELyqwVTZCuHN",
   "metadata": {
    "colab": {
     "base_uri": "https://localhost:8080/",
     "height": 206
    },
    "id": "ELyqwVTZCuHN",
    "outputId": "eb71a9f0-3b26-40ca-86b6-4beb8006c674"
   },
   "outputs": [
    {
     "data": {
      "text/html": [
       "<div>\n",
       "<style scoped>\n",
       "    .dataframe tbody tr th:only-of-type {\n",
       "        vertical-align: middle;\n",
       "    }\n",
       "\n",
       "    .dataframe tbody tr th {\n",
       "        vertical-align: top;\n",
       "    }\n",
       "\n",
       "    .dataframe thead th {\n",
       "        text-align: right;\n",
       "    }\n",
       "</style>\n",
       "<table border=\"1\" class=\"dataframe\">\n",
       "  <thead>\n",
       "    <tr style=\"text-align: right;\">\n",
       "      <th></th>\n",
       "      <th>year</th>\n",
       "      <th>model</th>\n",
       "      <th>trim</th>\n",
       "      <th>body</th>\n",
       "      <th>transmission</th>\n",
       "      <th>vin</th>\n",
       "      <th>state</th>\n",
       "      <th>condition</th>\n",
       "      <th>odometer</th>\n",
       "      <th>color</th>\n",
       "      <th>interior</th>\n",
       "      <th>seller</th>\n",
       "      <th>mmr</th>\n",
       "      <th>sellingprice</th>\n",
       "      <th>saledate</th>\n",
       "      <th>make_new</th>\n",
       "    </tr>\n",
       "  </thead>\n",
       "  <tbody>\n",
       "    <tr>\n",
       "      <th>0</th>\n",
       "      <td>2015</td>\n",
       "      <td>Sorento</td>\n",
       "      <td>LX</td>\n",
       "      <td>SUV</td>\n",
       "      <td>automatic</td>\n",
       "      <td>5xyktca69fg566472</td>\n",
       "      <td>ca</td>\n",
       "      <td>5.0</td>\n",
       "      <td>16639.0</td>\n",
       "      <td>white</td>\n",
       "      <td>black</td>\n",
       "      <td>kia motors america, inc</td>\n",
       "      <td>20500</td>\n",
       "      <td>21500</td>\n",
       "      <td>Tue Dec 16 2014 12:30:00 GMT-0800 (PST)</td>\n",
       "      <td>kia</td>\n",
       "    </tr>\n",
       "    <tr>\n",
       "      <th>1</th>\n",
       "      <td>2015</td>\n",
       "      <td>Sorento</td>\n",
       "      <td>LX</td>\n",
       "      <td>SUV</td>\n",
       "      <td>automatic</td>\n",
       "      <td>5xyktca69fg561319</td>\n",
       "      <td>ca</td>\n",
       "      <td>5.0</td>\n",
       "      <td>9393.0</td>\n",
       "      <td>white</td>\n",
       "      <td>beige</td>\n",
       "      <td>kia motors america, inc</td>\n",
       "      <td>20800</td>\n",
       "      <td>21500</td>\n",
       "      <td>Tue Dec 16 2014 12:30:00 GMT-0800 (PST)</td>\n",
       "      <td>kia</td>\n",
       "    </tr>\n",
       "    <tr>\n",
       "      <th>2</th>\n",
       "      <td>2014</td>\n",
       "      <td>3 Series</td>\n",
       "      <td>328i SULEV</td>\n",
       "      <td>Sedan</td>\n",
       "      <td>automatic</td>\n",
       "      <td>wba3c1c51ek116351</td>\n",
       "      <td>ca</td>\n",
       "      <td>4.5</td>\n",
       "      <td>1331.0</td>\n",
       "      <td>gray</td>\n",
       "      <td>black</td>\n",
       "      <td>financial services remarketing (lease)</td>\n",
       "      <td>31900</td>\n",
       "      <td>30000</td>\n",
       "      <td>Thu Jan 15 2015 04:30:00 GMT-0800 (PST)</td>\n",
       "      <td>bmw</td>\n",
       "    </tr>\n",
       "    <tr>\n",
       "      <th>3</th>\n",
       "      <td>2015</td>\n",
       "      <td>S60</td>\n",
       "      <td>T5</td>\n",
       "      <td>Sedan</td>\n",
       "      <td>automatic</td>\n",
       "      <td>yv1612tb4f1310987</td>\n",
       "      <td>ca</td>\n",
       "      <td>4.1</td>\n",
       "      <td>14282.0</td>\n",
       "      <td>white</td>\n",
       "      <td>black</td>\n",
       "      <td>volvo na rep/world omni</td>\n",
       "      <td>27500</td>\n",
       "      <td>27750</td>\n",
       "      <td>Thu Jan 29 2015 04:30:00 GMT-0800 (PST)</td>\n",
       "      <td>volvo</td>\n",
       "    </tr>\n",
       "    <tr>\n",
       "      <th>4</th>\n",
       "      <td>2014</td>\n",
       "      <td>6 Series Gran Coupe</td>\n",
       "      <td>650i</td>\n",
       "      <td>Sedan</td>\n",
       "      <td>automatic</td>\n",
       "      <td>wba6b2c57ed129731</td>\n",
       "      <td>ca</td>\n",
       "      <td>4.3</td>\n",
       "      <td>2641.0</td>\n",
       "      <td>gray</td>\n",
       "      <td>black</td>\n",
       "      <td>financial services remarketing (lease)</td>\n",
       "      <td>66000</td>\n",
       "      <td>67000</td>\n",
       "      <td>Thu Dec 18 2014 12:30:00 GMT-0800 (PST)</td>\n",
       "      <td>bmw</td>\n",
       "    </tr>\n",
       "  </tbody>\n",
       "</table>\n",
       "</div>"
      ],
      "text/plain": [
       "   year                model        trim   body transmission  \\\n",
       "0  2015              Sorento          LX    SUV    automatic   \n",
       "1  2015              Sorento          LX    SUV    automatic   \n",
       "2  2014             3 Series  328i SULEV  Sedan    automatic   \n",
       "3  2015                  S60          T5  Sedan    automatic   \n",
       "4  2014  6 Series Gran Coupe        650i  Sedan    automatic   \n",
       "\n",
       "                 vin state  condition  odometer  color interior  \\\n",
       "0  5xyktca69fg566472    ca        5.0   16639.0  white    black   \n",
       "1  5xyktca69fg561319    ca        5.0    9393.0  white    beige   \n",
       "2  wba3c1c51ek116351    ca        4.5    1331.0   gray    black   \n",
       "3  yv1612tb4f1310987    ca        4.1   14282.0  white    black   \n",
       "4  wba6b2c57ed129731    ca        4.3    2641.0   gray    black   \n",
       "\n",
       "                                   seller    mmr  sellingprice  \\\n",
       "0                 kia motors america, inc  20500         21500   \n",
       "1                 kia motors america, inc  20800         21500   \n",
       "2  financial services remarketing (lease)  31900         30000   \n",
       "3                 volvo na rep/world omni  27500         27750   \n",
       "4  financial services remarketing (lease)  66000         67000   \n",
       "\n",
       "                                  saledate make_new  \n",
       "0  Tue Dec 16 2014 12:30:00 GMT-0800 (PST)      kia  \n",
       "1  Tue Dec 16 2014 12:30:00 GMT-0800 (PST)      kia  \n",
       "2  Thu Jan 15 2015 04:30:00 GMT-0800 (PST)      bmw  \n",
       "3  Thu Jan 29 2015 04:30:00 GMT-0800 (PST)    volvo  \n",
       "4  Thu Dec 18 2014 12:30:00 GMT-0800 (PST)      bmw  "
      ]
     },
     "execution_count": 32,
     "metadata": {},
     "output_type": "execute_result"
    }
   ],
   "source": [
    "updated_df.head()"
   ]
  },
  {
   "cell_type": "code",
   "execution_count": 33,
   "id": "ESF1QuxU0zag",
   "metadata": {
    "colab": {
     "base_uri": "https://localhost:8080/"
    },
    "id": "ESF1QuxU0zag",
    "outputId": "552d2b49-6783-4086-fb39-944ffa361b51"
   },
   "outputs": [
    {
     "data": {
      "text/plain": [
       "array(['kia', 'bmw', 'volvo', 'nissan', 'chevrolet', 'audi', 'ford',\n",
       "       'hyundai', 'buick', 'cadillac', 'acura', 'lexus', 'infiniti',\n",
       "       'jeep', 'mercedes', 'mitsubishi', 'mazda', 'mini', 'landrover',\n",
       "       'lincoln', 'jaguar', 'volkswagen', 'toyota', 'subaru', 'scion',\n",
       "       'porsche', 'dodge', 'fiat', 'chrysler', 'ferrari', 'honda', 'gmc',\n",
       "       'ram', 'smart', 'bentley', 'pontiac', 'saturn', 'maserati',\n",
       "       'mercury', 'hummer', 'saab', 'suzuki', 'oldsmobile', 'isuzu',\n",
       "       'geo', 'rolls-royce', 'daewoo', 'plymouth', 'tesla', 'airstream',\n",
       "       'dot', 'aston martin', 'fisker', 'lamborghini', 'lotus'],\n",
       "      dtype=object)"
      ]
     },
     "execution_count": 33,
     "metadata": {},
     "output_type": "execute_result"
    }
   ],
   "source": [
    "updated_df.make_new.unique()"
   ]
  },
  {
   "cell_type": "markdown",
   "id": "Fjrl83FX4Utx",
   "metadata": {
    "id": "Fjrl83FX4Utx"
   },
   "source": [
    "19- Checking of model and filling the missing values"
   ]
  },
  {
   "cell_type": "code",
   "execution_count": 34,
   "id": "vWM7c6Ys4ntJ",
   "metadata": {
    "colab": {
     "base_uri": "https://localhost:8080/"
    },
    "id": "vWM7c6Ys4ntJ",
    "outputId": "4adf9165-ff90-4b74-9709-dc4918acbc66"
   },
   "outputs": [
    {
     "data": {
      "text/plain": [
       "array(['Sorento', '3 Series', 'S60', '6 Series Gran Coupe', 'Altima',\n",
       "       'M5', 'Cruze', 'A4', 'Camaro', 'A6', 'Optima', 'Fusion', 'Sonata',\n",
       "       'Q5', '6 Series', 'Impala', '5 Series', 'A3', 'XC70', 'X5', 'SQ5',\n",
       "       'S5', 'Verano', 'Suburban', 'ELR', 'V60', 'X6', 'ILX', 'K900',\n",
       "       'Malibu', 'RX 350', 'Versa', 'Elantra', 'Versa Note', 'A8', 'X1',\n",
       "       nan, 'Enclave', 'TTS', '4 Series', 'Silverado 2500HD', 'MDX',\n",
       "       'Silverado 1500', 'SRX', 'G Coupe', 'G Sedan', 'FX', 'Santa Fe',\n",
       "       'Genesis', 'Equus', 'Sonata Hybrid', 'Accent', 'Veloster',\n",
       "       'Elantra Coupe', 'Azera', 'Tucson', 'Genesis Coupe', 'Wrangler',\n",
       "       'S-Class', 'GS 350', 'Outlander', 'C-Class', 'Mazda2', 'Rio', 'M',\n",
       "       '370Z', 'Soul', 'Outlander Sport', 'SLK-Class', 'ES 350',\n",
       "       'E-Class', 'Mazda3', 'Cooper Clubman', 'Cooper', 'CX-9', 'Forte',\n",
       "       'Compass', 'JX', 'RX 450h', 'LR4', 'Mazda5', 'Range Rover Evoque',\n",
       "       'LS 460', 'GLK-Class', 'Sportage', 'Grand Cherokee', 'MKX', 'mkt',\n",
       "       'XF', 'GL-Class', 'M-Class', 'Cooper Countryman', 'Lancer',\n",
       "       'Range Rover Sport', 'Passat', 'Corolla', 'XC60', 'Sienna', 'Juke',\n",
       "       'Yaris', 'Sentra', 'Rogue', 'NV', 'CC', 'Leaf', 'Camry', 'Tacoma',\n",
       "       'Jetta', 'Impreza WRX', 'FJ Cruiser', 'Beetle', 'Avalon', 'FR-S',\n",
       "       'NV200', 'RAV4', 'Quest', 'Tundra', 'tC', 'Maxima', 'Cayenne',\n",
       "       '911', 'Xterra', 'Prius', 'S80', 'Frontier', 'Boxster',\n",
       "       'Camry Hybrid', 'xB', 'Cube', 'Jetta SportWagen', '4Runner',\n",
       "       'Sequoia', 'Legacy', 'Armada', 'Venza', 'Murano', 'Pathfinder',\n",
       "       'Panamera', 'Forester', 'Highlander', 'Impreza', '750i', 'TSX',\n",
       "       '7 Series', '1 Series', 'TL', '750li', 'S4', 'A7', 'A5', 'RDX',\n",
       "       'M3', 'Cooper Coupe', 'ZDX', 'R8', 'X3', 'Avenger',\n",
       "       'E-Series Wagon', 'Escape', 'Edge', 'Focus', 'Flex', 'Z4',\n",
       "       'Traverse', 'F-350 Super Duty', 'Fiesta', '500', '200', 'Journey',\n",
       "       'Charger', 'e350', 'Equinox', '300', 'F-150', 'Explorer',\n",
       "       'Captiva Sport', 'Escalade', 'Grand Caravan', 'CTS Coupe',\n",
       "       'Town and Country', 'E-Series Van', 'Volt', 'Express Cargo',\n",
       "       'e150', 'X5 M', 'Expedition', 'Colorado', 'Express', 'California',\n",
       "       'Escalade ESV', 'Sonic', 'Accord', 'CR-V', 'Mustang', 'Civic',\n",
       "       'Fit', 'Pilot', 'Odyssey', 'Crosstour', 'Transit Connect',\n",
       "       'Terrain', 'Taurus', 'G Convertible', 'Yukon', 'Veracruz', 'XJ',\n",
       "       'Liberty', 'IS 250', 'XK', 'QX', 'CT 200h', 'Mazda6', 'MKZ',\n",
       "       'Navigator', 'Range Rover', 'SL-Class', 'Sedona', 'IS 350',\n",
       "       'Patriot', 'galant', '1500', 'GT-R', '2500', 'Galant', 'fortwo',\n",
       "       'GLI', '5 Series Gran Turismo', 'XC90', 'Tiguan', 'GTI', 'Q7',\n",
       "       'Highlander Hybrid', 'Prius Plug-in', 'CR-Z', 'EX', 'Sierra 1500',\n",
       "       'LaCrosse', 'HHR', 'Accord Crosstour', 'CTS', 'Nitro', 'Tahoe',\n",
       "       'Challenger', 'CTS-V', 'Escape Hybrid', 'X6 M', 'Ranger',\n",
       "       'Insight', 'Fusion Hybrid', 'CTS-V Coupe', 'F-250 Super Duty',\n",
       "       'Acadia', 'Impala Limited', 'Dart', 'Spark', 'M37', 'Sprinter',\n",
       "       'Town Car', 'CLS-Class', 'CX-7', 'MKT', 'QX56', 'Aveo', 'Outback',\n",
       "       'Caliber', 'Routan', 'g1500', 'Sebring', 'Corvette',\n",
       "       'Continental GT Speed', 'malibu', 'Land Cruiser', 'town', 'V50',\n",
       "       'Commander', 'Altima Hybrid', 'G37 Convertible', 'g6',\n",
       "       'New Beetle', 'Golf', 'LR2', 'Lancer Sportback', 'G5', 'Yukon XL',\n",
       "       'Escalade Hybrid', 'Avalanche', 'Titan', 'Spectra', 'Rondo',\n",
       "       'Borrego', 'G-Class', 'MKS', 'CLK-Class', 'Tahoe Hybrid',\n",
       "       'Econoline Cargo', 'Econoline Wagon', 'PT Cruiser', 'STS',\n",
       "       'Ridgeline', 'F-450 Super Duty', 'Magnum', 'Durango', 'S40',\n",
       "       'Malibu Classic', 'TT', 'Taurus X', 'Explorer Sport Trac',\n",
       "       'Ram Pickup 1500', 'impala', 'Cobalt', 'Pacifica', 'S6', 'Rabbit',\n",
       "       'C70', 'Sierra 2500HD', 'C30', 'VUE', 'GranTurismo', 'G6',\n",
       "       'Grand Prix', '350Z', 'Raider', 'Mazdaspeed Mazda3', 'Solstice',\n",
       "       'Milan', 'GX 470', 'Aura', 'RX 400h', 'Matrix', 'H3', 'CL-Class',\n",
       "       'Outlook', '7', 'G37', 'IS F', 'Touareg 2', 'Lancer Evolution',\n",
       "       'G35', 'xD', 'XJ-Series', 'G8', 'hhr', 'H2', 'DTS', 'lr3', 'sts',\n",
       "       'Silverado 1500 Classic', 'M45', 'Uplander', 'GS 450h', 'corvette',\n",
       "       'rangerover', 'Rendezvous', 'Monte Carlo', 'FX35', 'range', 'ION',\n",
       "       'R-Class', 'lancer', 'Eclipse', 'c230wz', 'cx-7', 'B9 Tribeca',\n",
       "       'matrix', 'tundra', 'RSX', 'mazda5', 'Mariner', 'gx',\n",
       "       'Five Hundred', 'Envoy XL', 'S-Type', 'Element',\n",
       "       'Continental Flying Spur', 'S2000', 'FX45', 'sr', 'pilot',\n",
       "       'GS 430', 'Cayman S', 'Mark LT', 'ES 330', 'GS 300', '350z',\n",
       "       'Camry Solara', 'rx8', 'Touareg', 'Relay', 'lx', 'allroad quattro',\n",
       "       '9-3', '500L', 'C-Max Hybrid', 'pacifica', 'Freestyle',\n",
       "       'Ram Pickup 3500', 'Sprinter Cargo', 'DeVille', 'H2 SUT',\n",
       "       'TrailBlazer', 'Canyon', 'srx', 'Dakota', 'Continental GT', 'Neon',\n",
       "       'Stratus', 'Q45', 'Freestar', 'Montana', 'Grand Marquis', 'XLR',\n",
       "       'Aviator', 'g55', 'MPV', 'LS 430', 'Verona', 'Forenza', 'RX 330',\n",
       "       '300M', 'SC 430', 'discovery', 'Excursion', 'Envoy XUV', 'Envoy',\n",
       "       'Concorde', 'Monterey', 'stratus', 'Mountaineer', 'Amanti',\n",
       "       'Malibu Maxx', 'Celica', 'Grand Am', 'Endeavor', 'Marauder',\n",
       "       'escape', 'QX4', 'LS', 'Blazer', 'Ram Pickup 2500', 'LeSabre',\n",
       "       'V40', 'Mazdaspeed Protege', 'Montero', 'ES 300', 'focus',\n",
       "       'Thunderbird', 'Century', 'Cavalier', 'Venture', 'S-10', 's55',\n",
       "       'Cougar', 'XL-7', 'Windstar', 'Silverado 1500HD', 'Explorer Sport',\n",
       "       'Savana Cargo', 'X-Type', 'Sonoma', 'IS 300', 'forester',\n",
       "       'Protege5', 'sprinter', 'RL', 'Alero', 'Grand Vitara', 'RX 300',\n",
       "       'L-Series', 'V70', 'Intrigue', 'XC', 'Discovery Series II',\n",
       "       'S-Series', 'alero', 'santa', 'ECHO', 'MX-5 Miata', 'Continental',\n",
       "       'Seville', 'camry', 'Park Avenue', 'Millenia', 'I30', 'gr',\n",
       "       'sienna', 'camaro', 'Cherokee', 'Z3', 'civic', 'ram', 'odyssey',\n",
       "       'taurus', 'expedition', 'Prizm', 'Escort', 's10', 'LHS',\n",
       "       'windstar', 'f250', 'Regal', 'explorer', 'G20', 'Bonneville',\n",
       "       'Eldorado', 'voyager', 'venture', 'durango', 'Intrepid', 'Contour',\n",
       "       'S90', 'Sunfire', 'mpv', 'caravan', '200SX', 'Rodeo', 'wrangler',\n",
       "       'f150', 'Tercel', 'S70', 'Discovery', 'Mustang SVT Cobra', '300e',\n",
       "       'pickup', 'ciera', 'Legend', 'LS 400', 'Cutlass Ciera',\n",
       "       'Santa Fe Sport', 'Cadenza', 'Q50', 'Elantra GT', 'F-TYPE',\n",
       "       'Shelby GT500', 'QX70', 'QX60', 'Q60 Convertible',\n",
       "       'Cooper Roadster', 'CX-5', 'Cooper Paceman', 'Rogue Select',\n",
       "       'Cayman', 'CLA-Class', 'allroad', 'ATS', 'Prius v',\n",
       "       'Continental GTC', 'XV Crosstrek', '3500', 'C-Max Energi',\n",
       "       'Focus ST', 'RS 7', 'GX 460', 'CTS Wagon', 'SLS AMG', 'Aspen',\n",
       "       'Eclipse Spyder', 'Vibe', 'Eos', 'Entourage', 'expeditn', 'rl',\n",
       "       'Caravan', 'Quattroporte', 'M35', '9-5', 'SSR', 'Astro Cargo',\n",
       "       'Safari Cargo', 'passat', 'Tribute', 'Diamante', 'Sable',\n",
       "       'Silverado 3500', 'Phaeton', 'R32', 'I35', 'g500', 'Bravada',\n",
       "       'Tahoe Limited/Z71', 'Truck', 'C/K 1500 Series', 'grand', 'SC 300',\n",
       "       'Roadmaster', 'SC 400', '420sel', 'LX 570', 'QX80', 'RS 5',\n",
       "       'Jetta GLI', 'ES 300h', 'capt', 'M4', 'SX4', 'iQ', 'Kizashi',\n",
       "       'C/V Cargo Van', 'Prius c', '750lxi', 'alp', 'Lucerne',\n",
       "       'Escalade EXT', 'Silverado 3500HD', 'Crown Victoria',\n",
       "       'Sierra 3500HD', 'M56', 'rio', 'IS 250 C', '3', 'endeavor',\n",
       "       'corolla', 'jetta', 'ActiveHybrid X6', 'a4', 'dts', 'g3500',\n",
       "       'colorado', 'sebring', 'e250', 'police', 'Elantra Touring',\n",
       "       'G37 Coupe', 'HS 250h', 'journey', 'Mazdaspeed3', 'Milan Hybrid',\n",
       "       'Ghost', 'Silverado 1500 Hybrid', 'crown', 'Yukon Hybrid',\n",
       "       'elantra', 'optima', 'borrego', 'mazda6', '6', 'Mariner Hybrid',\n",
       "       'montana', 'Torrent', 'VUE Hybrid', 'G3', '9-7X', 'vibe',\n",
       "       'Expedition EL', 'Tiburon', 'patriot', 'LR3', 'Navigator L',\n",
       "       'Astra', 'Tribeca', 'XL7', 'sx4', 'Sky', 'Reno', 'M6', 'S8',\n",
       "       'Terraza', 'Silverado 2500HD Classic', 'uplander', 'ram3500',\n",
       "       'Sierra 1500 Classic', 'Sierra 2500HD Classic', 'Fusion Energi',\n",
       "       'XK-Series', 'quattroporte', 'B-Series Truck', 'mazda3', 'b200',\n",
       "       'Mazdaspeed Mazda6', 'Montego', 'g5', 'yaris', 'Rainier',\n",
       "       'TrailBlazer EXT', 'optra', 'Crossfire', 'magnum', 'savana',\n",
       "       'Sierra 1500HD', 'ridgelin', 'Savana', 'Zephyr', 'rrs', 'tribute',\n",
       "       'carrera', 'Montana SV6', 'wave', 'tt', 'Classic', 'pt',\n",
       "       'freestyle', 'Ascender', 'XG350', 'Q60 Coupe', 'Q70', 'QX50',\n",
       "       'pursuit', 'x-trail', 'GTO', 'xA', 'L300', 'Baja', '9-2X', 'Aerio',\n",
       "       'el', 'rainier', 'Silverado 2500', 'Astro', 'Tracker', 'intrepid',\n",
       "       'F-150 Heritage', 'expedit', 'accord', 'Freelander', 'c240w',\n",
       "       'MR2 Spyder', 'RS 6', '320i', 'Voyager', 'Axiom', 'cl55',\n",
       "       'Montero Sport', 'sl55', 'Protege', 'Silhouette', 'b1500',\n",
       "       'concorde', '626', 'Blackwood', 'Rodeo Sport', 'LX 470',\n",
       "       'Villager', 'Firebird', 'Aztek', 'Aurora', 'CL', 'EuroVan',\n",
       "       'Catera', 'Leganza', 'XG300', 'Prelude', 'Trooper', 'Prowler',\n",
       "       'Cabrio', 'Integra', 'cavalier', 'astro', 'excurs', 'dakota',\n",
       "       'Cirrus', 'twn&country', 'Jimmy', 'safari', 'ranger', 'sonoma',\n",
       "       'Sierra 2500', 'yukon', 'Sephia', 'Passport', 'Mirage', 'breeze',\n",
       "       'silhouette', 'villager', 'beetle', 'suburban', 'Lumina', 'Amigo',\n",
       "       'mountaineer', 'Esteem', 'pathfinder', 'quest', 'Breeze', 'e300dt',\n",
       "       'intrigue', 'lumina', 'Cabriolet', 'envoy', 'Cutlass', 'GS 400',\n",
       "       'E-150', 'Regency', 'thunderbird', 'B-Series Pickup', 'legacy',\n",
       "       'corsica', 'bronco', 'Le Baron', 'Caprice', 'Pickup', 'century',\n",
       "       '500-Class', '300-Class', 'previa', 'Murano CrossCabriolet',\n",
       "       'NV Cargo', 'Jetta Hybrid', 'S7', 'Encore', 'XTS',\n",
       "       'Black Diamond Avalanche', 'RLX', '2 Series', 'M6 Gran Coupe',\n",
       "       'regal', 'versa', 'BRZ', 'C/V Tradesman', 'Model S',\n",
       "       'Beetle Convertible', 'Golf R', 'routan', 'TSX Sport Wagon',\n",
       "       'interstate', 'a6', 'Corvette Stingray', 'SS', 'Mazdaspeed 3',\n",
       "       'i-MiEV', 'F430', 'EX35', 'swift', 'GranSport', 'escalade', 'neon',\n",
       "       'f350', 'Yukon Denali', 'Ghibli', '960', 'Cutlass Supreme',\n",
       "       'cougar', 'IS 350 C', 'lacrosse', 'tucson', '323i', 'cobalt', 'x3',\n",
       "       'Mazdaspeed MX-5 Miata', 'Ram Cargo', 'Safari', 'Eighty-Eight',\n",
       "       '850', 'J30', 'Promaster Cargo Van', 'sonic', 'rr', '1',\n",
       "       'Malibu Hybrid', '350', 'twn/cntry', 'Spirit', 'Accord Hybrid',\n",
       "       '3 Series Gran Turismo', 'e', 'cruze', 'c230', 'crossfire',\n",
       "       'Viper', 'Riviera', 'compass', 'Avalon Hybrid', 'RX-8',\n",
       "       'V8 Vantage', 'Equator', 'sportage', 'C/K 3500 Series',\n",
       "       'Mark VIII', 'charger', 'GranTurismo Convertible', 'avenger',\n",
       "       'equinox', 'allure', 'c240s', 'Vitara', 'avalon', 'eurovan',\n",
       "       'siera', 'pathfind', 'Eighty-Eight Royale', 'cherokee',\n",
       "       'ActiveHybrid 7', 'aveo', 'GS 460', 'Tribute Hybrid',\n",
       "       'Aura Hybrid', 'tahoe', 'g2500', '300ZX', 'Golf GTI', 'i-Series',\n",
       "       'golf', 'MKZ Hybrid', 'Macan', 'FX50', 'comm', 'STS-V',\n",
       "       'Windstar Cargo', 'CTS-V Wagon', 'Karma', '328i', 'Z4 M', '42c',\n",
       "       'subrbn', 'b2300', 'mountnr', 'Coupe', 'uplandr', 'Ram Van',\n",
       "       'Tempo', 'Tracer', 'CV Tradesman', 'DB9', 'C/K 2500 Series', 'i8',\n",
       "       'Rapide', 'Nubira', 'Corsica', 'NV Passenger', 'Spyder',\n",
       "       'LS 600h L', '400-Class', 'H3T', 'LX 450', 'WRX',\n",
       "       'Silverado 3500 Classic', '500e', 'Continental Supersports',\n",
       "       'Sierra 3500', 'Mystique', 'F-150 SVT Lightning', '190-Class',\n",
       "       'MKC', 'Aspire', '940', 'Gallardo',\n",
       "       'Continental Flying Spur Speed', '3000GT', 'TT RS', 'B-Series',\n",
       "       'ActiveHybrid 5', 'Sierra 1500 Hybrid', 'ML55 AMG', 'S-10 Blazer',\n",
       "       'RS 4', 'T100', 'Continental GTC Speed', 'mdx', 'Transit Van',\n",
       "       'F-250', 'Sidekick', 'E-250', '8 Series', '420-Class', 'E-350',\n",
       "       'Achieva', 'B-Class Electric Drive', 'Fleetwood', 'Paseo',\n",
       "       'Civic del Sol', 'Exige', 'X4', 'Spark EV', 'Transit Wagon', 'H1',\n",
       "       'SLS AMG GT', 'Flying Spur', 'Metro', 'Grand Cherokee SRT', 'RC F',\n",
       "       'Q3', '4 Series Gran Coupe', 'RC 350', '360', 'GLA-Class', 'TLX',\n",
       "       '458 Italia'], dtype=object)"
      ]
     },
     "execution_count": 34,
     "metadata": {},
     "output_type": "execute_result"
    }
   ],
   "source": [
    "updated_df.model.unique()"
   ]
  },
  {
   "cell_type": "code",
   "execution_count": 35,
   "id": "2q69EEgu445R",
   "metadata": {
    "colab": {
     "base_uri": "https://localhost:8080/"
    },
    "id": "2q69EEgu445R",
    "outputId": "84bc8b64-dcd2-4aa8-e9ce-d73caf67d6c5"
   },
   "outputs": [
    {
     "data": {
      "text/plain": [
       "974"
      ]
     },
     "execution_count": 35,
     "metadata": {},
     "output_type": "execute_result"
    }
   ],
   "source": [
    "len(updated_df.model.unique())"
   ]
  },
  {
   "cell_type": "code",
   "execution_count": 36,
   "id": "vMor2DaC5F5P",
   "metadata": {
    "colab": {
     "base_uri": "https://localhost:8080/"
    },
    "id": "vMor2DaC5F5P",
    "outputId": "4e05f814-b7d8-43c9-e5c6-e727d7d7d1c8"
   },
   "outputs": [
    {
     "data": {
      "text/plain": [
       "Altima        3.53\n",
       "F-150         2.64\n",
       "Fusion        2.36\n",
       "Camry         2.29\n",
       "Escape        2.16\n",
       "              ... \n",
       "rrs           0.00\n",
       "golf          0.00\n",
       "g500          0.00\n",
       "tahoe         0.00\n",
       "458 Italia    0.00\n",
       "Name: model, Length: 973, dtype: float64"
      ]
     },
     "execution_count": 36,
     "metadata": {},
     "output_type": "execute_result"
    }
   ],
   "source": [
    "round(updated_df.model.value_counts()/sum(updated_df.model.value_counts())*100,2)"
   ]
  },
  {
   "cell_type": "markdown",
   "id": "CDQgNwiR5izI",
   "metadata": {
    "id": "CDQgNwiR5izI"
   },
   "source": [
    "An overwhelming 3.53% of most cars are altima. Therefore, missing data in the make column has been updated by \"altima\"."
   ]
  },
  {
   "cell_type": "code",
   "execution_count": 37,
   "id": "UdpohTmR5rti",
   "metadata": {
    "colab": {
     "base_uri": "https://localhost:8080/"
    },
    "id": "UdpohTmR5rti",
    "outputId": "42f1e699-de16-411e-9c47-26b67d9b1532"
   },
   "outputs": [
    {
     "data": {
      "text/plain": [
       "year                0\n",
       "model               0\n",
       "trim            10651\n",
       "body            13195\n",
       "transmission        0\n",
       "vin                 0\n",
       "state               0\n",
       "condition       11794\n",
       "odometer           94\n",
       "color             749\n",
       "interior          749\n",
       "seller              0\n",
       "mmr                 0\n",
       "sellingprice        0\n",
       "saledate            0\n",
       "make_new            0\n",
       "dtype: int64"
      ]
     },
     "execution_count": 37,
     "metadata": {},
     "output_type": "execute_result"
    }
   ],
   "source": [
    "updated_df.model.fillna(\"Altima\", inplace=True)\n",
    "updated_df.isnull().sum()"
   ]
  },
  {
   "cell_type": "markdown",
   "id": "359b3Mxm9teL",
   "metadata": {
    "id": "359b3Mxm9teL"
   },
   "source": [
    "20- Checking of trim and filling the missing values"
   ]
  },
  {
   "cell_type": "code",
   "execution_count": 38,
   "id": "XYvJGWQ1B3IT",
   "metadata": {
    "colab": {
     "base_uri": "https://localhost:8080/"
    },
    "id": "XYvJGWQ1B3IT",
    "outputId": "22973e44-bf79-4b06-a101-2cab07b9db08"
   },
   "outputs": [
    {
     "data": {
      "text/plain": [
       "1976"
      ]
     },
     "execution_count": 38,
     "metadata": {},
     "output_type": "execute_result"
    }
   ],
   "source": [
    "len(updated_df.trim.unique())"
   ]
  },
  {
   "cell_type": "code",
   "execution_count": 39,
   "id": "2c7bcfcd",
   "metadata": {},
   "outputs": [
    {
     "data": {
      "text/plain": [
       "array(['LX', '328i SULEV', 'T5', ..., 'pure', 'EWB', 'Power Wagon'],\n",
       "      dtype=object)"
      ]
     },
     "execution_count": 39,
     "metadata": {},
     "output_type": "execute_result"
    }
   ],
   "source": [
    "updated_df.trim.unique()"
   ]
  },
  {
   "cell_type": "markdown",
   "id": "wCUCWbJLCY5T",
   "metadata": {
    "id": "wCUCWbJLCY5T"
   },
   "source": [
    "Having 1975 different styles is a very high number for my model and may affect the model's logical conclusion. That's why we decided to delete this column."
   ]
  },
  {
   "cell_type": "code",
   "execution_count": 40,
   "id": "-jLiqzWYCZxG",
   "metadata": {
    "id": "-jLiqzWYCZxG"
   },
   "outputs": [
    {
     "data": {
      "text/plain": [
       "Base                 10.18\n",
       "SE                    7.96\n",
       "LX                    3.79\n",
       "Limited               3.35\n",
       "LT                    3.09\n",
       "                     ...  \n",
       "xls                   0.00\n",
       "4x2 reg silverado     0.00\n",
       "awd v8 limited        0.00\n",
       "4x2 v6 limited        0.00\n",
       "Power Wagon           0.00\n",
       "Name: trim, Length: 1975, dtype: float64"
      ]
     },
     "execution_count": 40,
     "metadata": {},
     "output_type": "execute_result"
    }
   ],
   "source": [
    "round(updated_df.trim.value_counts()/sum(updated_df.trim.value_counts())*100,2)"
   ]
  },
  {
   "cell_type": "code",
   "execution_count": 41,
   "id": "8a53213e",
   "metadata": {},
   "outputs": [
    {
     "data": {
      "text/plain": [
       "year                0\n",
       "model               0\n",
       "trim                0\n",
       "body            13195\n",
       "transmission        0\n",
       "vin                 0\n",
       "state               0\n",
       "condition       11794\n",
       "odometer           94\n",
       "color             749\n",
       "interior          749\n",
       "seller              0\n",
       "mmr                 0\n",
       "sellingprice        0\n",
       "saledate            0\n",
       "make_new            0\n",
       "dtype: int64"
      ]
     },
     "execution_count": 41,
     "metadata": {},
     "output_type": "execute_result"
    }
   ],
   "source": [
    "updated_df.trim.fillna(\"Base\", inplace=True)\n",
    "updated_df.isnull().sum()"
   ]
  },
  {
   "cell_type": "code",
   "execution_count": 42,
   "id": "seSHA-TwC87t",
   "metadata": {
    "colab": {
     "base_uri": "https://localhost:8080/",
     "height": 206
    },
    "id": "seSHA-TwC87t",
    "outputId": "5aba125b-9bbc-4d10-da19-2210b0571ad5"
   },
   "outputs": [
    {
     "data": {
      "text/html": [
       "<div>\n",
       "<style scoped>\n",
       "    .dataframe tbody tr th:only-of-type {\n",
       "        vertical-align: middle;\n",
       "    }\n",
       "\n",
       "    .dataframe tbody tr th {\n",
       "        vertical-align: top;\n",
       "    }\n",
       "\n",
       "    .dataframe thead th {\n",
       "        text-align: right;\n",
       "    }\n",
       "</style>\n",
       "<table border=\"1\" class=\"dataframe\">\n",
       "  <thead>\n",
       "    <tr style=\"text-align: right;\">\n",
       "      <th></th>\n",
       "      <th>year</th>\n",
       "      <th>model</th>\n",
       "      <th>trim</th>\n",
       "      <th>body</th>\n",
       "      <th>transmission</th>\n",
       "      <th>vin</th>\n",
       "      <th>state</th>\n",
       "      <th>condition</th>\n",
       "      <th>odometer</th>\n",
       "      <th>color</th>\n",
       "      <th>interior</th>\n",
       "      <th>seller</th>\n",
       "      <th>mmr</th>\n",
       "      <th>sellingprice</th>\n",
       "      <th>saledate</th>\n",
       "      <th>make_new</th>\n",
       "    </tr>\n",
       "  </thead>\n",
       "  <tbody>\n",
       "    <tr>\n",
       "      <th>0</th>\n",
       "      <td>2015</td>\n",
       "      <td>Sorento</td>\n",
       "      <td>LX</td>\n",
       "      <td>SUV</td>\n",
       "      <td>automatic</td>\n",
       "      <td>5xyktca69fg566472</td>\n",
       "      <td>ca</td>\n",
       "      <td>5.0</td>\n",
       "      <td>16639.0</td>\n",
       "      <td>white</td>\n",
       "      <td>black</td>\n",
       "      <td>kia motors america, inc</td>\n",
       "      <td>20500</td>\n",
       "      <td>21500</td>\n",
       "      <td>Tue Dec 16 2014 12:30:00 GMT-0800 (PST)</td>\n",
       "      <td>kia</td>\n",
       "    </tr>\n",
       "    <tr>\n",
       "      <th>1</th>\n",
       "      <td>2015</td>\n",
       "      <td>Sorento</td>\n",
       "      <td>LX</td>\n",
       "      <td>SUV</td>\n",
       "      <td>automatic</td>\n",
       "      <td>5xyktca69fg561319</td>\n",
       "      <td>ca</td>\n",
       "      <td>5.0</td>\n",
       "      <td>9393.0</td>\n",
       "      <td>white</td>\n",
       "      <td>beige</td>\n",
       "      <td>kia motors america, inc</td>\n",
       "      <td>20800</td>\n",
       "      <td>21500</td>\n",
       "      <td>Tue Dec 16 2014 12:30:00 GMT-0800 (PST)</td>\n",
       "      <td>kia</td>\n",
       "    </tr>\n",
       "    <tr>\n",
       "      <th>2</th>\n",
       "      <td>2014</td>\n",
       "      <td>3 Series</td>\n",
       "      <td>328i SULEV</td>\n",
       "      <td>Sedan</td>\n",
       "      <td>automatic</td>\n",
       "      <td>wba3c1c51ek116351</td>\n",
       "      <td>ca</td>\n",
       "      <td>4.5</td>\n",
       "      <td>1331.0</td>\n",
       "      <td>gray</td>\n",
       "      <td>black</td>\n",
       "      <td>financial services remarketing (lease)</td>\n",
       "      <td>31900</td>\n",
       "      <td>30000</td>\n",
       "      <td>Thu Jan 15 2015 04:30:00 GMT-0800 (PST)</td>\n",
       "      <td>bmw</td>\n",
       "    </tr>\n",
       "    <tr>\n",
       "      <th>3</th>\n",
       "      <td>2015</td>\n",
       "      <td>S60</td>\n",
       "      <td>T5</td>\n",
       "      <td>Sedan</td>\n",
       "      <td>automatic</td>\n",
       "      <td>yv1612tb4f1310987</td>\n",
       "      <td>ca</td>\n",
       "      <td>4.1</td>\n",
       "      <td>14282.0</td>\n",
       "      <td>white</td>\n",
       "      <td>black</td>\n",
       "      <td>volvo na rep/world omni</td>\n",
       "      <td>27500</td>\n",
       "      <td>27750</td>\n",
       "      <td>Thu Jan 29 2015 04:30:00 GMT-0800 (PST)</td>\n",
       "      <td>volvo</td>\n",
       "    </tr>\n",
       "    <tr>\n",
       "      <th>4</th>\n",
       "      <td>2014</td>\n",
       "      <td>6 Series Gran Coupe</td>\n",
       "      <td>650i</td>\n",
       "      <td>Sedan</td>\n",
       "      <td>automatic</td>\n",
       "      <td>wba6b2c57ed129731</td>\n",
       "      <td>ca</td>\n",
       "      <td>4.3</td>\n",
       "      <td>2641.0</td>\n",
       "      <td>gray</td>\n",
       "      <td>black</td>\n",
       "      <td>financial services remarketing (lease)</td>\n",
       "      <td>66000</td>\n",
       "      <td>67000</td>\n",
       "      <td>Thu Dec 18 2014 12:30:00 GMT-0800 (PST)</td>\n",
       "      <td>bmw</td>\n",
       "    </tr>\n",
       "  </tbody>\n",
       "</table>\n",
       "</div>"
      ],
      "text/plain": [
       "   year                model        trim   body transmission  \\\n",
       "0  2015              Sorento          LX    SUV    automatic   \n",
       "1  2015              Sorento          LX    SUV    automatic   \n",
       "2  2014             3 Series  328i SULEV  Sedan    automatic   \n",
       "3  2015                  S60          T5  Sedan    automatic   \n",
       "4  2014  6 Series Gran Coupe        650i  Sedan    automatic   \n",
       "\n",
       "                 vin state  condition  odometer  color interior  \\\n",
       "0  5xyktca69fg566472    ca        5.0   16639.0  white    black   \n",
       "1  5xyktca69fg561319    ca        5.0    9393.0  white    beige   \n",
       "2  wba3c1c51ek116351    ca        4.5    1331.0   gray    black   \n",
       "3  yv1612tb4f1310987    ca        4.1   14282.0  white    black   \n",
       "4  wba6b2c57ed129731    ca        4.3    2641.0   gray    black   \n",
       "\n",
       "                                   seller    mmr  sellingprice  \\\n",
       "0                 kia motors america, inc  20500         21500   \n",
       "1                 kia motors america, inc  20800         21500   \n",
       "2  financial services remarketing (lease)  31900         30000   \n",
       "3                 volvo na rep/world omni  27500         27750   \n",
       "4  financial services remarketing (lease)  66000         67000   \n",
       "\n",
       "                                  saledate make_new  \n",
       "0  Tue Dec 16 2014 12:30:00 GMT-0800 (PST)      kia  \n",
       "1  Tue Dec 16 2014 12:30:00 GMT-0800 (PST)      kia  \n",
       "2  Thu Jan 15 2015 04:30:00 GMT-0800 (PST)      bmw  \n",
       "3  Thu Jan 29 2015 04:30:00 GMT-0800 (PST)    volvo  \n",
       "4  Thu Dec 18 2014 12:30:00 GMT-0800 (PST)      bmw  "
      ]
     },
     "execution_count": 42,
     "metadata": {},
     "output_type": "execute_result"
    }
   ],
   "source": [
    "updated_df.head()"
   ]
  },
  {
   "cell_type": "code",
   "execution_count": 43,
   "id": "3SDP6mlpC_sx",
   "metadata": {
    "colab": {
     "base_uri": "https://localhost:8080/"
    },
    "id": "3SDP6mlpC_sx",
    "outputId": "508bab7e-b2a9-4996-bfa0-55d0751f9486"
   },
   "outputs": [
    {
     "data": {
      "text/plain": [
       "year                0\n",
       "model               0\n",
       "trim                0\n",
       "body            13195\n",
       "transmission        0\n",
       "vin                 0\n",
       "state               0\n",
       "condition       11794\n",
       "odometer           94\n",
       "color             749\n",
       "interior          749\n",
       "seller              0\n",
       "mmr                 0\n",
       "sellingprice        0\n",
       "saledate            0\n",
       "make_new            0\n",
       "dtype: int64"
      ]
     },
     "execution_count": 43,
     "metadata": {},
     "output_type": "execute_result"
    }
   ],
   "source": [
    "updated_df.isnull().sum()"
   ]
  },
  {
   "cell_type": "markdown",
   "id": "lLWqmmuoDLxi",
   "metadata": {
    "id": "lLWqmmuoDLxi"
   },
   "source": [
    "21- Checking of body and filling the missing values"
   ]
  },
  {
   "cell_type": "code",
   "execution_count": 44,
   "id": "sSZFL8HpDO6j",
   "metadata": {
    "colab": {
     "base_uri": "https://localhost:8080/"
    },
    "id": "sSZFL8HpDO6j",
    "outputId": "4559171c-7faa-4148-fe0d-96cfd8e79c2d"
   },
   "outputs": [
    {
     "data": {
      "text/plain": [
       "87"
      ]
     },
     "execution_count": 44,
     "metadata": {},
     "output_type": "execute_result"
    }
   ],
   "source": [
    "len(updated_df.body.unique())"
   ]
  },
  {
   "cell_type": "code",
   "execution_count": 45,
   "id": "7PPX5KU8DTkk",
   "metadata": {
    "colab": {
     "base_uri": "https://localhost:8080/"
    },
    "id": "7PPX5KU8DTkk",
    "outputId": "91529225-1b37-43b8-f953-830a7ab773ef"
   },
   "outputs": [
    {
     "data": {
      "text/plain": [
       "array(['SUV', 'Sedan', 'Convertible', 'Coupe', 'Wagon', 'Hatchback',\n",
       "       'Crew Cab', 'G Coupe', 'G Sedan', 'Elantra Coupe', 'Genesis Coupe',\n",
       "       'Minivan', nan, 'Van', 'Double Cab', 'CrewMax Cab', 'Access Cab',\n",
       "       'King Cab', 'SuperCrew', 'CTS Coupe', 'Extended Cab',\n",
       "       'E-Series Van', 'SuperCab', 'Regular Cab', 'G Convertible', 'Koup',\n",
       "       'Quad Cab', 'CTS-V Coupe', 'sedan', 'G37 Convertible', 'Club Cab',\n",
       "       'Xtracab', 'Q60 Convertible', 'CTS Wagon', 'convertible',\n",
       "       'G37 Coupe', 'Mega Cab', 'Cab Plus 4', 'Q60 Coupe', 'Cab Plus',\n",
       "       'Beetle Convertible', 'TSX Sport Wagon', 'Promaster Cargo Van',\n",
       "       'GranTurismo Convertible', 'CTS-V Wagon', 'Ram Van', 'minivan',\n",
       "       'suv', 'Transit Van', 'van', 'regular-cab', 'g sedan', 'g coupe',\n",
       "       'hatchback', 'king cab', 'supercrew', 'g convertible', 'coupe',\n",
       "       'crew cab', 'wagon', 'double cab', 'e-series van', 'regular cab',\n",
       "       'quad cab', 'g37 convertible', 'supercab', 'extended cab',\n",
       "       'crewmax cab', 'genesis coupe', 'access cab', 'mega cab',\n",
       "       'xtracab', 'beetle convertible', 'cts coupe', 'koup', 'club cab',\n",
       "       'elantra coupe', 'q60 coupe', 'cts-v coupe', 'transit van',\n",
       "       'granturismo convertible', 'tsx sport wagon',\n",
       "       'promaster cargo van', 'q60 convertible', 'g37 coupe',\n",
       "       'cab plus 4', 'cts wagon'], dtype=object)"
      ]
     },
     "execution_count": 45,
     "metadata": {},
     "output_type": "execute_result"
    }
   ],
   "source": [
    "updated_df.body.unique()"
   ]
  },
  {
   "cell_type": "markdown",
   "id": "qcF6bPHcEdrH",
   "metadata": {
    "id": "qcF6bPHcEdrH"
   },
   "source": [
    "There are two problems in here.\n",
    "1. Lower-upper case \n",
    "2. Short and long definition"
   ]
  },
  {
   "cell_type": "code",
   "execution_count": 46,
   "id": "MTQijFkGDWKn",
   "metadata": {
    "colab": {
     "base_uri": "https://localhost:8080/"
    },
    "id": "MTQijFkGDWKn",
    "outputId": "dae886ec-430d-4158-efb2-b2bb748ce989"
   },
   "outputs": [
    {
     "data": {
      "text/plain": [
       "array(['suv', 'sedan', 'convertible', 'coupe', 'wagon', 'hatchback',\n",
       "       'crew cab', 'g coupe', 'g sedan', 'elantra coupe', 'genesis coupe',\n",
       "       'minivan', nan, 'van', 'double cab', 'crewmax cab', 'access cab',\n",
       "       'king cab', 'supercrew', 'cts coupe', 'extended cab',\n",
       "       'e-series van', 'supercab', 'regular cab', 'g convertible', 'koup',\n",
       "       'quad cab', 'cts-v coupe', 'g37 convertible', 'club cab',\n",
       "       'xtracab', 'q60 convertible', 'cts wagon', 'g37 coupe', 'mega cab',\n",
       "       'cab plus 4', 'q60 coupe', 'cab plus', 'beetle convertible',\n",
       "       'tsx sport wagon', 'promaster cargo van',\n",
       "       'granturismo convertible', 'cts-v wagon', 'ram van', 'transit van',\n",
       "       'regular-cab'], dtype=object)"
      ]
     },
     "execution_count": 46,
     "metadata": {},
     "output_type": "execute_result"
    }
   ],
   "source": [
    "updated_df.body = updated_df.body.str.lower()\n",
    "updated_df.body.unique()"
   ]
  },
  {
   "cell_type": "code",
   "execution_count": 47,
   "id": "s3DyiRmzEu44",
   "metadata": {
    "colab": {
     "base_uri": "https://localhost:8080/"
    },
    "id": "s3DyiRmzEu44",
    "outputId": "0b43a9b8-508f-4c19-ea90-a0bb4a3cc5ff"
   },
   "outputs": [
    {
     "data": {
      "text/plain": [
       "sedan                      44.23\n",
       "suv                        26.36\n",
       "hatchback                   4.81\n",
       "minivan                     4.68\n",
       "coupe                       3.25\n",
       "crew cab                    3.00\n",
       "wagon                       2.96\n",
       "convertible                 1.92\n",
       "supercrew                   1.66\n",
       "g sedan                     1.36\n",
       "supercab                    0.97\n",
       "regular cab                 0.89\n",
       "van                         0.83\n",
       "extended cab                0.83\n",
       "quad cab                    0.75\n",
       "e-series van                0.33\n",
       "double cab                  0.29\n",
       "g coupe                     0.29\n",
       "crewmax cab                 0.10\n",
       "king cab                    0.10\n",
       "g convertible               0.06\n",
       "access cab                  0.05\n",
       "genesis coupe               0.05\n",
       "koup                        0.03\n",
       "club cab                    0.03\n",
       "cts coupe                   0.03\n",
       "mega cab                    0.02\n",
       "elantra coupe               0.02\n",
       "promaster cargo van         0.01\n",
       "beetle convertible          0.01\n",
       "xtracab                     0.01\n",
       "q60 convertible             0.01\n",
       "tsx sport wagon             0.01\n",
       "q60 coupe                   0.01\n",
       "cts-v coupe                 0.01\n",
       "g37 convertible             0.00\n",
       "transit van                 0.00\n",
       "regular-cab                 0.00\n",
       "cts wagon                   0.00\n",
       "granturismo convertible     0.00\n",
       "g37 coupe                   0.00\n",
       "cab plus 4                  0.00\n",
       "cab plus                    0.00\n",
       "cts-v wagon                 0.00\n",
       "ram van                     0.00\n",
       "Name: body, dtype: float64"
      ]
     },
     "execution_count": 47,
     "metadata": {},
     "output_type": "execute_result"
    }
   ],
   "source": [
    "round(updated_df.body.value_counts()/sum(updated_df.body.value_counts())*100,2)"
   ]
  },
  {
   "cell_type": "code",
   "execution_count": 48,
   "id": "c22u2mIUFLj_",
   "metadata": {
    "colab": {
     "base_uri": "https://localhost:8080/"
    },
    "id": "c22u2mIUFLj_",
    "outputId": "9138ebf8-692e-4569-b9df-1261285412d7"
   },
   "outputs": [
    {
     "data": {
      "text/plain": [
       "year                0\n",
       "model               0\n",
       "trim                0\n",
       "body                0\n",
       "transmission        0\n",
       "vin                 0\n",
       "state               0\n",
       "condition       11794\n",
       "odometer           94\n",
       "color             749\n",
       "interior          749\n",
       "seller              0\n",
       "mmr                 0\n",
       "sellingprice        0\n",
       "saledate            0\n",
       "make_new            0\n",
       "dtype: int64"
      ]
     },
     "execution_count": 48,
     "metadata": {},
     "output_type": "execute_result"
    }
   ],
   "source": [
    "updated_df.body.fillna(\"sedan\", inplace=True)\n",
    "updated_df.isnull().sum()"
   ]
  },
  {
   "cell_type": "code",
   "execution_count": 49,
   "id": "PaC7YzGuFhKZ",
   "metadata": {
    "colab": {
     "base_uri": "https://localhost:8080/"
    },
    "id": "PaC7YzGuFhKZ",
    "outputId": "146bbd47-8a54-4419-b98c-d3fe6658b2d4"
   },
   "outputs": [
    {
     "data": {
      "text/plain": [
       "45"
      ]
     },
     "execution_count": 49,
     "metadata": {},
     "output_type": "execute_result"
    }
   ],
   "source": [
    "len(updated_df.body.unique())"
   ]
  },
  {
   "cell_type": "code",
   "execution_count": 50,
   "id": "oSks50pGFXsO",
   "metadata": {
    "colab": {
     "base_uri": "https://localhost:8080/"
    },
    "id": "oSks50pGFXsO",
    "outputId": "b5cb2596-338c-407c-b2ea-a1b48909b29f"
   },
   "outputs": [
    {
     "data": {
      "text/plain": [
       "sedan          261955\n",
       "suv            143844\n",
       "cab             47540\n",
       "van             31959\n",
       "hatchback       26237\n",
       "coupe           20163\n",
       "wagon           16180\n",
       "convertible     10933\n",
       "Name: body, dtype: int64"
      ]
     },
     "execution_count": 50,
     "metadata": {},
     "output_type": "execute_result"
    }
   ],
   "source": [
    "def standardise_body_types(batch):\n",
    "    '''standardises models types into specific body types'''\n",
    "    for index, value in batch.iteritems():\n",
    "        if \"suv\" in value:\n",
    "            batch[index] = \"suv\"\n",
    "        elif \"sedan\" in value:\n",
    "            batch[index] = \"sedan\" \n",
    "        elif \"convertible\" in value:\n",
    "            batch[index] = \"convertible\" \n",
    "        elif \"hatchback\" in value:\n",
    "            batch[index] = \"hatchback\" \n",
    "        elif \"coupe\" in value:\n",
    "            batch[index] = \"coupe\"\n",
    "        elif \"koup\" in value:\n",
    "            batch[index] = \"coupe\"\n",
    "        elif \"van\" in value:\n",
    "            batch[index] = \"van\"\n",
    "        elif \"cab\" in value:\n",
    "            batch[index] = \"cab\"\n",
    "        elif \"supercrew\" in value:\n",
    "            batch[index] = \"cab\"\n",
    "        elif \"wagon\" in value:\n",
    "            batch[index] = \"wagon\"\n",
    "        else:\n",
    "            pass \n",
    "        \n",
    "    return batch\n",
    "\n",
    "\n",
    "batch_list = np.array_split(updated_df.body, 20)\n",
    "    \n",
    "for batch in batch_list:\n",
    "    standardise_body_types(batch)\n",
    "\n",
    "new_body_series = pd.concat(batch_list, axis=0)\n",
    "new_body_series.value_counts()"
   ]
  },
  {
   "cell_type": "code",
   "execution_count": 51,
   "id": "dTEQIuZ1Gn_g",
   "metadata": {
    "id": "dTEQIuZ1Gn_g"
   },
   "outputs": [],
   "source": [
    "updated_df.drop(\"body\", axis=1, inplace=True)\n",
    "updated_df[\"body_new\"] = new_body_series\n"
   ]
  },
  {
   "cell_type": "code",
   "execution_count": 52,
   "id": "X79JS2eLGvnh",
   "metadata": {
    "colab": {
     "base_uri": "https://localhost:8080/"
    },
    "id": "X79JS2eLGvnh",
    "outputId": "4b578a4f-1b68-4782-8f70-24087626e067"
   },
   "outputs": [
    {
     "data": {
      "text/plain": [
       "8"
      ]
     },
     "execution_count": 52,
     "metadata": {},
     "output_type": "execute_result"
    }
   ],
   "source": [
    "len(updated_df.body_new.unique())"
   ]
  },
  {
   "cell_type": "code",
   "execution_count": 53,
   "id": "tRFLBRZQG07C",
   "metadata": {
    "colab": {
     "base_uri": "https://localhost:8080/"
    },
    "id": "tRFLBRZQG07C",
    "outputId": "763eb5c2-6e19-43b0-9740-3a2cdb8fa152"
   },
   "outputs": [
    {
     "data": {
      "text/plain": [
       "array(['suv', 'sedan', 'convertible', 'coupe', 'wagon', 'hatchback',\n",
       "       'cab', 'van'], dtype=object)"
      ]
     },
     "execution_count": 53,
     "metadata": {},
     "output_type": "execute_result"
    }
   ],
   "source": [
    "updated_df.body_new.unique()"
   ]
  },
  {
   "cell_type": "code",
   "execution_count": 54,
   "id": "IB_LLHEZHekv",
   "metadata": {
    "colab": {
     "base_uri": "https://localhost:8080/"
    },
    "id": "IB_LLHEZHekv",
    "outputId": "2843d88f-eba2-42fd-a5ec-616e738bd1e8"
   },
   "outputs": [
    {
     "data": {
      "text/plain": [
       "year                0\n",
       "model               0\n",
       "trim                0\n",
       "transmission        0\n",
       "vin                 0\n",
       "state               0\n",
       "condition       11794\n",
       "odometer           94\n",
       "color             749\n",
       "interior          749\n",
       "seller              0\n",
       "mmr                 0\n",
       "sellingprice        0\n",
       "saledate            0\n",
       "make_new            0\n",
       "body_new            0\n",
       "dtype: int64"
      ]
     },
     "execution_count": 54,
     "metadata": {},
     "output_type": "execute_result"
    }
   ],
   "source": [
    "updated_df.isnull().sum()"
   ]
  },
  {
   "cell_type": "code",
   "execution_count": 55,
   "id": "NjihlGGJHo5Y",
   "metadata": {
    "colab": {
     "base_uri": "https://localhost:8080/",
     "height": 206
    },
    "id": "NjihlGGJHo5Y",
    "outputId": "5c17595a-435a-4d06-bec5-accbd5004240"
   },
   "outputs": [
    {
     "data": {
      "text/html": [
       "<div>\n",
       "<style scoped>\n",
       "    .dataframe tbody tr th:only-of-type {\n",
       "        vertical-align: middle;\n",
       "    }\n",
       "\n",
       "    .dataframe tbody tr th {\n",
       "        vertical-align: top;\n",
       "    }\n",
       "\n",
       "    .dataframe thead th {\n",
       "        text-align: right;\n",
       "    }\n",
       "</style>\n",
       "<table border=\"1\" class=\"dataframe\">\n",
       "  <thead>\n",
       "    <tr style=\"text-align: right;\">\n",
       "      <th></th>\n",
       "      <th>year</th>\n",
       "      <th>model</th>\n",
       "      <th>trim</th>\n",
       "      <th>transmission</th>\n",
       "      <th>vin</th>\n",
       "      <th>state</th>\n",
       "      <th>condition</th>\n",
       "      <th>odometer</th>\n",
       "      <th>color</th>\n",
       "      <th>interior</th>\n",
       "      <th>seller</th>\n",
       "      <th>mmr</th>\n",
       "      <th>sellingprice</th>\n",
       "      <th>saledate</th>\n",
       "      <th>make_new</th>\n",
       "      <th>body_new</th>\n",
       "    </tr>\n",
       "  </thead>\n",
       "  <tbody>\n",
       "    <tr>\n",
       "      <th>0</th>\n",
       "      <td>2015</td>\n",
       "      <td>Sorento</td>\n",
       "      <td>LX</td>\n",
       "      <td>automatic</td>\n",
       "      <td>5xyktca69fg566472</td>\n",
       "      <td>ca</td>\n",
       "      <td>5.0</td>\n",
       "      <td>16639.0</td>\n",
       "      <td>white</td>\n",
       "      <td>black</td>\n",
       "      <td>kia motors america, inc</td>\n",
       "      <td>20500</td>\n",
       "      <td>21500</td>\n",
       "      <td>Tue Dec 16 2014 12:30:00 GMT-0800 (PST)</td>\n",
       "      <td>kia</td>\n",
       "      <td>suv</td>\n",
       "    </tr>\n",
       "    <tr>\n",
       "      <th>1</th>\n",
       "      <td>2015</td>\n",
       "      <td>Sorento</td>\n",
       "      <td>LX</td>\n",
       "      <td>automatic</td>\n",
       "      <td>5xyktca69fg561319</td>\n",
       "      <td>ca</td>\n",
       "      <td>5.0</td>\n",
       "      <td>9393.0</td>\n",
       "      <td>white</td>\n",
       "      <td>beige</td>\n",
       "      <td>kia motors america, inc</td>\n",
       "      <td>20800</td>\n",
       "      <td>21500</td>\n",
       "      <td>Tue Dec 16 2014 12:30:00 GMT-0800 (PST)</td>\n",
       "      <td>kia</td>\n",
       "      <td>suv</td>\n",
       "    </tr>\n",
       "    <tr>\n",
       "      <th>2</th>\n",
       "      <td>2014</td>\n",
       "      <td>3 Series</td>\n",
       "      <td>328i SULEV</td>\n",
       "      <td>automatic</td>\n",
       "      <td>wba3c1c51ek116351</td>\n",
       "      <td>ca</td>\n",
       "      <td>4.5</td>\n",
       "      <td>1331.0</td>\n",
       "      <td>gray</td>\n",
       "      <td>black</td>\n",
       "      <td>financial services remarketing (lease)</td>\n",
       "      <td>31900</td>\n",
       "      <td>30000</td>\n",
       "      <td>Thu Jan 15 2015 04:30:00 GMT-0800 (PST)</td>\n",
       "      <td>bmw</td>\n",
       "      <td>sedan</td>\n",
       "    </tr>\n",
       "    <tr>\n",
       "      <th>3</th>\n",
       "      <td>2015</td>\n",
       "      <td>S60</td>\n",
       "      <td>T5</td>\n",
       "      <td>automatic</td>\n",
       "      <td>yv1612tb4f1310987</td>\n",
       "      <td>ca</td>\n",
       "      <td>4.1</td>\n",
       "      <td>14282.0</td>\n",
       "      <td>white</td>\n",
       "      <td>black</td>\n",
       "      <td>volvo na rep/world omni</td>\n",
       "      <td>27500</td>\n",
       "      <td>27750</td>\n",
       "      <td>Thu Jan 29 2015 04:30:00 GMT-0800 (PST)</td>\n",
       "      <td>volvo</td>\n",
       "      <td>sedan</td>\n",
       "    </tr>\n",
       "    <tr>\n",
       "      <th>4</th>\n",
       "      <td>2014</td>\n",
       "      <td>6 Series Gran Coupe</td>\n",
       "      <td>650i</td>\n",
       "      <td>automatic</td>\n",
       "      <td>wba6b2c57ed129731</td>\n",
       "      <td>ca</td>\n",
       "      <td>4.3</td>\n",
       "      <td>2641.0</td>\n",
       "      <td>gray</td>\n",
       "      <td>black</td>\n",
       "      <td>financial services remarketing (lease)</td>\n",
       "      <td>66000</td>\n",
       "      <td>67000</td>\n",
       "      <td>Thu Dec 18 2014 12:30:00 GMT-0800 (PST)</td>\n",
       "      <td>bmw</td>\n",
       "      <td>sedan</td>\n",
       "    </tr>\n",
       "  </tbody>\n",
       "</table>\n",
       "</div>"
      ],
      "text/plain": [
       "   year                model        trim transmission                vin  \\\n",
       "0  2015              Sorento          LX    automatic  5xyktca69fg566472   \n",
       "1  2015              Sorento          LX    automatic  5xyktca69fg561319   \n",
       "2  2014             3 Series  328i SULEV    automatic  wba3c1c51ek116351   \n",
       "3  2015                  S60          T5    automatic  yv1612tb4f1310987   \n",
       "4  2014  6 Series Gran Coupe        650i    automatic  wba6b2c57ed129731   \n",
       "\n",
       "  state  condition  odometer  color interior  \\\n",
       "0    ca        5.0   16639.0  white    black   \n",
       "1    ca        5.0    9393.0  white    beige   \n",
       "2    ca        4.5    1331.0   gray    black   \n",
       "3    ca        4.1   14282.0  white    black   \n",
       "4    ca        4.3    2641.0   gray    black   \n",
       "\n",
       "                                   seller    mmr  sellingprice  \\\n",
       "0                 kia motors america, inc  20500         21500   \n",
       "1                 kia motors america, inc  20800         21500   \n",
       "2  financial services remarketing (lease)  31900         30000   \n",
       "3                 volvo na rep/world omni  27500         27750   \n",
       "4  financial services remarketing (lease)  66000         67000   \n",
       "\n",
       "                                  saledate make_new body_new  \n",
       "0  Tue Dec 16 2014 12:30:00 GMT-0800 (PST)      kia      suv  \n",
       "1  Tue Dec 16 2014 12:30:00 GMT-0800 (PST)      kia      suv  \n",
       "2  Thu Jan 15 2015 04:30:00 GMT-0800 (PST)      bmw    sedan  \n",
       "3  Thu Jan 29 2015 04:30:00 GMT-0800 (PST)    volvo    sedan  \n",
       "4  Thu Dec 18 2014 12:30:00 GMT-0800 (PST)      bmw    sedan  "
      ]
     },
     "execution_count": 55,
     "metadata": {},
     "output_type": "execute_result"
    }
   ],
   "source": [
    "updated_df.head()"
   ]
  },
  {
   "cell_type": "markdown",
   "id": "VcZtCBtRH_H1",
   "metadata": {
    "id": "VcZtCBtRH_H1"
   },
   "source": [
    "22- Checking of condition and filling the missing values"
   ]
  },
  {
   "cell_type": "code",
   "execution_count": 56,
   "id": "26O3W6HYIB0l",
   "metadata": {
    "colab": {
     "base_uri": "https://localhost:8080/"
    },
    "id": "26O3W6HYIB0l",
    "outputId": "b20e29ea-8a43-420b-87e0-aab674a70978"
   },
   "outputs": [
    {
     "data": {
      "text/plain": [
       "array([5. , 4.5, 4.1, 4.3, 1. , 3.4, 2. , 4.2, 3. , 4.8, nan, 4.9, 1.7,\n",
       "       1.9, 2.9, 3.8, 4.4, 4.7, 3.2, 4. , 2.5, 3.7, 3.9, 3.1, 2.8, 4.6,\n",
       "       3.6, 3.5, 2.6, 2.1, 2.2, 2.7, 2.4, 3.3, 2.3, 1.5, 1.6, 1.8, 1.2,\n",
       "       1.4, 1.1, 1.3])"
      ]
     },
     "execution_count": 56,
     "metadata": {},
     "output_type": "execute_result"
    }
   ],
   "source": [
    "updated_df.condition.unique()"
   ]
  },
  {
   "cell_type": "code",
   "execution_count": 57,
   "id": "4Xwg91OEJWQ8",
   "metadata": {
    "colab": {
     "base_uri": "https://localhost:8080/"
    },
    "id": "4Xwg91OEJWQ8",
    "outputId": "357e0596-e478-4aac-b7a3-8ca08a4f99d6"
   },
   "outputs": [
    {
     "data": {
      "text/plain": [
       "42"
      ]
     },
     "execution_count": 57,
     "metadata": {},
     "output_type": "execute_result"
    }
   ],
   "source": [
    "len(updated_df.condition.unique())"
   ]
  },
  {
   "cell_type": "code",
   "execution_count": 58,
   "id": "JCPZp7vHIHnz",
   "metadata": {
    "id": "JCPZp7vHIHnz"
   },
   "outputs": [],
   "source": [
    "updated_df['condition']=updated_df['condition'].fillna(updated_df['condition'].mean())"
   ]
  },
  {
   "cell_type": "code",
   "execution_count": 59,
   "id": "l5pc9uezJJ9D",
   "metadata": {
    "colab": {
     "base_uri": "https://localhost:8080/"
    },
    "id": "l5pc9uezJJ9D",
    "outputId": "33bbb0a9-63cb-4e39-dbea-888a5c66861c"
   },
   "outputs": [
    {
     "data": {
      "text/plain": [
       "array([5.        , 4.5       , 4.1       , 4.3       , 1.        ,\n",
       "       3.4       , 2.        , 4.2       , 3.        , 4.8       ,\n",
       "       3.42451222, 4.9       , 1.7       , 1.9       , 2.9       ,\n",
       "       3.8       , 4.4       , 4.7       , 3.2       , 4.        ,\n",
       "       2.5       , 3.7       , 3.9       , 3.1       , 2.8       ,\n",
       "       4.6       , 3.6       , 3.5       , 2.6       , 2.1       ,\n",
       "       2.2       , 2.7       , 2.4       , 3.3       , 2.3       ,\n",
       "       1.5       , 1.6       , 1.8       , 1.2       , 1.4       ,\n",
       "       1.1       , 1.3       ])"
      ]
     },
     "execution_count": 59,
     "metadata": {},
     "output_type": "execute_result"
    }
   ],
   "source": [
    "updated_df.condition.unique()"
   ]
  },
  {
   "cell_type": "markdown",
   "id": "1nbeVrC4JBWz",
   "metadata": {
    "id": "1nbeVrC4JBWz"
   },
   "source": [
    "We filled the missing values with the mean. "
   ]
  },
  {
   "cell_type": "markdown",
   "id": "XyiNbZizJxAt",
   "metadata": {
    "id": "XyiNbZizJxAt"
   },
   "source": [
    "23- Checking of odometer and filling the missing values"
   ]
  },
  {
   "cell_type": "code",
   "execution_count": 60,
   "id": "pR9vY6B8JzUc",
   "metadata": {
    "colab": {
     "base_uri": "https://localhost:8080/"
    },
    "id": "pR9vY6B8JzUc",
    "outputId": "046ae84b-cd2a-4763-b6de-df4e56e2425c"
   },
   "outputs": [
    {
     "data": {
      "text/plain": [
       "array([ 16639.,   9393.,   1331., ..., 204835., 111069., 262065.])"
      ]
     },
     "execution_count": 60,
     "metadata": {},
     "output_type": "execute_result"
    }
   ],
   "source": [
    "updated_df.odometer.unique()"
   ]
  },
  {
   "cell_type": "code",
   "execution_count": 61,
   "id": "f11Wpdd-J4lO",
   "metadata": {
    "id": "f11Wpdd-J4lO"
   },
   "outputs": [],
   "source": [
    "updated_df['odometer']=updated_df['odometer'].fillna(updated_df['odometer'].mean())"
   ]
  },
  {
   "cell_type": "code",
   "execution_count": 62,
   "id": "IqnFi31LKJ1Q",
   "metadata": {
    "colab": {
     "base_uri": "https://localhost:8080/"
    },
    "id": "IqnFi31LKJ1Q",
    "outputId": "eb8d7837-784e-4296-bb92-eb7a638af5b9"
   },
   "outputs": [
    {
     "data": {
      "text/plain": [
       "year              0\n",
       "model             0\n",
       "trim              0\n",
       "transmission      0\n",
       "vin               0\n",
       "state             0\n",
       "condition         0\n",
       "odometer          0\n",
       "color           749\n",
       "interior        749\n",
       "seller            0\n",
       "mmr               0\n",
       "sellingprice      0\n",
       "saledate          0\n",
       "make_new          0\n",
       "body_new          0\n",
       "dtype: int64"
      ]
     },
     "execution_count": 62,
     "metadata": {},
     "output_type": "execute_result"
    }
   ],
   "source": [
    "updated_df.isnull().sum()"
   ]
  },
  {
   "cell_type": "markdown",
   "id": "7MuxEAAlKPzE",
   "metadata": {
    "id": "7MuxEAAlKPzE"
   },
   "source": [
    "24- Checking of color and filling the missing values"
   ]
  },
  {
   "cell_type": "code",
   "execution_count": 63,
   "id": "9aHwLcHWKSI1",
   "metadata": {
    "colab": {
     "base_uri": "https://localhost:8080/"
    },
    "id": "9aHwLcHWKSI1",
    "outputId": "09024c89-7c45-4e95-a94d-dfe496ada0e8"
   },
   "outputs": [
    {
     "data": {
      "text/plain": [
       "array(['white', 'gray', 'black', 'red', 'silver', 'blue', 'brown',\n",
       "       'beige', 'purple', 'burgundy', '—', 'gold', 'yellow', 'green',\n",
       "       'charcoal', nan, 'orange', 'off-white', 'turquoise', 'pink',\n",
       "       'lime'], dtype=object)"
      ]
     },
     "execution_count": 63,
     "metadata": {},
     "output_type": "execute_result"
    }
   ],
   "source": [
    "updated_df.color.unique()"
   ]
  },
  {
   "cell_type": "code",
   "execution_count": 64,
   "id": "vr9fBq-SKVtA",
   "metadata": {
    "colab": {
     "base_uri": "https://localhost:8080/"
    },
    "id": "vr9fBq-SKVtA",
    "outputId": "081275a9-a642-4f84-c4eb-e617cfe87e17"
   },
   "outputs": [
    {
     "data": {
      "text/plain": [
       "black        110970\n",
       "white        106673\n",
       "silver        83389\n",
       "gray          82857\n",
       "blue          51139\n",
       "red           43569\n",
       "—             24685\n",
       "green         11382\n",
       "gold          11342\n",
       "beige          9222\n",
       "burgundy       8972\n",
       "brown          6717\n",
       "orange         2078\n",
       "purple         1561\n",
       "off-white      1449\n",
       "yellow         1285\n",
       "charcoal        479\n",
       "turquoise       236\n",
       "pink             42\n",
       "lime             15\n",
       "Name: color, dtype: int64"
      ]
     },
     "execution_count": 64,
     "metadata": {},
     "output_type": "execute_result"
    }
   ],
   "source": [
    "updated_df.color.value_counts().head(25)"
   ]
  },
  {
   "cell_type": "code",
   "execution_count": 65,
   "id": "FgHVAlP1F5S9",
   "metadata": {
    "colab": {
     "base_uri": "https://localhost:8080/"
    },
    "id": "FgHVAlP1F5S9",
    "outputId": "e9dd769d-fcfd-4c5c-cdca-9f426b459f8e"
   },
   "outputs": [
    {
     "data": {
      "text/plain": [
       "array(['white', 'gray', 'black', 'red', 'silver', 'blue', 'brown',\n",
       "       'beige', 'purple', 'burgundy', 'gold', 'yellow', 'green',\n",
       "       'charcoal', nan, 'orange', 'off-white', 'turquoise', 'pink',\n",
       "       'lime'], dtype=object)"
      ]
     },
     "execution_count": 65,
     "metadata": {},
     "output_type": "execute_result"
    }
   ],
   "source": [
    "updated_df = updated_df.drop(updated_df[updated_df['color'] == \"—\"].index)\n",
    "updated_df.color.unique()"
   ]
  },
  {
   "cell_type": "code",
   "execution_count": 66,
   "id": "7pGaSFKGL_Wb",
   "metadata": {
    "colab": {
     "base_uri": "https://localhost:8080/",
     "height": 424
    },
    "id": "7pGaSFKGL_Wb",
    "outputId": "be8b4ba6-c27a-4396-a0b7-48c634019923"
   },
   "outputs": [
    {
     "data": {
      "text/html": [
       "<div>\n",
       "<style scoped>\n",
       "    .dataframe tbody tr th:only-of-type {\n",
       "        vertical-align: middle;\n",
       "    }\n",
       "\n",
       "    .dataframe tbody tr th {\n",
       "        vertical-align: top;\n",
       "    }\n",
       "\n",
       "    .dataframe thead th {\n",
       "        text-align: right;\n",
       "    }\n",
       "</style>\n",
       "<table border=\"1\" class=\"dataframe\">\n",
       "  <thead>\n",
       "    <tr style=\"text-align: right;\">\n",
       "      <th></th>\n",
       "      <th>year</th>\n",
       "      <th>model</th>\n",
       "      <th>trim</th>\n",
       "      <th>transmission</th>\n",
       "      <th>vin</th>\n",
       "      <th>state</th>\n",
       "      <th>condition</th>\n",
       "      <th>odometer</th>\n",
       "      <th>color</th>\n",
       "      <th>interior</th>\n",
       "      <th>seller</th>\n",
       "      <th>mmr</th>\n",
       "      <th>sellingprice</th>\n",
       "      <th>saledate</th>\n",
       "      <th>make_new</th>\n",
       "      <th>body_new</th>\n",
       "    </tr>\n",
       "  </thead>\n",
       "  <tbody>\n",
       "    <tr>\n",
       "      <th>0</th>\n",
       "      <td>2015</td>\n",
       "      <td>Sorento</td>\n",
       "      <td>LX</td>\n",
       "      <td>automatic</td>\n",
       "      <td>5xyktca69fg566472</td>\n",
       "      <td>ca</td>\n",
       "      <td>5.0</td>\n",
       "      <td>16639.0</td>\n",
       "      <td>white</td>\n",
       "      <td>black</td>\n",
       "      <td>kia motors america, inc</td>\n",
       "      <td>20500</td>\n",
       "      <td>21500</td>\n",
       "      <td>Tue Dec 16 2014 12:30:00 GMT-0800 (PST)</td>\n",
       "      <td>kia</td>\n",
       "      <td>suv</td>\n",
       "    </tr>\n",
       "    <tr>\n",
       "      <th>1</th>\n",
       "      <td>2015</td>\n",
       "      <td>Sorento</td>\n",
       "      <td>LX</td>\n",
       "      <td>automatic</td>\n",
       "      <td>5xyktca69fg561319</td>\n",
       "      <td>ca</td>\n",
       "      <td>5.0</td>\n",
       "      <td>9393.0</td>\n",
       "      <td>white</td>\n",
       "      <td>beige</td>\n",
       "      <td>kia motors america, inc</td>\n",
       "      <td>20800</td>\n",
       "      <td>21500</td>\n",
       "      <td>Tue Dec 16 2014 12:30:00 GMT-0800 (PST)</td>\n",
       "      <td>kia</td>\n",
       "      <td>suv</td>\n",
       "    </tr>\n",
       "    <tr>\n",
       "      <th>2</th>\n",
       "      <td>2014</td>\n",
       "      <td>3 Series</td>\n",
       "      <td>328i SULEV</td>\n",
       "      <td>automatic</td>\n",
       "      <td>wba3c1c51ek116351</td>\n",
       "      <td>ca</td>\n",
       "      <td>4.5</td>\n",
       "      <td>1331.0</td>\n",
       "      <td>gray</td>\n",
       "      <td>black</td>\n",
       "      <td>financial services remarketing (lease)</td>\n",
       "      <td>31900</td>\n",
       "      <td>30000</td>\n",
       "      <td>Thu Jan 15 2015 04:30:00 GMT-0800 (PST)</td>\n",
       "      <td>bmw</td>\n",
       "      <td>sedan</td>\n",
       "    </tr>\n",
       "    <tr>\n",
       "      <th>3</th>\n",
       "      <td>2015</td>\n",
       "      <td>S60</td>\n",
       "      <td>T5</td>\n",
       "      <td>automatic</td>\n",
       "      <td>yv1612tb4f1310987</td>\n",
       "      <td>ca</td>\n",
       "      <td>4.1</td>\n",
       "      <td>14282.0</td>\n",
       "      <td>white</td>\n",
       "      <td>black</td>\n",
       "      <td>volvo na rep/world omni</td>\n",
       "      <td>27500</td>\n",
       "      <td>27750</td>\n",
       "      <td>Thu Jan 29 2015 04:30:00 GMT-0800 (PST)</td>\n",
       "      <td>volvo</td>\n",
       "      <td>sedan</td>\n",
       "    </tr>\n",
       "    <tr>\n",
       "      <th>4</th>\n",
       "      <td>2014</td>\n",
       "      <td>6 Series Gran Coupe</td>\n",
       "      <td>650i</td>\n",
       "      <td>automatic</td>\n",
       "      <td>wba6b2c57ed129731</td>\n",
       "      <td>ca</td>\n",
       "      <td>4.3</td>\n",
       "      <td>2641.0</td>\n",
       "      <td>gray</td>\n",
       "      <td>black</td>\n",
       "      <td>financial services remarketing (lease)</td>\n",
       "      <td>66000</td>\n",
       "      <td>67000</td>\n",
       "      <td>Thu Dec 18 2014 12:30:00 GMT-0800 (PST)</td>\n",
       "      <td>bmw</td>\n",
       "      <td>sedan</td>\n",
       "    </tr>\n",
       "    <tr>\n",
       "      <th>...</th>\n",
       "      <td>...</td>\n",
       "      <td>...</td>\n",
       "      <td>...</td>\n",
       "      <td>...</td>\n",
       "      <td>...</td>\n",
       "      <td>...</td>\n",
       "      <td>...</td>\n",
       "      <td>...</td>\n",
       "      <td>...</td>\n",
       "      <td>...</td>\n",
       "      <td>...</td>\n",
       "      <td>...</td>\n",
       "      <td>...</td>\n",
       "      <td>...</td>\n",
       "      <td>...</td>\n",
       "      <td>...</td>\n",
       "    </tr>\n",
       "    <tr>\n",
       "      <th>558806</th>\n",
       "      <td>2015</td>\n",
       "      <td>K900</td>\n",
       "      <td>Luxury</td>\n",
       "      <td>automatic</td>\n",
       "      <td>knalw4d4xf6019304</td>\n",
       "      <td>in</td>\n",
       "      <td>4.5</td>\n",
       "      <td>18255.0</td>\n",
       "      <td>silver</td>\n",
       "      <td>black</td>\n",
       "      <td>avis corporation</td>\n",
       "      <td>35300</td>\n",
       "      <td>33000</td>\n",
       "      <td>Thu Jul 09 2015 07:00:00 GMT-0700 (PDT)</td>\n",
       "      <td>kia</td>\n",
       "      <td>sedan</td>\n",
       "    </tr>\n",
       "    <tr>\n",
       "      <th>558807</th>\n",
       "      <td>2012</td>\n",
       "      <td>2500</td>\n",
       "      <td>Power Wagon</td>\n",
       "      <td>automatic</td>\n",
       "      <td>3c6td5et6cg112407</td>\n",
       "      <td>wa</td>\n",
       "      <td>5.0</td>\n",
       "      <td>54393.0</td>\n",
       "      <td>white</td>\n",
       "      <td>black</td>\n",
       "      <td>i -5 uhlmann rv</td>\n",
       "      <td>30200</td>\n",
       "      <td>30800</td>\n",
       "      <td>Wed Jul 08 2015 09:30:00 GMT-0700 (PDT)</td>\n",
       "      <td>ram</td>\n",
       "      <td>cab</td>\n",
       "    </tr>\n",
       "    <tr>\n",
       "      <th>558808</th>\n",
       "      <td>2012</td>\n",
       "      <td>X5</td>\n",
       "      <td>xDrive35d</td>\n",
       "      <td>automatic</td>\n",
       "      <td>5uxzw0c58cl668465</td>\n",
       "      <td>ca</td>\n",
       "      <td>4.8</td>\n",
       "      <td>50561.0</td>\n",
       "      <td>black</td>\n",
       "      <td>black</td>\n",
       "      <td>financial services remarketing (lease)</td>\n",
       "      <td>29800</td>\n",
       "      <td>34000</td>\n",
       "      <td>Wed Jul 08 2015 09:30:00 GMT-0700 (PDT)</td>\n",
       "      <td>bmw</td>\n",
       "      <td>suv</td>\n",
       "    </tr>\n",
       "    <tr>\n",
       "      <th>558809</th>\n",
       "      <td>2015</td>\n",
       "      <td>Altima</td>\n",
       "      <td>2.5 S</td>\n",
       "      <td>automatic</td>\n",
       "      <td>1n4al3ap0fc216050</td>\n",
       "      <td>ga</td>\n",
       "      <td>3.8</td>\n",
       "      <td>16658.0</td>\n",
       "      <td>white</td>\n",
       "      <td>black</td>\n",
       "      <td>enterprise vehicle exchange / tra / rental / t...</td>\n",
       "      <td>15100</td>\n",
       "      <td>11100</td>\n",
       "      <td>Thu Jul 09 2015 06:45:00 GMT-0700 (PDT)</td>\n",
       "      <td>nissan</td>\n",
       "      <td>sedan</td>\n",
       "    </tr>\n",
       "    <tr>\n",
       "      <th>558810</th>\n",
       "      <td>2014</td>\n",
       "      <td>F-150</td>\n",
       "      <td>XLT</td>\n",
       "      <td>automatic</td>\n",
       "      <td>1ftfw1et2eke87277</td>\n",
       "      <td>ca</td>\n",
       "      <td>3.4</td>\n",
       "      <td>15008.0</td>\n",
       "      <td>gray</td>\n",
       "      <td>gray</td>\n",
       "      <td>ford motor credit company,llc pd</td>\n",
       "      <td>29600</td>\n",
       "      <td>26700</td>\n",
       "      <td>Thu May 28 2015 05:30:00 GMT-0700 (PDT)</td>\n",
       "      <td>ford</td>\n",
       "      <td>cab</td>\n",
       "    </tr>\n",
       "  </tbody>\n",
       "</table>\n",
       "<p>534126 rows × 16 columns</p>\n",
       "</div>"
      ],
      "text/plain": [
       "        year                model         trim transmission  \\\n",
       "0       2015              Sorento           LX    automatic   \n",
       "1       2015              Sorento           LX    automatic   \n",
       "2       2014             3 Series   328i SULEV    automatic   \n",
       "3       2015                  S60           T5    automatic   \n",
       "4       2014  6 Series Gran Coupe         650i    automatic   \n",
       "...      ...                  ...          ...          ...   \n",
       "558806  2015                 K900       Luxury    automatic   \n",
       "558807  2012                 2500  Power Wagon    automatic   \n",
       "558808  2012                   X5    xDrive35d    automatic   \n",
       "558809  2015               Altima        2.5 S    automatic   \n",
       "558810  2014                F-150          XLT    automatic   \n",
       "\n",
       "                      vin state  condition  odometer   color interior  \\\n",
       "0       5xyktca69fg566472    ca        5.0   16639.0   white    black   \n",
       "1       5xyktca69fg561319    ca        5.0    9393.0   white    beige   \n",
       "2       wba3c1c51ek116351    ca        4.5    1331.0    gray    black   \n",
       "3       yv1612tb4f1310987    ca        4.1   14282.0   white    black   \n",
       "4       wba6b2c57ed129731    ca        4.3    2641.0    gray    black   \n",
       "...                   ...   ...        ...       ...     ...      ...   \n",
       "558806  knalw4d4xf6019304    in        4.5   18255.0  silver    black   \n",
       "558807  3c6td5et6cg112407    wa        5.0   54393.0   white    black   \n",
       "558808  5uxzw0c58cl668465    ca        4.8   50561.0   black    black   \n",
       "558809  1n4al3ap0fc216050    ga        3.8   16658.0   white    black   \n",
       "558810  1ftfw1et2eke87277    ca        3.4   15008.0    gray     gray   \n",
       "\n",
       "                                                   seller    mmr  \\\n",
       "0                                 kia motors america, inc  20500   \n",
       "1                                 kia motors america, inc  20800   \n",
       "2                  financial services remarketing (lease)  31900   \n",
       "3                                 volvo na rep/world omni  27500   \n",
       "4                  financial services remarketing (lease)  66000   \n",
       "...                                                   ...    ...   \n",
       "558806                                   avis corporation  35300   \n",
       "558807                                    i -5 uhlmann rv  30200   \n",
       "558808             financial services remarketing (lease)  29800   \n",
       "558809  enterprise vehicle exchange / tra / rental / t...  15100   \n",
       "558810                   ford motor credit company,llc pd  29600   \n",
       "\n",
       "        sellingprice                                 saledate make_new  \\\n",
       "0              21500  Tue Dec 16 2014 12:30:00 GMT-0800 (PST)      kia   \n",
       "1              21500  Tue Dec 16 2014 12:30:00 GMT-0800 (PST)      kia   \n",
       "2              30000  Thu Jan 15 2015 04:30:00 GMT-0800 (PST)      bmw   \n",
       "3              27750  Thu Jan 29 2015 04:30:00 GMT-0800 (PST)    volvo   \n",
       "4              67000  Thu Dec 18 2014 12:30:00 GMT-0800 (PST)      bmw   \n",
       "...              ...                                      ...      ...   \n",
       "558806         33000  Thu Jul 09 2015 07:00:00 GMT-0700 (PDT)      kia   \n",
       "558807         30800  Wed Jul 08 2015 09:30:00 GMT-0700 (PDT)      ram   \n",
       "558808         34000  Wed Jul 08 2015 09:30:00 GMT-0700 (PDT)      bmw   \n",
       "558809         11100  Thu Jul 09 2015 06:45:00 GMT-0700 (PDT)   nissan   \n",
       "558810         26700  Thu May 28 2015 05:30:00 GMT-0700 (PDT)     ford   \n",
       "\n",
       "       body_new  \n",
       "0           suv  \n",
       "1           suv  \n",
       "2         sedan  \n",
       "3         sedan  \n",
       "4         sedan  \n",
       "...         ...  \n",
       "558806    sedan  \n",
       "558807      cab  \n",
       "558808      suv  \n",
       "558809    sedan  \n",
       "558810      cab  \n",
       "\n",
       "[534126 rows x 16 columns]"
      ]
     },
     "execution_count": 66,
     "metadata": {},
     "output_type": "execute_result"
    }
   ],
   "source": [
    "updated_df"
   ]
  },
  {
   "cell_type": "code",
   "execution_count": 67,
   "id": "WmbYFHE-PRzv",
   "metadata": {
    "colab": {
     "base_uri": "https://localhost:8080/"
    },
    "id": "WmbYFHE-PRzv",
    "outputId": "4db54978-87f8-4aca-afb7-2bba4da87509"
   },
   "outputs": [
    {
     "data": {
      "text/plain": [
       "black        110970\n",
       "white        106673\n",
       "silver        83389\n",
       "gray          82857\n",
       "blue          51139\n",
       "red           43569\n",
       "green         11382\n",
       "gold          11342\n",
       "beige          9222\n",
       "burgundy       8972\n",
       "brown          6717\n",
       "orange         2078\n",
       "purple         1561\n",
       "off-white      1449\n",
       "yellow         1285\n",
       "charcoal        479\n",
       "turquoise       236\n",
       "pink             42\n",
       "lime             15\n",
       "Name: color, dtype: int64"
      ]
     },
     "execution_count": 67,
     "metadata": {},
     "output_type": "execute_result"
    }
   ],
   "source": [
    "updated_df.color.value_counts().head(25)"
   ]
  },
  {
   "cell_type": "code",
   "execution_count": 68,
   "id": "kET1E2vYPWwF",
   "metadata": {
    "id": "kET1E2vYPWwF"
   },
   "outputs": [],
   "source": [
    "updated_df.color.fillna(\"black\", inplace=True)"
   ]
  },
  {
   "cell_type": "code",
   "execution_count": 69,
   "id": "BjX9OOuKPknn",
   "metadata": {
    "colab": {
     "base_uri": "https://localhost:8080/"
    },
    "id": "BjX9OOuKPknn",
    "outputId": "3030f7ea-491b-4564-9fc9-7e4f184f2858"
   },
   "outputs": [
    {
     "data": {
      "text/plain": [
       "year              0\n",
       "model             0\n",
       "trim              0\n",
       "transmission      0\n",
       "vin               0\n",
       "state             0\n",
       "condition         0\n",
       "odometer          0\n",
       "color             0\n",
       "interior        749\n",
       "seller            0\n",
       "mmr               0\n",
       "sellingprice      0\n",
       "saledate          0\n",
       "make_new          0\n",
       "body_new          0\n",
       "dtype: int64"
      ]
     },
     "execution_count": 69,
     "metadata": {},
     "output_type": "execute_result"
    }
   ],
   "source": [
    "updated_df.isnull().sum()"
   ]
  },
  {
   "cell_type": "markdown",
   "id": "drIEPSKCUdnV",
   "metadata": {
    "id": "drIEPSKCUdnV"
   },
   "source": [
    "25- Checking of interior and filling the missing values"
   ]
  },
  {
   "cell_type": "code",
   "execution_count": 70,
   "id": "HHXAoIQYUf2D",
   "metadata": {
    "colab": {
     "base_uri": "https://localhost:8080/"
    },
    "id": "HHXAoIQYUf2D",
    "outputId": "7435b7ad-b061-4797-c5c6-16f6c682bf01"
   },
   "outputs": [
    {
     "data": {
      "text/plain": [
       "array(['black', 'beige', 'tan', '—', 'gray', 'brown', 'burgundy', 'white',\n",
       "       nan, 'silver', 'off-white', 'blue', 'red', 'yellow', 'green',\n",
       "       'purple', 'orange', 'gold'], dtype=object)"
      ]
     },
     "execution_count": 70,
     "metadata": {},
     "output_type": "execute_result"
    }
   ],
   "source": [
    "updated_df.interior.unique()"
   ]
  },
  {
   "cell_type": "code",
   "execution_count": 71,
   "id": "a4532da3",
   "metadata": {},
   "outputs": [
    {
     "data": {
      "text/plain": [
       "black        232332\n",
       "gray         171851\n",
       "beige         56937\n",
       "tan           41815\n",
       "—             17076\n",
       "brown          8136\n",
       "red            1276\n",
       "blue           1117\n",
       "silver         1067\n",
       "off-white       344\n",
       "purple          320\n",
       "gold            298\n",
       "white           237\n",
       "green           235\n",
       "burgundy        176\n",
       "orange          140\n",
       "yellow           20\n",
       "Name: interior, dtype: int64"
      ]
     },
     "execution_count": 71,
     "metadata": {},
     "output_type": "execute_result"
    }
   ],
   "source": [
    "updated_df.interior.value_counts().head(25)"
   ]
  },
  {
   "cell_type": "code",
   "execution_count": 72,
   "id": "vO50QXTSU4Y3",
   "metadata": {
    "colab": {
     "base_uri": "https://localhost:8080/"
    },
    "id": "vO50QXTSU4Y3",
    "outputId": "f6c282a9-bc2f-4e7b-ae3b-83663bfdafb7"
   },
   "outputs": [
    {
     "data": {
      "text/plain": [
       "array(['white', 'gray', 'black', 'red', 'silver', 'blue', 'brown',\n",
       "       'beige', 'purple', 'burgundy', 'gold', 'yellow', 'green',\n",
       "       'charcoal', 'orange', 'off-white', 'turquoise', 'pink', 'lime'],\n",
       "      dtype=object)"
      ]
     },
     "execution_count": 72,
     "metadata": {},
     "output_type": "execute_result"
    }
   ],
   "source": [
    "updated_df = updated_df.drop(updated_df[updated_df['interior'] == \"—\"].index)\n",
    "updated_df.color.unique()"
   ]
  },
  {
   "cell_type": "code",
   "execution_count": 73,
   "id": "2YjjUsZxMfUA",
   "metadata": {
    "colab": {
     "base_uri": "https://localhost:8080/"
    },
    "id": "2YjjUsZxMfUA",
    "outputId": "195aed71-f70a-4098-b907-68aaa7292fa7"
   },
   "outputs": [
    {
     "data": {
      "text/plain": [
       "black        232332\n",
       "gray         171851\n",
       "beige         56937\n",
       "tan           41815\n",
       "brown          8136\n",
       "red            1276\n",
       "blue           1117\n",
       "silver         1067\n",
       "off-white       344\n",
       "purple          320\n",
       "gold            298\n",
       "white           237\n",
       "green           235\n",
       "burgundy        176\n",
       "orange          140\n",
       "yellow           20\n",
       "Name: interior, dtype: int64"
      ]
     },
     "execution_count": 73,
     "metadata": {},
     "output_type": "execute_result"
    }
   ],
   "source": [
    "updated_df.interior.value_counts().head(25)"
   ]
  },
  {
   "cell_type": "code",
   "execution_count": 74,
   "id": "iy7ox4vwMXQz",
   "metadata": {
    "colab": {
     "base_uri": "https://localhost:8080/",
     "height": 424
    },
    "id": "iy7ox4vwMXQz",
    "outputId": "f3a08ecf-e5d5-4cc0-ff93-9c2ab867fa80"
   },
   "outputs": [
    {
     "data": {
      "text/html": [
       "<div>\n",
       "<style scoped>\n",
       "    .dataframe tbody tr th:only-of-type {\n",
       "        vertical-align: middle;\n",
       "    }\n",
       "\n",
       "    .dataframe tbody tr th {\n",
       "        vertical-align: top;\n",
       "    }\n",
       "\n",
       "    .dataframe thead th {\n",
       "        text-align: right;\n",
       "    }\n",
       "</style>\n",
       "<table border=\"1\" class=\"dataframe\">\n",
       "  <thead>\n",
       "    <tr style=\"text-align: right;\">\n",
       "      <th></th>\n",
       "      <th>year</th>\n",
       "      <th>model</th>\n",
       "      <th>trim</th>\n",
       "      <th>transmission</th>\n",
       "      <th>vin</th>\n",
       "      <th>state</th>\n",
       "      <th>condition</th>\n",
       "      <th>odometer</th>\n",
       "      <th>color</th>\n",
       "      <th>interior</th>\n",
       "      <th>seller</th>\n",
       "      <th>mmr</th>\n",
       "      <th>sellingprice</th>\n",
       "      <th>saledate</th>\n",
       "      <th>make_new</th>\n",
       "      <th>body_new</th>\n",
       "    </tr>\n",
       "  </thead>\n",
       "  <tbody>\n",
       "    <tr>\n",
       "      <th>0</th>\n",
       "      <td>2015</td>\n",
       "      <td>Sorento</td>\n",
       "      <td>LX</td>\n",
       "      <td>automatic</td>\n",
       "      <td>5xyktca69fg566472</td>\n",
       "      <td>ca</td>\n",
       "      <td>5.0</td>\n",
       "      <td>16639.0</td>\n",
       "      <td>white</td>\n",
       "      <td>black</td>\n",
       "      <td>kia motors america, inc</td>\n",
       "      <td>20500</td>\n",
       "      <td>21500</td>\n",
       "      <td>Tue Dec 16 2014 12:30:00 GMT-0800 (PST)</td>\n",
       "      <td>kia</td>\n",
       "      <td>suv</td>\n",
       "    </tr>\n",
       "    <tr>\n",
       "      <th>1</th>\n",
       "      <td>2015</td>\n",
       "      <td>Sorento</td>\n",
       "      <td>LX</td>\n",
       "      <td>automatic</td>\n",
       "      <td>5xyktca69fg561319</td>\n",
       "      <td>ca</td>\n",
       "      <td>5.0</td>\n",
       "      <td>9393.0</td>\n",
       "      <td>white</td>\n",
       "      <td>beige</td>\n",
       "      <td>kia motors america, inc</td>\n",
       "      <td>20800</td>\n",
       "      <td>21500</td>\n",
       "      <td>Tue Dec 16 2014 12:30:00 GMT-0800 (PST)</td>\n",
       "      <td>kia</td>\n",
       "      <td>suv</td>\n",
       "    </tr>\n",
       "    <tr>\n",
       "      <th>2</th>\n",
       "      <td>2014</td>\n",
       "      <td>3 Series</td>\n",
       "      <td>328i SULEV</td>\n",
       "      <td>automatic</td>\n",
       "      <td>wba3c1c51ek116351</td>\n",
       "      <td>ca</td>\n",
       "      <td>4.5</td>\n",
       "      <td>1331.0</td>\n",
       "      <td>gray</td>\n",
       "      <td>black</td>\n",
       "      <td>financial services remarketing (lease)</td>\n",
       "      <td>31900</td>\n",
       "      <td>30000</td>\n",
       "      <td>Thu Jan 15 2015 04:30:00 GMT-0800 (PST)</td>\n",
       "      <td>bmw</td>\n",
       "      <td>sedan</td>\n",
       "    </tr>\n",
       "    <tr>\n",
       "      <th>3</th>\n",
       "      <td>2015</td>\n",
       "      <td>S60</td>\n",
       "      <td>T5</td>\n",
       "      <td>automatic</td>\n",
       "      <td>yv1612tb4f1310987</td>\n",
       "      <td>ca</td>\n",
       "      <td>4.1</td>\n",
       "      <td>14282.0</td>\n",
       "      <td>white</td>\n",
       "      <td>black</td>\n",
       "      <td>volvo na rep/world omni</td>\n",
       "      <td>27500</td>\n",
       "      <td>27750</td>\n",
       "      <td>Thu Jan 29 2015 04:30:00 GMT-0800 (PST)</td>\n",
       "      <td>volvo</td>\n",
       "      <td>sedan</td>\n",
       "    </tr>\n",
       "    <tr>\n",
       "      <th>4</th>\n",
       "      <td>2014</td>\n",
       "      <td>6 Series Gran Coupe</td>\n",
       "      <td>650i</td>\n",
       "      <td>automatic</td>\n",
       "      <td>wba6b2c57ed129731</td>\n",
       "      <td>ca</td>\n",
       "      <td>4.3</td>\n",
       "      <td>2641.0</td>\n",
       "      <td>gray</td>\n",
       "      <td>black</td>\n",
       "      <td>financial services remarketing (lease)</td>\n",
       "      <td>66000</td>\n",
       "      <td>67000</td>\n",
       "      <td>Thu Dec 18 2014 12:30:00 GMT-0800 (PST)</td>\n",
       "      <td>bmw</td>\n",
       "      <td>sedan</td>\n",
       "    </tr>\n",
       "    <tr>\n",
       "      <th>...</th>\n",
       "      <td>...</td>\n",
       "      <td>...</td>\n",
       "      <td>...</td>\n",
       "      <td>...</td>\n",
       "      <td>...</td>\n",
       "      <td>...</td>\n",
       "      <td>...</td>\n",
       "      <td>...</td>\n",
       "      <td>...</td>\n",
       "      <td>...</td>\n",
       "      <td>...</td>\n",
       "      <td>...</td>\n",
       "      <td>...</td>\n",
       "      <td>...</td>\n",
       "      <td>...</td>\n",
       "      <td>...</td>\n",
       "    </tr>\n",
       "    <tr>\n",
       "      <th>558806</th>\n",
       "      <td>2015</td>\n",
       "      <td>K900</td>\n",
       "      <td>Luxury</td>\n",
       "      <td>automatic</td>\n",
       "      <td>knalw4d4xf6019304</td>\n",
       "      <td>in</td>\n",
       "      <td>4.5</td>\n",
       "      <td>18255.0</td>\n",
       "      <td>silver</td>\n",
       "      <td>black</td>\n",
       "      <td>avis corporation</td>\n",
       "      <td>35300</td>\n",
       "      <td>33000</td>\n",
       "      <td>Thu Jul 09 2015 07:00:00 GMT-0700 (PDT)</td>\n",
       "      <td>kia</td>\n",
       "      <td>sedan</td>\n",
       "    </tr>\n",
       "    <tr>\n",
       "      <th>558807</th>\n",
       "      <td>2012</td>\n",
       "      <td>2500</td>\n",
       "      <td>Power Wagon</td>\n",
       "      <td>automatic</td>\n",
       "      <td>3c6td5et6cg112407</td>\n",
       "      <td>wa</td>\n",
       "      <td>5.0</td>\n",
       "      <td>54393.0</td>\n",
       "      <td>white</td>\n",
       "      <td>black</td>\n",
       "      <td>i -5 uhlmann rv</td>\n",
       "      <td>30200</td>\n",
       "      <td>30800</td>\n",
       "      <td>Wed Jul 08 2015 09:30:00 GMT-0700 (PDT)</td>\n",
       "      <td>ram</td>\n",
       "      <td>cab</td>\n",
       "    </tr>\n",
       "    <tr>\n",
       "      <th>558808</th>\n",
       "      <td>2012</td>\n",
       "      <td>X5</td>\n",
       "      <td>xDrive35d</td>\n",
       "      <td>automatic</td>\n",
       "      <td>5uxzw0c58cl668465</td>\n",
       "      <td>ca</td>\n",
       "      <td>4.8</td>\n",
       "      <td>50561.0</td>\n",
       "      <td>black</td>\n",
       "      <td>black</td>\n",
       "      <td>financial services remarketing (lease)</td>\n",
       "      <td>29800</td>\n",
       "      <td>34000</td>\n",
       "      <td>Wed Jul 08 2015 09:30:00 GMT-0700 (PDT)</td>\n",
       "      <td>bmw</td>\n",
       "      <td>suv</td>\n",
       "    </tr>\n",
       "    <tr>\n",
       "      <th>558809</th>\n",
       "      <td>2015</td>\n",
       "      <td>Altima</td>\n",
       "      <td>2.5 S</td>\n",
       "      <td>automatic</td>\n",
       "      <td>1n4al3ap0fc216050</td>\n",
       "      <td>ga</td>\n",
       "      <td>3.8</td>\n",
       "      <td>16658.0</td>\n",
       "      <td>white</td>\n",
       "      <td>black</td>\n",
       "      <td>enterprise vehicle exchange / tra / rental / t...</td>\n",
       "      <td>15100</td>\n",
       "      <td>11100</td>\n",
       "      <td>Thu Jul 09 2015 06:45:00 GMT-0700 (PDT)</td>\n",
       "      <td>nissan</td>\n",
       "      <td>sedan</td>\n",
       "    </tr>\n",
       "    <tr>\n",
       "      <th>558810</th>\n",
       "      <td>2014</td>\n",
       "      <td>F-150</td>\n",
       "      <td>XLT</td>\n",
       "      <td>automatic</td>\n",
       "      <td>1ftfw1et2eke87277</td>\n",
       "      <td>ca</td>\n",
       "      <td>3.4</td>\n",
       "      <td>15008.0</td>\n",
       "      <td>gray</td>\n",
       "      <td>gray</td>\n",
       "      <td>ford motor credit company,llc pd</td>\n",
       "      <td>29600</td>\n",
       "      <td>26700</td>\n",
       "      <td>Thu May 28 2015 05:30:00 GMT-0700 (PDT)</td>\n",
       "      <td>ford</td>\n",
       "      <td>cab</td>\n",
       "    </tr>\n",
       "  </tbody>\n",
       "</table>\n",
       "<p>517050 rows × 16 columns</p>\n",
       "</div>"
      ],
      "text/plain": [
       "        year                model         trim transmission  \\\n",
       "0       2015              Sorento           LX    automatic   \n",
       "1       2015              Sorento           LX    automatic   \n",
       "2       2014             3 Series   328i SULEV    automatic   \n",
       "3       2015                  S60           T5    automatic   \n",
       "4       2014  6 Series Gran Coupe         650i    automatic   \n",
       "...      ...                  ...          ...          ...   \n",
       "558806  2015                 K900       Luxury    automatic   \n",
       "558807  2012                 2500  Power Wagon    automatic   \n",
       "558808  2012                   X5    xDrive35d    automatic   \n",
       "558809  2015               Altima        2.5 S    automatic   \n",
       "558810  2014                F-150          XLT    automatic   \n",
       "\n",
       "                      vin state  condition  odometer   color interior  \\\n",
       "0       5xyktca69fg566472    ca        5.0   16639.0   white    black   \n",
       "1       5xyktca69fg561319    ca        5.0    9393.0   white    beige   \n",
       "2       wba3c1c51ek116351    ca        4.5    1331.0    gray    black   \n",
       "3       yv1612tb4f1310987    ca        4.1   14282.0   white    black   \n",
       "4       wba6b2c57ed129731    ca        4.3    2641.0    gray    black   \n",
       "...                   ...   ...        ...       ...     ...      ...   \n",
       "558806  knalw4d4xf6019304    in        4.5   18255.0  silver    black   \n",
       "558807  3c6td5et6cg112407    wa        5.0   54393.0   white    black   \n",
       "558808  5uxzw0c58cl668465    ca        4.8   50561.0   black    black   \n",
       "558809  1n4al3ap0fc216050    ga        3.8   16658.0   white    black   \n",
       "558810  1ftfw1et2eke87277    ca        3.4   15008.0    gray     gray   \n",
       "\n",
       "                                                   seller    mmr  \\\n",
       "0                                 kia motors america, inc  20500   \n",
       "1                                 kia motors america, inc  20800   \n",
       "2                  financial services remarketing (lease)  31900   \n",
       "3                                 volvo na rep/world omni  27500   \n",
       "4                  financial services remarketing (lease)  66000   \n",
       "...                                                   ...    ...   \n",
       "558806                                   avis corporation  35300   \n",
       "558807                                    i -5 uhlmann rv  30200   \n",
       "558808             financial services remarketing (lease)  29800   \n",
       "558809  enterprise vehicle exchange / tra / rental / t...  15100   \n",
       "558810                   ford motor credit company,llc pd  29600   \n",
       "\n",
       "        sellingprice                                 saledate make_new  \\\n",
       "0              21500  Tue Dec 16 2014 12:30:00 GMT-0800 (PST)      kia   \n",
       "1              21500  Tue Dec 16 2014 12:30:00 GMT-0800 (PST)      kia   \n",
       "2              30000  Thu Jan 15 2015 04:30:00 GMT-0800 (PST)      bmw   \n",
       "3              27750  Thu Jan 29 2015 04:30:00 GMT-0800 (PST)    volvo   \n",
       "4              67000  Thu Dec 18 2014 12:30:00 GMT-0800 (PST)      bmw   \n",
       "...              ...                                      ...      ...   \n",
       "558806         33000  Thu Jul 09 2015 07:00:00 GMT-0700 (PDT)      kia   \n",
       "558807         30800  Wed Jul 08 2015 09:30:00 GMT-0700 (PDT)      ram   \n",
       "558808         34000  Wed Jul 08 2015 09:30:00 GMT-0700 (PDT)      bmw   \n",
       "558809         11100  Thu Jul 09 2015 06:45:00 GMT-0700 (PDT)   nissan   \n",
       "558810         26700  Thu May 28 2015 05:30:00 GMT-0700 (PDT)     ford   \n",
       "\n",
       "       body_new  \n",
       "0           suv  \n",
       "1           suv  \n",
       "2         sedan  \n",
       "3         sedan  \n",
       "4         sedan  \n",
       "...         ...  \n",
       "558806    sedan  \n",
       "558807      cab  \n",
       "558808      suv  \n",
       "558809    sedan  \n",
       "558810      cab  \n",
       "\n",
       "[517050 rows x 16 columns]"
      ]
     },
     "execution_count": 74,
     "metadata": {},
     "output_type": "execute_result"
    }
   ],
   "source": [
    "updated_df"
   ]
  },
  {
   "cell_type": "code",
   "execution_count": 75,
   "id": "CSzRLIZaVGFC",
   "metadata": {
    "colab": {
     "base_uri": "https://localhost:8080/"
    },
    "id": "CSzRLIZaVGFC",
    "outputId": "17edc946-d3fc-43a3-c3e7-7d3b8a0e9368"
   },
   "outputs": [
    {
     "data": {
      "text/plain": [
       "black        232332\n",
       "gray         171851\n",
       "beige         56937\n",
       "tan           41815\n",
       "brown          8136\n",
       "red            1276\n",
       "blue           1117\n",
       "silver         1067\n",
       "off-white       344\n",
       "purple          320\n",
       "gold            298\n",
       "white           237\n",
       "green           235\n",
       "burgundy        176\n",
       "orange          140\n",
       "yellow           20\n",
       "Name: interior, dtype: int64"
      ]
     },
     "execution_count": 75,
     "metadata": {},
     "output_type": "execute_result"
    }
   ],
   "source": [
    "updated_df.interior.value_counts().head(25)"
   ]
  },
  {
   "cell_type": "code",
   "execution_count": 76,
   "id": "l9rBj17rU9fs",
   "metadata": {
    "id": "l9rBj17rU9fs"
   },
   "outputs": [],
   "source": [
    "updated_df.interior.fillna(\"black\", inplace=True)"
   ]
  },
  {
   "cell_type": "code",
   "execution_count": 77,
   "id": "l_NQLRLmVMw3",
   "metadata": {
    "colab": {
     "base_uri": "https://localhost:8080/"
    },
    "id": "l_NQLRLmVMw3",
    "outputId": "7fb3442d-fb5b-4833-f4e8-13f4fd9149e1"
   },
   "outputs": [
    {
     "data": {
      "text/plain": [
       "year            0\n",
       "model           0\n",
       "trim            0\n",
       "transmission    0\n",
       "vin             0\n",
       "state           0\n",
       "condition       0\n",
       "odometer        0\n",
       "color           0\n",
       "interior        0\n",
       "seller          0\n",
       "mmr             0\n",
       "sellingprice    0\n",
       "saledate        0\n",
       "make_new        0\n",
       "body_new        0\n",
       "dtype: int64"
      ]
     },
     "execution_count": 77,
     "metadata": {},
     "output_type": "execute_result"
    }
   ],
   "source": [
    "updated_df.isnull().sum()"
   ]
  },
  {
   "cell_type": "code",
   "execution_count": 78,
   "id": "sfiRQ7_vV-FE",
   "metadata": {
    "colab": {
     "base_uri": "https://localhost:8080/"
    },
    "id": "sfiRQ7_vV-FE",
    "outputId": "0e0cb6dc-8c8a-40bf-9694-890c1e8279f3"
   },
   "outputs": [
    {
     "name": "stdout",
     "output_type": "stream",
     "text": [
      "<class 'pandas.core.frame.DataFrame'>\n",
      "Int64Index: 517050 entries, 0 to 558810\n",
      "Data columns (total 16 columns):\n",
      " #   Column        Non-Null Count   Dtype  \n",
      "---  ------        --------------   -----  \n",
      " 0   year          517050 non-null  int64  \n",
      " 1   model         517050 non-null  object \n",
      " 2   trim          517050 non-null  object \n",
      " 3   transmission  517050 non-null  object \n",
      " 4   vin           517050 non-null  object \n",
      " 5   state         517050 non-null  object \n",
      " 6   condition     517050 non-null  float64\n",
      " 7   odometer      517050 non-null  float64\n",
      " 8   color         517050 non-null  object \n",
      " 9   interior      517050 non-null  object \n",
      " 10  seller        517050 non-null  object \n",
      " 11  mmr           517050 non-null  int64  \n",
      " 12  sellingprice  517050 non-null  int64  \n",
      " 13  saledate      517050 non-null  object \n",
      " 14  make_new      517050 non-null  object \n",
      " 15  body_new      517050 non-null  object \n",
      "dtypes: float64(2), int64(3), object(11)\n",
      "memory usage: 67.1+ MB\n"
     ]
    }
   ],
   "source": [
    "updated_df.info()"
   ]
  },
  {
   "cell_type": "code",
   "execution_count": 79,
   "id": "A20f3spMjEE3",
   "metadata": {
    "colab": {
     "base_uri": "https://localhost:8080/"
    },
    "id": "A20f3spMjEE3",
    "outputId": "636113cc-370e-4d0a-f43f-1d830c839c19"
   },
   "outputs": [
    {
     "name": "stdout",
     "output_type": "stream",
     "text": [
      "There are 5 numerical variables\n",
      "\n",
      "The numerical variables are : ['year', 'condition', 'odometer', 'mmr', 'sellingprice']\n",
      "------------\n",
      "There are 11 categorical variables\n",
      "\n",
      "The categorical variables are : ['model', 'trim', 'transmission', 'vin', 'state', 'color', 'interior', 'seller', 'saledate', 'make_new', 'body_new']\n"
     ]
    }
   ],
   "source": [
    "# find numerical variables\n",
    "\n",
    "numerical = [var for var in updated_df.columns if updated_df[var].dtype=='int64'or updated_df[var].dtype==\"float64\" ]\n",
    "\n",
    "print('There are {} numerical variables\\n'.format(len(numerical)))\n",
    "print('The numerical variables are :', numerical)\n",
    "\n",
    "print(\"------------\")\n",
    "categorical = [var for var in updated_df.columns if updated_df[var].dtype=='object']\n",
    "\n",
    "print('There are {} categorical variables\\n'.format(len(categorical)))\n",
    "print('The categorical variables are :', categorical)\n",
    "\n",
    "\n"
   ]
  },
  {
   "cell_type": "markdown",
   "id": "sIJgc3RiVRUh",
   "metadata": {
    "id": "sIJgc3RiVRUh"
   },
   "source": [
    "We handle all od the missing values."
   ]
  },
  {
   "cell_type": "markdown",
   "id": "e310b289",
   "metadata": {},
   "source": [
    "# Categorical Variables to Indexes"
   ]
  },
  {
   "cell_type": "markdown",
   "id": "8739dbcf",
   "metadata": {},
   "source": [
    "**Make_new**"
   ]
  },
  {
   "cell_type": "code",
   "execution_count": 80,
   "id": "5907cd64",
   "metadata": {},
   "outputs": [
    {
     "data": {
      "text/plain": [
       "array(['kia', 'bmw', 'volvo', 'nissan', 'chevrolet', 'audi', 'ford',\n",
       "       'hyundai', 'buick', 'cadillac', 'acura', 'lexus', 'infiniti',\n",
       "       'jeep', 'mercedes', 'mitsubishi', 'mazda', 'mini', 'landrover',\n",
       "       'lincoln', 'jaguar', 'volkswagen', 'toyota', 'subaru', 'scion',\n",
       "       'porsche', 'dodge', 'fiat', 'chrysler', 'ferrari', 'honda', 'gmc',\n",
       "       'ram', 'smart', 'bentley', 'pontiac', 'saturn', 'maserati',\n",
       "       'mercury', 'hummer', 'saab', 'suzuki', 'oldsmobile', 'rolls-royce',\n",
       "       'isuzu', 'daewoo', 'plymouth', 'geo', 'tesla', 'airstream', 'dot',\n",
       "       'aston martin', 'fisker', 'lamborghini', 'lotus'], dtype=object)"
      ]
     },
     "execution_count": 80,
     "metadata": {},
     "output_type": "execute_result"
    }
   ],
   "source": [
    "updated_df.make_new.unique()"
   ]
  },
  {
   "cell_type": "code",
   "execution_count": 81,
   "id": "6b1006f9",
   "metadata": {},
   "outputs": [
    {
     "data": {
      "text/html": [
       "<div>\n",
       "<style scoped>\n",
       "    .dataframe tbody tr th:only-of-type {\n",
       "        vertical-align: middle;\n",
       "    }\n",
       "\n",
       "    .dataframe tbody tr th {\n",
       "        vertical-align: top;\n",
       "    }\n",
       "\n",
       "    .dataframe thead th {\n",
       "        text-align: right;\n",
       "    }\n",
       "</style>\n",
       "<table border=\"1\" class=\"dataframe\">\n",
       "  <thead>\n",
       "    <tr style=\"text-align: right;\">\n",
       "      <th></th>\n",
       "      <th>0</th>\n",
       "    </tr>\n",
       "  </thead>\n",
       "  <tbody>\n",
       "    <tr>\n",
       "      <th>0</th>\n",
       "      <td>kia</td>\n",
       "    </tr>\n",
       "    <tr>\n",
       "      <th>1</th>\n",
       "      <td>bmw</td>\n",
       "    </tr>\n",
       "    <tr>\n",
       "      <th>2</th>\n",
       "      <td>volvo</td>\n",
       "    </tr>\n",
       "    <tr>\n",
       "      <th>3</th>\n",
       "      <td>nissan</td>\n",
       "    </tr>\n",
       "    <tr>\n",
       "      <th>4</th>\n",
       "      <td>chevrolet</td>\n",
       "    </tr>\n",
       "    <tr>\n",
       "      <th>5</th>\n",
       "      <td>audi</td>\n",
       "    </tr>\n",
       "    <tr>\n",
       "      <th>6</th>\n",
       "      <td>ford</td>\n",
       "    </tr>\n",
       "    <tr>\n",
       "      <th>7</th>\n",
       "      <td>hyundai</td>\n",
       "    </tr>\n",
       "    <tr>\n",
       "      <th>8</th>\n",
       "      <td>buick</td>\n",
       "    </tr>\n",
       "    <tr>\n",
       "      <th>9</th>\n",
       "      <td>cadillac</td>\n",
       "    </tr>\n",
       "    <tr>\n",
       "      <th>10</th>\n",
       "      <td>acura</td>\n",
       "    </tr>\n",
       "    <tr>\n",
       "      <th>11</th>\n",
       "      <td>lexus</td>\n",
       "    </tr>\n",
       "    <tr>\n",
       "      <th>12</th>\n",
       "      <td>infiniti</td>\n",
       "    </tr>\n",
       "    <tr>\n",
       "      <th>13</th>\n",
       "      <td>jeep</td>\n",
       "    </tr>\n",
       "    <tr>\n",
       "      <th>14</th>\n",
       "      <td>mercedes</td>\n",
       "    </tr>\n",
       "    <tr>\n",
       "      <th>15</th>\n",
       "      <td>mitsubishi</td>\n",
       "    </tr>\n",
       "    <tr>\n",
       "      <th>16</th>\n",
       "      <td>mazda</td>\n",
       "    </tr>\n",
       "    <tr>\n",
       "      <th>17</th>\n",
       "      <td>mini</td>\n",
       "    </tr>\n",
       "    <tr>\n",
       "      <th>18</th>\n",
       "      <td>landrover</td>\n",
       "    </tr>\n",
       "    <tr>\n",
       "      <th>19</th>\n",
       "      <td>lincoln</td>\n",
       "    </tr>\n",
       "    <tr>\n",
       "      <th>20</th>\n",
       "      <td>jaguar</td>\n",
       "    </tr>\n",
       "    <tr>\n",
       "      <th>21</th>\n",
       "      <td>volkswagen</td>\n",
       "    </tr>\n",
       "    <tr>\n",
       "      <th>22</th>\n",
       "      <td>toyota</td>\n",
       "    </tr>\n",
       "    <tr>\n",
       "      <th>23</th>\n",
       "      <td>subaru</td>\n",
       "    </tr>\n",
       "    <tr>\n",
       "      <th>24</th>\n",
       "      <td>scion</td>\n",
       "    </tr>\n",
       "    <tr>\n",
       "      <th>25</th>\n",
       "      <td>porsche</td>\n",
       "    </tr>\n",
       "    <tr>\n",
       "      <th>26</th>\n",
       "      <td>dodge</td>\n",
       "    </tr>\n",
       "    <tr>\n",
       "      <th>27</th>\n",
       "      <td>fiat</td>\n",
       "    </tr>\n",
       "    <tr>\n",
       "      <th>28</th>\n",
       "      <td>chrysler</td>\n",
       "    </tr>\n",
       "    <tr>\n",
       "      <th>29</th>\n",
       "      <td>ferrari</td>\n",
       "    </tr>\n",
       "    <tr>\n",
       "      <th>30</th>\n",
       "      <td>honda</td>\n",
       "    </tr>\n",
       "    <tr>\n",
       "      <th>31</th>\n",
       "      <td>gmc</td>\n",
       "    </tr>\n",
       "    <tr>\n",
       "      <th>32</th>\n",
       "      <td>ram</td>\n",
       "    </tr>\n",
       "    <tr>\n",
       "      <th>33</th>\n",
       "      <td>smart</td>\n",
       "    </tr>\n",
       "    <tr>\n",
       "      <th>34</th>\n",
       "      <td>bentley</td>\n",
       "    </tr>\n",
       "    <tr>\n",
       "      <th>35</th>\n",
       "      <td>pontiac</td>\n",
       "    </tr>\n",
       "    <tr>\n",
       "      <th>36</th>\n",
       "      <td>saturn</td>\n",
       "    </tr>\n",
       "    <tr>\n",
       "      <th>37</th>\n",
       "      <td>maserati</td>\n",
       "    </tr>\n",
       "    <tr>\n",
       "      <th>38</th>\n",
       "      <td>mercury</td>\n",
       "    </tr>\n",
       "    <tr>\n",
       "      <th>39</th>\n",
       "      <td>hummer</td>\n",
       "    </tr>\n",
       "    <tr>\n",
       "      <th>40</th>\n",
       "      <td>saab</td>\n",
       "    </tr>\n",
       "    <tr>\n",
       "      <th>41</th>\n",
       "      <td>suzuki</td>\n",
       "    </tr>\n",
       "    <tr>\n",
       "      <th>42</th>\n",
       "      <td>oldsmobile</td>\n",
       "    </tr>\n",
       "    <tr>\n",
       "      <th>43</th>\n",
       "      <td>rolls-royce</td>\n",
       "    </tr>\n",
       "    <tr>\n",
       "      <th>44</th>\n",
       "      <td>isuzu</td>\n",
       "    </tr>\n",
       "    <tr>\n",
       "      <th>45</th>\n",
       "      <td>daewoo</td>\n",
       "    </tr>\n",
       "    <tr>\n",
       "      <th>46</th>\n",
       "      <td>plymouth</td>\n",
       "    </tr>\n",
       "    <tr>\n",
       "      <th>47</th>\n",
       "      <td>geo</td>\n",
       "    </tr>\n",
       "    <tr>\n",
       "      <th>48</th>\n",
       "      <td>tesla</td>\n",
       "    </tr>\n",
       "    <tr>\n",
       "      <th>49</th>\n",
       "      <td>airstream</td>\n",
       "    </tr>\n",
       "    <tr>\n",
       "      <th>50</th>\n",
       "      <td>dot</td>\n",
       "    </tr>\n",
       "    <tr>\n",
       "      <th>51</th>\n",
       "      <td>aston martin</td>\n",
       "    </tr>\n",
       "    <tr>\n",
       "      <th>52</th>\n",
       "      <td>fisker</td>\n",
       "    </tr>\n",
       "    <tr>\n",
       "      <th>53</th>\n",
       "      <td>lamborghini</td>\n",
       "    </tr>\n",
       "    <tr>\n",
       "      <th>54</th>\n",
       "      <td>lotus</td>\n",
       "    </tr>\n",
       "  </tbody>\n",
       "</table>\n",
       "</div>"
      ],
      "text/plain": [
       "               0\n",
       "0            kia\n",
       "1            bmw\n",
       "2          volvo\n",
       "3         nissan\n",
       "4      chevrolet\n",
       "5           audi\n",
       "6           ford\n",
       "7        hyundai\n",
       "8          buick\n",
       "9       cadillac\n",
       "10         acura\n",
       "11         lexus\n",
       "12      infiniti\n",
       "13          jeep\n",
       "14      mercedes\n",
       "15    mitsubishi\n",
       "16         mazda\n",
       "17          mini\n",
       "18     landrover\n",
       "19       lincoln\n",
       "20        jaguar\n",
       "21    volkswagen\n",
       "22        toyota\n",
       "23        subaru\n",
       "24         scion\n",
       "25       porsche\n",
       "26         dodge\n",
       "27          fiat\n",
       "28      chrysler\n",
       "29       ferrari\n",
       "30         honda\n",
       "31           gmc\n",
       "32           ram\n",
       "33         smart\n",
       "34       bentley\n",
       "35       pontiac\n",
       "36        saturn\n",
       "37      maserati\n",
       "38       mercury\n",
       "39        hummer\n",
       "40          saab\n",
       "41        suzuki\n",
       "42    oldsmobile\n",
       "43   rolls-royce\n",
       "44         isuzu\n",
       "45        daewoo\n",
       "46      plymouth\n",
       "47           geo\n",
       "48         tesla\n",
       "49     airstream\n",
       "50           dot\n",
       "51  aston martin\n",
       "52        fisker\n",
       "53   lamborghini\n",
       "54         lotus"
      ]
     },
     "execution_count": 81,
     "metadata": {},
     "output_type": "execute_result"
    }
   ],
   "source": [
    "df = pd.DataFrame(updated_df.make_new.unique())\n",
    "df"
   ]
  },
  {
   "cell_type": "code",
   "execution_count": 82,
   "id": "1c4deb2a",
   "metadata": {},
   "outputs": [],
   "source": [
    "unique_texts = updated_df['make_new'].unique()\n",
    "text_to_index = {text: index for index, text in enumerate(unique_texts)}"
   ]
  },
  {
   "cell_type": "code",
   "execution_count": 83,
   "id": "7b50638e",
   "metadata": {},
   "outputs": [],
   "source": [
    "updated_df['make_index'] = updated_df['make_new'].map(text_to_index)"
   ]
  },
  {
   "cell_type": "markdown",
   "id": "39c04707",
   "metadata": {},
   "source": [
    "**Model**"
   ]
  },
  {
   "cell_type": "code",
   "execution_count": 84,
   "id": "0dd36f72",
   "metadata": {},
   "outputs": [
    {
     "data": {
      "text/plain": [
       "array(['Sorento', '3 Series', 'S60', '6 Series Gran Coupe', 'Altima',\n",
       "       'M5', 'Cruze', 'A4', 'Camaro', 'A6', 'Optima', 'Fusion', 'Q5',\n",
       "       '6 Series', 'Impala', '5 Series', 'A3', 'Sonata', 'XC70', 'X5',\n",
       "       'SQ5', 'S5', 'Verano', 'Suburban', 'ELR', 'V60', 'X6', 'ILX',\n",
       "       'K900', 'Malibu', 'RX 350', 'Versa', 'Elantra', 'Versa Note', 'A8',\n",
       "       'X1', 'Enclave', 'TTS', '4 Series', 'Silverado 2500HD', 'MDX',\n",
       "       'Silverado 1500', 'SRX', 'G Coupe', 'G Sedan', 'FX', 'Santa Fe',\n",
       "       'Genesis', 'Equus', 'Sonata Hybrid', 'Accent', 'Veloster',\n",
       "       'Elantra Coupe', 'Azera', 'Tucson', 'Genesis Coupe', 'Wrangler',\n",
       "       'S-Class', 'GS 350', 'Outlander', 'Mazda2', 'Rio', 'C-Class',\n",
       "       '370Z', 'Soul', 'Outlander Sport', 'ES 350', 'E-Class', 'Mazda3',\n",
       "       'Cooper Clubman', 'CX-9', 'Forte', 'Compass', 'JX', 'LR4',\n",
       "       'Mazda5', 'M', 'Cooper', 'Range Rover Evoque', 'LS 460',\n",
       "       'GLK-Class', 'Sportage', 'Grand Cherokee', 'MKX', 'mkt', 'XF',\n",
       "       'GL-Class', 'M-Class', 'Cooper Countryman', 'Lancer',\n",
       "       'Range Rover Sport', 'Passat', 'Corolla', 'XC60', 'Sienna', 'Juke',\n",
       "       'Yaris', 'Sentra', 'Rogue', 'NV', 'CC', 'Camry', 'Tacoma', 'Jetta',\n",
       "       'Impreza WRX', 'FJ Cruiser', 'Beetle', 'Avalon', 'FR-S', 'NV200',\n",
       "       'RAV4', 'Quest', 'tC', 'Maxima', 'Cayenne', '911', 'Xterra',\n",
       "       'Prius', 'S80', 'Frontier', 'Boxster', 'Camry Hybrid', 'xB',\n",
       "       'Cube', 'Jetta SportWagen', '4Runner', 'Sequoia', 'Legacy', 'Leaf',\n",
       "       'Armada', 'Venza', 'Murano', 'Pathfinder', 'Panamera',\n",
       "       'Highlander', 'Impreza', '750i', 'TSX', '7 Series', 'TL', '750li',\n",
       "       'S4', 'A7', 'A5', '1 Series', 'RDX', 'M3', 'Cooper Coupe', 'ZDX',\n",
       "       'R8', 'X3', 'Avenger', 'E-Series Wagon', 'Escape', 'Edge', 'Focus',\n",
       "       'Z4', 'Traverse', 'F-350 Super Duty', 'Fiesta', '500', '200',\n",
       "       'Journey', 'Charger', 'Flex', 'e350', 'Equinox', '300', 'F-150',\n",
       "       'Explorer', 'Captiva Sport', 'Escalade', 'Grand Caravan',\n",
       "       'CTS Coupe', 'Town and Country', 'E-Series Van', 'Volt',\n",
       "       'Express Cargo', 'e150', 'X5 M', 'Expedition', 'Colorado',\n",
       "       'Express', 'California', 'Escalade ESV', 'Sonic', 'Accord', 'CR-V',\n",
       "       'Mustang', 'Civic', 'Fit', 'Pilot', 'Odyssey', 'Crosstour',\n",
       "       'Terrain', 'Taurus', 'G Convertible', 'Yukon', 'Veracruz', 'XJ',\n",
       "       'Liberty', 'IS 250', 'XK', 'QX', 'CT 200h', 'Mazda6', 'MKZ',\n",
       "       'Navigator', 'Range Rover', 'SL-Class', 'Sedona', 'IS 350',\n",
       "       'Patriot', 'galant', '1500', 'GT-R', 'Forester', 'Galant',\n",
       "       'fortwo', 'GLI', '5 Series Gran Turismo', 'XC90', 'Tiguan', 'GTI',\n",
       "       'Tundra', 'Highlander Hybrid', 'Prius Plug-in', 'CR-Z', 'EX',\n",
       "       'Sierra 1500', 'Transit Connect', 'LaCrosse', 'HHR',\n",
       "       'Accord Crosstour', 'CTS', 'Nitro', 'Tahoe', 'Challenger', 'CTS-V',\n",
       "       'Escape Hybrid', 'X6 M', 'Ranger', 'Insight', 'Fusion Hybrid',\n",
       "       'CTS-V Coupe', 'F-250 Super Duty', 'Acadia', 'Impala Limited',\n",
       "       'Dart', 'Spark', 'M37', 'Sprinter', 'Town Car', 'CLS-Class',\n",
       "       'CX-7', 'RX 450h', 'MKT', 'QX56', 'Aveo', 'Outback', 'Caliber',\n",
       "       'g1500', 'Sebring', 'Corvette', 'Continental GT Speed', 'malibu',\n",
       "       'Land Cruiser', 'town', 'V50', 'Commander', 'Altima Hybrid',\n",
       "       'G37 Convertible', 'g6', 'New Beetle', 'Golf', 'LR2',\n",
       "       'Lancer Sportback', 'G5', 'Yukon XL', 'Escalade Hybrid',\n",
       "       'Avalanche', '2500', 'SLK-Class', 'Spectra', 'Rondo', 'Borrego',\n",
       "       'G-Class', 'MKS', 'CLK-Class', 'Tahoe Hybrid', 'Econoline Cargo',\n",
       "       'Econoline Wagon', 'PT Cruiser', 'STS', 'Ridgeline',\n",
       "       'F-450 Super Duty', 'Magnum', 'Durango', 'S40', 'Malibu Classic',\n",
       "       'Q7', 'TT', 'Explorer Sport Trac', 'Ram Pickup 1500', 'impala',\n",
       "       'Pacifica', 'Routan', 'S6', 'Rabbit', 'Sierra 2500HD', 'C30',\n",
       "       'VUE', 'GranTurismo', 'G6', 'Grand Prix', '350Z', 'Raider',\n",
       "       'Mazdaspeed Mazda3', 'Solstice', 'Milan', 'GX 470', 'RX 400h',\n",
       "       'Matrix', 'Titan', 'H3', 'CL-Class', 'Outlook', '7', 'G37', 'IS F',\n",
       "       'Touareg 2', 'Lancer Evolution', 'G35', 'xD', 'XJ-Series',\n",
       "       'Cobalt', 'hhr', 'H2', 'DTS', 'lr3', 'sts', 'M45', 'Uplander',\n",
       "       'GS 450h', 'Silverado 1500 Classic', 'corvette', 'rangerover',\n",
       "       'Rendezvous', 'Monte Carlo', 'FX35', 'ION', 'R-Class', 'lancer',\n",
       "       'Eclipse', 'c230wz', 'cx-7', 'matrix', 'tundra', 'Aura', 'RSX',\n",
       "       'mazda5', 'Mariner', 'gx', 'Five Hundred', 'Envoy XL', 'S-Type',\n",
       "       'Continental Flying Spur', 'S2000', 'FX45', 'sr', 'pilot',\n",
       "       'Element', 'range', 'Cayman S', 'Mark LT', 'GS 300', '350z',\n",
       "       'Camry Solara', 'rx8', 'Touareg', 'Relay', 'lx', 'allroad quattro',\n",
       "       '9-3', '500L', 'C-Max Hybrid', 'pacifica', 'Ram Pickup 3500',\n",
       "       'Sprinter Cargo', 'DeVille', 'H2 SUT', 'TrailBlazer', 'Canyon',\n",
       "       'srx', 'Dakota', 'Continental GT', 'Neon', 'ES 330', 'Freestyle',\n",
       "       'Stratus', 'Q45', 'Freestar', 'Grand Marquis', 'XLR', 'Aviator',\n",
       "       'g55', 'MPV', 'LS 430', 'RX 330', 'SC 430', 'discovery',\n",
       "       'Envoy XUV', 'Monterey', 'Excursion', 'Mountaineer', 'Malibu Maxx',\n",
       "       'Celica', 'Grand Am', 'Envoy', 'Endeavor', 'Concorde', 'Marauder',\n",
       "       'C70', 'escape', 'QX4', 'LS', 'Blazer', 'Ram Pickup 2500',\n",
       "       'LeSabre', 'V40', 'Montero', 'ES 300', 'focus', 'Thunderbird',\n",
       "       'Century', 'Cavalier', 'Venture', 'S-10', 's55', 'XL-7',\n",
       "       'Silverado 1500HD', 'Savana Cargo', 'X-Type', 'Sonoma', 'IS 300',\n",
       "       'Protege5', 'sprinter', 'RL', 'Alero', 'Grand Vitara', 'RX 300',\n",
       "       'L-Series', 'Intrigue', 'XC', 'S-Series', 'alero',\n",
       "       'Discovery Series II', 'ECHO', 'Continental', 'Seville',\n",
       "       'Park Avenue', 'Millenia', 'camaro', 'Z3', 'civic', 'odyssey',\n",
       "       'taurus', 'sienna', 'expedition', 'ram', 's10', 'LHS', 'windstar',\n",
       "       'f250', 'Regal', 'G20', 'Eldorado', 'voyager', 'venture',\n",
       "       'durango', 'gr', 'Intrepid', 'Contour', 'S90', 'I30', 'Sunfire',\n",
       "       'V70', 'mpv', 'caravan', 'explorer', 'Escort', '200SX', 'wrangler',\n",
       "       'S70', 'Mustang SVT Cobra', '300e', 'pickup', 'ciera', 'LS 400',\n",
       "       'Cutlass Ciera', 'Santa Fe Sport', 'Cherokee', 'Cadenza',\n",
       "       'Elantra GT', 'F-TYPE', 'Shelby GT500', 'Q50', 'QX70',\n",
       "       'Q60 Convertible', 'QX60', 'CX-5', 'Cooper Paceman', 'MX-5 Miata',\n",
       "       'Rogue Select', 'Cayman', 'CLA-Class', 'allroad', 'ATS', 'Prius v',\n",
       "       'Continental GTC', 'XV Crosstrek', '3500', 'C-Max Energi', 'RS 7',\n",
       "       'GX 460', 'CTS Wagon', 'SLS AMG', 'Aspen', 'Eclipse Spyder',\n",
       "       'Vibe', 'Eos', 'Entourage', 'expeditn', 'rl', 'Caravan', 'SSR',\n",
       "       'Safari Cargo', 'Amanti', 'Tribute', 'Sable', 'Silverado 3500',\n",
       "       'Phaeton', 'forester', 'R32', 'Bonneville', '9-5', 'I35', 'g500',\n",
       "       'Bravada', 'f150', 'Truck', 'Tercel', 'C/K 1500 Series', 'SC 300',\n",
       "       'Roadmaster', 'SC 400', '420sel', 'LX 570', 'QX80', 'RS 5',\n",
       "       'Jetta GLI', 'ES 300h', 'capt', 'M4', 'SX4', 'iQ', 'grand',\n",
       "       'Kizashi', 'C/V Cargo Van', 'Prius c', '750lxi', 'alp', 'Lucerne',\n",
       "       'Escalade EXT', 'Silverado 3500HD', 'Crown Victoria',\n",
       "       'Sierra 3500HD', 'M56', 'rio', 'IS 250 C', 'endeavor', 'corolla',\n",
       "       'ActiveHybrid X6', 'a4', 'dts', 'g3500', 'colorado', 'sebring',\n",
       "       'e250', 'M35', 'Elantra Touring', 'G37 Coupe', 'HS 250h',\n",
       "       'journey', 'Mazdaspeed3', 'Milan Hybrid', 'Ghost',\n",
       "       'Silverado 1500 Hybrid', 'crown', 'Yukon Hybrid', 'Taurus X',\n",
       "       'optima', 'borrego', '6', 'Mariner Hybrid', 'G8', 'montana',\n",
       "       'Torrent', 'VUE Hybrid', 'G3', '9-7X', 'vibe', 'Expedition EL',\n",
       "       'Tiburon', 'patriot', 'LR3', 'Navigator L', 'Astra', 'Tribeca',\n",
       "       'XL7', 'sx4', 'Forenza', 'Sky', 'M6', 'S8', 'Terraza',\n",
       "       'Silverado 2500HD Classic', 'uplander', 'ram3500',\n",
       "       'Sierra 1500 Classic', 'Focus ST', 'Fusion Energi', 'XK-Series',\n",
       "       'quattroporte', 'B-Series Truck', 'mazda3', 'mazda6',\n",
       "       'Mazdaspeed Mazda6', 'Montego', 'B9 Tribeca', 'yaris', 'Rainier',\n",
       "       'TrailBlazer EXT', 'optra', 'Crossfire', 'magnum', 'savana',\n",
       "       'police', 'Sierra 1500HD', 'ridgelin', 'Savana', 'Zephyr', 'rrs',\n",
       "       'Quattroporte', 'tribute', 'carrera', 'Montana SV6', 'Verona',\n",
       "       'tt', 'Classic', 'pt', 'stratus', 'freestyle', 'Ascender', 'XG350',\n",
       "       'Q60 Coupe', 'Q70', 'QX50', 'x-trail', 'GTO', 'Montana', 'xA',\n",
       "       'L300', 'Baja', '9-2X', 'Aerio', 'passat', 'el', 'rainier',\n",
       "       'Silverado 2500', 'Astro', '300M', 'intrepid', 'F-150 Heritage',\n",
       "       'accord', 'Rodeo', '3', 'Freelander', 'c240w', 'MR2 Spyder',\n",
       "       'RS 6', '320i', 'Astro Cargo', 'Tracker', 'Voyager',\n",
       "       'Explorer Sport', 'Windstar', 'cl55', 'Montero Sport', 'Diamante',\n",
       "       'Protege', 'Silhouette', 'b1500', 'Prizm', 'concorde', '626',\n",
       "       'Blackwood', 'Rodeo Sport', 'Villager', 'Firebird', 'Aurora', 'CL',\n",
       "       'EuroVan', 'Catera', 'Leganza', 'santa', 'XG300', 'Prelude',\n",
       "       'LX 470', 'Trooper', 'GS 430', 'Aztek', 'Prowler', 'Cabrio',\n",
       "       'Integra', 'cavalier', 'astro', 'excurs', 'dakota', 'Cirrus',\n",
       "       'Tahoe Limited/Z71', 'Jimmy', 'ranger', 'Sierra 2500', 'yukon',\n",
       "       'Sephia', 'Cougar', 'Mirage', 'breeze', 'silhouette', 'villager',\n",
       "       'beetle', 'suburban', 'Passport', 'Esteem', 'pathfinder', 'quest',\n",
       "       'Breeze', 'e300dt', 'mountaineer', 'intrigue', 'twn&country',\n",
       "       'envoy', 'Cutlass', 'Discovery', 'Lumina', 'E-150', 'Regency',\n",
       "       'thunderbird', 'B-Series Pickup', 'legacy', 'corsica', 'Le Baron',\n",
       "       'Caprice', 'Pickup', '500-Class', '300-Class', 'previa',\n",
       "       'Murano CrossCabriolet', 'NV Cargo', 'Jetta Hybrid', 'S7',\n",
       "       'Encore', 'XTS', 'Black Diamond Avalanche', 'RLX', '2 Series',\n",
       "       'M6 Gran Coupe', 'regal', 'versa', 'BRZ', 'C/V Tradesman',\n",
       "       'Model S', 'Golf R', 'routan', 'TSX Sport Wagon', 'interstate',\n",
       "       'a6', 'Corvette Stingray', 'SS', 'Mazdaspeed 3', 'i-MiEV',\n",
       "       'elantra', 'jetta', 'F430', 'EX35', 'g5', 'GranSport', 'escalade',\n",
       "       'neon', 'f350', 'Yukon Denali', 'Ghibli', 'Cutlass Supreme',\n",
       "       'cougar', 'IS 350 C', 'lacrosse', '323i', 'cobalt', 'x3', 'Reno',\n",
       "       'pursuit', 'Mazdaspeed MX-5 Miata', 'Ram Cargo', 'expedit',\n",
       "       'Safari', 'Axiom', 'Eighty-Eight', 'camry', 'Legend', '850', 'J30',\n",
       "       'Promaster Cargo Van', 'sonic', 'rr', '1', 'Malibu Hybrid', '350',\n",
       "       'twn/cntry', 'Spirit', 'Accord Hybrid', '3 Series Gran Turismo',\n",
       "       'e', 'Cooper Roadster', 'cruze', 'c230', 'crossfire', 'Viper',\n",
       "       'Riviera', 'compass', 'Avalon Hybrid', 'RX-8', 'V8 Vantage',\n",
       "       'Beetle Convertible', 'Equator', 'Sierra 2500HD Classic',\n",
       "       'sportage', 'C/K 3500 Series', 'Mark VIII', 'century', 'charger',\n",
       "       'GranTurismo Convertible', 'avenger', 'equinox', 'allure', 'c240s',\n",
       "       'Vitara', 'avalon', 'eurovan', 'siera', 'pathfind', 'GS 400',\n",
       "       'Eighty-Eight Royale', 'cherokee', 'ActiveHybrid 7', 'aveo',\n",
       "       'GS 460', 'Tribute Hybrid', 'Aura Hybrid', 'tahoe', 'g2500',\n",
       "       'safari', 'Golf GTI', 'i-Series', 'golf', 'MKZ Hybrid', '300ZX',\n",
       "       'Macan', 'FX50', 'comm', 'STS-V', 'Windstar Cargo', 'CTS-V Wagon',\n",
       "       'Karma', '328i', 'wave', '42c', 'b2300', 'mountnr', 'Coupe',\n",
       "       'uplandr', 'Tempo', 'Tracer', 'CV Tradesman', 'DB9',\n",
       "       'C/K 2500 Series', 'i8', 'Rapide', 'Nubira', 'Mazdaspeed Protege',\n",
       "       '960', 'Corsica', 'NV Passenger', 'Spyder', 'LS 600h L',\n",
       "       '400-Class', 'H3T', 'LX 450', 'WRX', 'Silverado 3500 Classic',\n",
       "       '500e', 'Continental Supersports', 'Z4 M', 'Sierra 3500',\n",
       "       'Mystique', 'F-150 SVT Lightning', 'MKC', 'Aspire', '940',\n",
       "       '190-Class', 'Gallardo', 'Amigo', 'Continental Flying Spur Speed',\n",
       "       '3000GT', 'TT RS', 'B-Series', 'ActiveHybrid 5',\n",
       "       'Sierra 1500 Hybrid', 'ML55 AMG', 'S-10 Blazer', 'RS 4', 'T100',\n",
       "       'Continental GTC Speed', 'mdx', 'F-250', 'Sidekick', 'E-250',\n",
       "       '8 Series', '420-Class', 'E-350', 'Achieva',\n",
       "       'B-Class Electric Drive', 'Paseo', 'Exige', 'X4', 'Transit Van',\n",
       "       'Transit Wagon', 'H1', 'SLS AMG GT', 'Flying Spur', 'Metro',\n",
       "       'Grand Cherokee SRT', 'RC F', '4 Series Gran Coupe', 'Spark EV',\n",
       "       'RC 350', '360', 'GLA-Class', 'TLX', '458 Italia'], dtype=object)"
      ]
     },
     "execution_count": 84,
     "metadata": {},
     "output_type": "execute_result"
    }
   ],
   "source": [
    "updated_df.model.unique()"
   ]
  },
  {
   "cell_type": "code",
   "execution_count": 85,
   "id": "839b86bb",
   "metadata": {},
   "outputs": [
    {
     "data": {
      "text/html": [
       "<div>\n",
       "<style scoped>\n",
       "    .dataframe tbody tr th:only-of-type {\n",
       "        vertical-align: middle;\n",
       "    }\n",
       "\n",
       "    .dataframe tbody tr th {\n",
       "        vertical-align: top;\n",
       "    }\n",
       "\n",
       "    .dataframe thead th {\n",
       "        text-align: right;\n",
       "    }\n",
       "</style>\n",
       "<table border=\"1\" class=\"dataframe\">\n",
       "  <thead>\n",
       "    <tr style=\"text-align: right;\">\n",
       "      <th></th>\n",
       "      <th>0</th>\n",
       "    </tr>\n",
       "  </thead>\n",
       "  <tbody>\n",
       "    <tr>\n",
       "      <th>0</th>\n",
       "      <td>Sorento</td>\n",
       "    </tr>\n",
       "    <tr>\n",
       "      <th>1</th>\n",
       "      <td>3 Series</td>\n",
       "    </tr>\n",
       "    <tr>\n",
       "      <th>2</th>\n",
       "      <td>S60</td>\n",
       "    </tr>\n",
       "    <tr>\n",
       "      <th>3</th>\n",
       "      <td>6 Series Gran Coupe</td>\n",
       "    </tr>\n",
       "    <tr>\n",
       "      <th>4</th>\n",
       "      <td>Altima</td>\n",
       "    </tr>\n",
       "    <tr>\n",
       "      <th>...</th>\n",
       "      <td>...</td>\n",
       "    </tr>\n",
       "    <tr>\n",
       "      <th>955</th>\n",
       "      <td>RC 350</td>\n",
       "    </tr>\n",
       "    <tr>\n",
       "      <th>956</th>\n",
       "      <td>360</td>\n",
       "    </tr>\n",
       "    <tr>\n",
       "      <th>957</th>\n",
       "      <td>GLA-Class</td>\n",
       "    </tr>\n",
       "    <tr>\n",
       "      <th>958</th>\n",
       "      <td>TLX</td>\n",
       "    </tr>\n",
       "    <tr>\n",
       "      <th>959</th>\n",
       "      <td>458 Italia</td>\n",
       "    </tr>\n",
       "  </tbody>\n",
       "</table>\n",
       "<p>960 rows × 1 columns</p>\n",
       "</div>"
      ],
      "text/plain": [
       "                       0\n",
       "0                Sorento\n",
       "1               3 Series\n",
       "2                    S60\n",
       "3    6 Series Gran Coupe\n",
       "4                 Altima\n",
       "..                   ...\n",
       "955               RC 350\n",
       "956                  360\n",
       "957            GLA-Class\n",
       "958                  TLX\n",
       "959           458 Italia\n",
       "\n",
       "[960 rows x 1 columns]"
      ]
     },
     "execution_count": 85,
     "metadata": {},
     "output_type": "execute_result"
    }
   ],
   "source": [
    "df = pd.DataFrame(updated_df.model.unique())\n",
    "df"
   ]
  },
  {
   "cell_type": "code",
   "execution_count": 86,
   "id": "4a7a6ffa",
   "metadata": {},
   "outputs": [],
   "source": [
    "unique_texts = updated_df['model'].unique()\n",
    "text_to_index = {text: index for index, text in enumerate(unique_texts)}"
   ]
  },
  {
   "cell_type": "code",
   "execution_count": 87,
   "id": "931f649b",
   "metadata": {},
   "outputs": [],
   "source": [
    "updated_df['model_index'] = updated_df['model'].map(text_to_index)"
   ]
  },
  {
   "cell_type": "markdown",
   "id": "f629e231",
   "metadata": {},
   "source": [
    "**Body_new**"
   ]
  },
  {
   "cell_type": "code",
   "execution_count": 88,
   "id": "a0eec0e4",
   "metadata": {},
   "outputs": [
    {
     "data": {
      "text/plain": [
       "array(['suv', 'sedan', 'convertible', 'coupe', 'wagon', 'hatchback',\n",
       "       'cab', 'van'], dtype=object)"
      ]
     },
     "execution_count": 88,
     "metadata": {},
     "output_type": "execute_result"
    }
   ],
   "source": [
    "updated_df.body_new.unique()"
   ]
  },
  {
   "cell_type": "code",
   "execution_count": 89,
   "id": "9c4293d9",
   "metadata": {},
   "outputs": [
    {
     "data": {
      "text/html": [
       "<div>\n",
       "<style scoped>\n",
       "    .dataframe tbody tr th:only-of-type {\n",
       "        vertical-align: middle;\n",
       "    }\n",
       "\n",
       "    .dataframe tbody tr th {\n",
       "        vertical-align: top;\n",
       "    }\n",
       "\n",
       "    .dataframe thead th {\n",
       "        text-align: right;\n",
       "    }\n",
       "</style>\n",
       "<table border=\"1\" class=\"dataframe\">\n",
       "  <thead>\n",
       "    <tr style=\"text-align: right;\">\n",
       "      <th></th>\n",
       "      <th>0</th>\n",
       "    </tr>\n",
       "  </thead>\n",
       "  <tbody>\n",
       "    <tr>\n",
       "      <th>0</th>\n",
       "      <td>suv</td>\n",
       "    </tr>\n",
       "    <tr>\n",
       "      <th>1</th>\n",
       "      <td>sedan</td>\n",
       "    </tr>\n",
       "    <tr>\n",
       "      <th>2</th>\n",
       "      <td>convertible</td>\n",
       "    </tr>\n",
       "    <tr>\n",
       "      <th>3</th>\n",
       "      <td>coupe</td>\n",
       "    </tr>\n",
       "    <tr>\n",
       "      <th>4</th>\n",
       "      <td>wagon</td>\n",
       "    </tr>\n",
       "    <tr>\n",
       "      <th>5</th>\n",
       "      <td>hatchback</td>\n",
       "    </tr>\n",
       "    <tr>\n",
       "      <th>6</th>\n",
       "      <td>cab</td>\n",
       "    </tr>\n",
       "    <tr>\n",
       "      <th>7</th>\n",
       "      <td>van</td>\n",
       "    </tr>\n",
       "  </tbody>\n",
       "</table>\n",
       "</div>"
      ],
      "text/plain": [
       "             0\n",
       "0          suv\n",
       "1        sedan\n",
       "2  convertible\n",
       "3        coupe\n",
       "4        wagon\n",
       "5    hatchback\n",
       "6          cab\n",
       "7          van"
      ]
     },
     "execution_count": 89,
     "metadata": {},
     "output_type": "execute_result"
    }
   ],
   "source": [
    "df = pd.DataFrame(updated_df.body_new.unique())\n",
    "df"
   ]
  },
  {
   "cell_type": "code",
   "execution_count": 90,
   "id": "1ec64bcc",
   "metadata": {},
   "outputs": [],
   "source": [
    "unique_texts = updated_df['body_new'].unique()\n",
    "text_to_index = {text: index for index, text in enumerate(unique_texts)}"
   ]
  },
  {
   "cell_type": "code",
   "execution_count": 91,
   "id": "6409c573",
   "metadata": {},
   "outputs": [],
   "source": [
    "updated_df['body_index'] = updated_df['body_new'].map(text_to_index)"
   ]
  },
  {
   "cell_type": "markdown",
   "id": "255da489",
   "metadata": {},
   "source": [
    "**Color**"
   ]
  },
  {
   "cell_type": "code",
   "execution_count": 92,
   "id": "5f7f64b5",
   "metadata": {},
   "outputs": [
    {
     "data": {
      "text/plain": [
       "array(['white', 'gray', 'black', 'red', 'silver', 'blue', 'brown',\n",
       "       'beige', 'purple', 'burgundy', 'gold', 'yellow', 'green',\n",
       "       'charcoal', 'orange', 'off-white', 'turquoise', 'pink', 'lime'],\n",
       "      dtype=object)"
      ]
     },
     "execution_count": 92,
     "metadata": {},
     "output_type": "execute_result"
    }
   ],
   "source": [
    "updated_df.color.unique()"
   ]
  },
  {
   "cell_type": "code",
   "execution_count": 93,
   "id": "fdc15231",
   "metadata": {},
   "outputs": [
    {
     "data": {
      "text/html": [
       "<div>\n",
       "<style scoped>\n",
       "    .dataframe tbody tr th:only-of-type {\n",
       "        vertical-align: middle;\n",
       "    }\n",
       "\n",
       "    .dataframe tbody tr th {\n",
       "        vertical-align: top;\n",
       "    }\n",
       "\n",
       "    .dataframe thead th {\n",
       "        text-align: right;\n",
       "    }\n",
       "</style>\n",
       "<table border=\"1\" class=\"dataframe\">\n",
       "  <thead>\n",
       "    <tr style=\"text-align: right;\">\n",
       "      <th></th>\n",
       "      <th>0</th>\n",
       "    </tr>\n",
       "  </thead>\n",
       "  <tbody>\n",
       "    <tr>\n",
       "      <th>0</th>\n",
       "      <td>white</td>\n",
       "    </tr>\n",
       "    <tr>\n",
       "      <th>1</th>\n",
       "      <td>gray</td>\n",
       "    </tr>\n",
       "    <tr>\n",
       "      <th>2</th>\n",
       "      <td>black</td>\n",
       "    </tr>\n",
       "    <tr>\n",
       "      <th>3</th>\n",
       "      <td>red</td>\n",
       "    </tr>\n",
       "    <tr>\n",
       "      <th>4</th>\n",
       "      <td>silver</td>\n",
       "    </tr>\n",
       "    <tr>\n",
       "      <th>5</th>\n",
       "      <td>blue</td>\n",
       "    </tr>\n",
       "    <tr>\n",
       "      <th>6</th>\n",
       "      <td>brown</td>\n",
       "    </tr>\n",
       "    <tr>\n",
       "      <th>7</th>\n",
       "      <td>beige</td>\n",
       "    </tr>\n",
       "    <tr>\n",
       "      <th>8</th>\n",
       "      <td>purple</td>\n",
       "    </tr>\n",
       "    <tr>\n",
       "      <th>9</th>\n",
       "      <td>burgundy</td>\n",
       "    </tr>\n",
       "    <tr>\n",
       "      <th>10</th>\n",
       "      <td>gold</td>\n",
       "    </tr>\n",
       "    <tr>\n",
       "      <th>11</th>\n",
       "      <td>yellow</td>\n",
       "    </tr>\n",
       "    <tr>\n",
       "      <th>12</th>\n",
       "      <td>green</td>\n",
       "    </tr>\n",
       "    <tr>\n",
       "      <th>13</th>\n",
       "      <td>charcoal</td>\n",
       "    </tr>\n",
       "    <tr>\n",
       "      <th>14</th>\n",
       "      <td>orange</td>\n",
       "    </tr>\n",
       "    <tr>\n",
       "      <th>15</th>\n",
       "      <td>off-white</td>\n",
       "    </tr>\n",
       "    <tr>\n",
       "      <th>16</th>\n",
       "      <td>turquoise</td>\n",
       "    </tr>\n",
       "    <tr>\n",
       "      <th>17</th>\n",
       "      <td>pink</td>\n",
       "    </tr>\n",
       "    <tr>\n",
       "      <th>18</th>\n",
       "      <td>lime</td>\n",
       "    </tr>\n",
       "  </tbody>\n",
       "</table>\n",
       "</div>"
      ],
      "text/plain": [
       "            0\n",
       "0       white\n",
       "1        gray\n",
       "2       black\n",
       "3         red\n",
       "4      silver\n",
       "5        blue\n",
       "6       brown\n",
       "7       beige\n",
       "8      purple\n",
       "9    burgundy\n",
       "10       gold\n",
       "11     yellow\n",
       "12      green\n",
       "13   charcoal\n",
       "14     orange\n",
       "15  off-white\n",
       "16  turquoise\n",
       "17       pink\n",
       "18       lime"
      ]
     },
     "execution_count": 93,
     "metadata": {},
     "output_type": "execute_result"
    }
   ],
   "source": [
    "df = pd.DataFrame(updated_df.color.unique())\n",
    "df"
   ]
  },
  {
   "cell_type": "code",
   "execution_count": 94,
   "id": "8823c39b",
   "metadata": {},
   "outputs": [],
   "source": [
    "unique_texts = updated_df['color'].unique()\n",
    "text_to_index = {text: index for index, text in enumerate(unique_texts)}"
   ]
  },
  {
   "cell_type": "code",
   "execution_count": 95,
   "id": "73e96aa4",
   "metadata": {},
   "outputs": [],
   "source": [
    "updated_df['color_index'] = updated_df['color'].map(text_to_index)"
   ]
  },
  {
   "cell_type": "markdown",
   "id": "9a5b7ef8",
   "metadata": {},
   "source": [
    "**Interior**"
   ]
  },
  {
   "cell_type": "code",
   "execution_count": 96,
   "id": "55185e86",
   "metadata": {},
   "outputs": [
    {
     "data": {
      "text/plain": [
       "array(['black', 'beige', 'tan', 'gray', 'brown', 'burgundy', 'white',\n",
       "       'silver', 'off-white', 'blue', 'red', 'yellow', 'green', 'purple',\n",
       "       'orange', 'gold'], dtype=object)"
      ]
     },
     "execution_count": 96,
     "metadata": {},
     "output_type": "execute_result"
    }
   ],
   "source": [
    "updated_df.interior.unique()"
   ]
  },
  {
   "cell_type": "code",
   "execution_count": 97,
   "id": "11d23786",
   "metadata": {},
   "outputs": [
    {
     "data": {
      "text/html": [
       "<div>\n",
       "<style scoped>\n",
       "    .dataframe tbody tr th:only-of-type {\n",
       "        vertical-align: middle;\n",
       "    }\n",
       "\n",
       "    .dataframe tbody tr th {\n",
       "        vertical-align: top;\n",
       "    }\n",
       "\n",
       "    .dataframe thead th {\n",
       "        text-align: right;\n",
       "    }\n",
       "</style>\n",
       "<table border=\"1\" class=\"dataframe\">\n",
       "  <thead>\n",
       "    <tr style=\"text-align: right;\">\n",
       "      <th></th>\n",
       "      <th>0</th>\n",
       "    </tr>\n",
       "  </thead>\n",
       "  <tbody>\n",
       "    <tr>\n",
       "      <th>0</th>\n",
       "      <td>black</td>\n",
       "    </tr>\n",
       "    <tr>\n",
       "      <th>1</th>\n",
       "      <td>beige</td>\n",
       "    </tr>\n",
       "    <tr>\n",
       "      <th>2</th>\n",
       "      <td>tan</td>\n",
       "    </tr>\n",
       "    <tr>\n",
       "      <th>3</th>\n",
       "      <td>gray</td>\n",
       "    </tr>\n",
       "    <tr>\n",
       "      <th>4</th>\n",
       "      <td>brown</td>\n",
       "    </tr>\n",
       "    <tr>\n",
       "      <th>5</th>\n",
       "      <td>burgundy</td>\n",
       "    </tr>\n",
       "    <tr>\n",
       "      <th>6</th>\n",
       "      <td>white</td>\n",
       "    </tr>\n",
       "    <tr>\n",
       "      <th>7</th>\n",
       "      <td>silver</td>\n",
       "    </tr>\n",
       "    <tr>\n",
       "      <th>8</th>\n",
       "      <td>off-white</td>\n",
       "    </tr>\n",
       "    <tr>\n",
       "      <th>9</th>\n",
       "      <td>blue</td>\n",
       "    </tr>\n",
       "    <tr>\n",
       "      <th>10</th>\n",
       "      <td>red</td>\n",
       "    </tr>\n",
       "    <tr>\n",
       "      <th>11</th>\n",
       "      <td>yellow</td>\n",
       "    </tr>\n",
       "    <tr>\n",
       "      <th>12</th>\n",
       "      <td>green</td>\n",
       "    </tr>\n",
       "    <tr>\n",
       "      <th>13</th>\n",
       "      <td>purple</td>\n",
       "    </tr>\n",
       "    <tr>\n",
       "      <th>14</th>\n",
       "      <td>orange</td>\n",
       "    </tr>\n",
       "    <tr>\n",
       "      <th>15</th>\n",
       "      <td>gold</td>\n",
       "    </tr>\n",
       "  </tbody>\n",
       "</table>\n",
       "</div>"
      ],
      "text/plain": [
       "            0\n",
       "0       black\n",
       "1       beige\n",
       "2         tan\n",
       "3        gray\n",
       "4       brown\n",
       "5    burgundy\n",
       "6       white\n",
       "7      silver\n",
       "8   off-white\n",
       "9        blue\n",
       "10        red\n",
       "11     yellow\n",
       "12      green\n",
       "13     purple\n",
       "14     orange\n",
       "15       gold"
      ]
     },
     "execution_count": 97,
     "metadata": {},
     "output_type": "execute_result"
    }
   ],
   "source": [
    "df = pd.DataFrame(updated_df.interior.unique())\n",
    "df"
   ]
  },
  {
   "cell_type": "code",
   "execution_count": 98,
   "id": "2607595a",
   "metadata": {},
   "outputs": [],
   "source": [
    "unique_texts = updated_df['interior'].unique()\n",
    "text_to_index = {text: index for index, text in enumerate(unique_texts)}"
   ]
  },
  {
   "cell_type": "code",
   "execution_count": 99,
   "id": "eec93b34",
   "metadata": {},
   "outputs": [],
   "source": [
    "updated_df['interior_index'] = updated_df['interior'].map(text_to_index)"
   ]
  },
  {
   "cell_type": "markdown",
   "id": "a1e5a222",
   "metadata": {},
   "source": [
    "**Seller**"
   ]
  },
  {
   "cell_type": "code",
   "execution_count": 100,
   "id": "eb9812fd",
   "metadata": {},
   "outputs": [
    {
     "data": {
      "text/plain": [
       "array(['kia motors america, inc',\n",
       "       'financial services remarketing (lease)',\n",
       "       'volvo na rep/world omni', ..., 'maserati north america inc',\n",
       "       'alternative financial group inc', 'i -5 uhlmann rv'], dtype=object)"
      ]
     },
     "execution_count": 100,
     "metadata": {},
     "output_type": "execute_result"
    }
   ],
   "source": [
    "updated_df.seller.unique()"
   ]
  },
  {
   "cell_type": "code",
   "execution_count": 101,
   "id": "c999d397",
   "metadata": {},
   "outputs": [
    {
     "data": {
      "text/html": [
       "<div>\n",
       "<style scoped>\n",
       "    .dataframe tbody tr th:only-of-type {\n",
       "        vertical-align: middle;\n",
       "    }\n",
       "\n",
       "    .dataframe tbody tr th {\n",
       "        vertical-align: top;\n",
       "    }\n",
       "\n",
       "    .dataframe thead th {\n",
       "        text-align: right;\n",
       "    }\n",
       "</style>\n",
       "<table border=\"1\" class=\"dataframe\">\n",
       "  <thead>\n",
       "    <tr style=\"text-align: right;\">\n",
       "      <th></th>\n",
       "      <th>0</th>\n",
       "    </tr>\n",
       "  </thead>\n",
       "  <tbody>\n",
       "    <tr>\n",
       "      <th>0</th>\n",
       "      <td>kia motors america, inc</td>\n",
       "    </tr>\n",
       "    <tr>\n",
       "      <th>1</th>\n",
       "      <td>financial services remarketing (lease)</td>\n",
       "    </tr>\n",
       "    <tr>\n",
       "      <th>2</th>\n",
       "      <td>volvo na rep/world omni</td>\n",
       "    </tr>\n",
       "    <tr>\n",
       "      <th>3</th>\n",
       "      <td>enterprise vehicle exchange / tra / rental / t...</td>\n",
       "    </tr>\n",
       "    <tr>\n",
       "      <th>4</th>\n",
       "      <td>the hertz corporation</td>\n",
       "    </tr>\n",
       "    <tr>\n",
       "      <th>...</th>\n",
       "      <td>...</td>\n",
       "    </tr>\n",
       "    <tr>\n",
       "      <th>13427</th>\n",
       "      <td>g brothers auto brokers inc</td>\n",
       "    </tr>\n",
       "    <tr>\n",
       "      <th>13428</th>\n",
       "      <td>quality car sales</td>\n",
       "    </tr>\n",
       "    <tr>\n",
       "      <th>13429</th>\n",
       "      <td>maserati north america inc</td>\n",
       "    </tr>\n",
       "    <tr>\n",
       "      <th>13430</th>\n",
       "      <td>alternative financial group inc</td>\n",
       "    </tr>\n",
       "    <tr>\n",
       "      <th>13431</th>\n",
       "      <td>i -5 uhlmann rv</td>\n",
       "    </tr>\n",
       "  </tbody>\n",
       "</table>\n",
       "<p>13432 rows × 1 columns</p>\n",
       "</div>"
      ],
      "text/plain": [
       "                                                       0\n",
       "0                                kia motors america, inc\n",
       "1                 financial services remarketing (lease)\n",
       "2                                volvo na rep/world omni\n",
       "3      enterprise vehicle exchange / tra / rental / t...\n",
       "4                                  the hertz corporation\n",
       "...                                                  ...\n",
       "13427                        g brothers auto brokers inc\n",
       "13428                                  quality car sales\n",
       "13429                         maserati north america inc\n",
       "13430                    alternative financial group inc\n",
       "13431                                    i -5 uhlmann rv\n",
       "\n",
       "[13432 rows x 1 columns]"
      ]
     },
     "execution_count": 101,
     "metadata": {},
     "output_type": "execute_result"
    }
   ],
   "source": [
    "df = pd.DataFrame(updated_df.seller.unique())\n",
    "df"
   ]
  },
  {
   "cell_type": "code",
   "execution_count": 102,
   "id": "ee9b63da",
   "metadata": {},
   "outputs": [],
   "source": [
    "unique_texts = updated_df['seller'].unique()\n",
    "text_to_index = {text: index for index, text in enumerate(unique_texts)}"
   ]
  },
  {
   "cell_type": "code",
   "execution_count": 103,
   "id": "a0b1ee8e",
   "metadata": {},
   "outputs": [],
   "source": [
    "updated_df['seller_index'] = updated_df['seller'].map(text_to_index)"
   ]
  },
  {
   "cell_type": "markdown",
   "id": "9b754b66",
   "metadata": {},
   "source": [
    "**Trim**"
   ]
  },
  {
   "cell_type": "code",
   "execution_count": 104,
   "id": "19baf6e1",
   "metadata": {},
   "outputs": [
    {
     "data": {
      "text/plain": [
       "array(['LX', '328i SULEV', 'T5', ..., 'pure', 'EWB', 'Power Wagon'],\n",
       "      dtype=object)"
      ]
     },
     "execution_count": 104,
     "metadata": {},
     "output_type": "execute_result"
    }
   ],
   "source": [
    "updated_df.trim.unique()"
   ]
  },
  {
   "cell_type": "code",
   "execution_count": 105,
   "id": "91337215",
   "metadata": {},
   "outputs": [
    {
     "data": {
      "text/html": [
       "<div>\n",
       "<style scoped>\n",
       "    .dataframe tbody tr th:only-of-type {\n",
       "        vertical-align: middle;\n",
       "    }\n",
       "\n",
       "    .dataframe tbody tr th {\n",
       "        vertical-align: top;\n",
       "    }\n",
       "\n",
       "    .dataframe thead th {\n",
       "        text-align: right;\n",
       "    }\n",
       "</style>\n",
       "<table border=\"1\" class=\"dataframe\">\n",
       "  <thead>\n",
       "    <tr style=\"text-align: right;\">\n",
       "      <th></th>\n",
       "      <th>0</th>\n",
       "    </tr>\n",
       "  </thead>\n",
       "  <tbody>\n",
       "    <tr>\n",
       "      <th>0</th>\n",
       "      <td>LX</td>\n",
       "    </tr>\n",
       "    <tr>\n",
       "      <th>1</th>\n",
       "      <td>328i SULEV</td>\n",
       "    </tr>\n",
       "    <tr>\n",
       "      <th>2</th>\n",
       "      <td>T5</td>\n",
       "    </tr>\n",
       "    <tr>\n",
       "      <th>3</th>\n",
       "      <td>650i</td>\n",
       "    </tr>\n",
       "    <tr>\n",
       "      <th>4</th>\n",
       "      <td>2.5 S</td>\n",
       "    </tr>\n",
       "    <tr>\n",
       "      <th>...</th>\n",
       "      <td>...</td>\n",
       "    </tr>\n",
       "    <tr>\n",
       "      <th>1928</th>\n",
       "      <td>S E-Hybrid</td>\n",
       "    </tr>\n",
       "    <tr>\n",
       "      <th>1929</th>\n",
       "      <td>4.2 quattro Spyder</td>\n",
       "    </tr>\n",
       "    <tr>\n",
       "      <th>1930</th>\n",
       "      <td>pure</td>\n",
       "    </tr>\n",
       "    <tr>\n",
       "      <th>1931</th>\n",
       "      <td>EWB</td>\n",
       "    </tr>\n",
       "    <tr>\n",
       "      <th>1932</th>\n",
       "      <td>Power Wagon</td>\n",
       "    </tr>\n",
       "  </tbody>\n",
       "</table>\n",
       "<p>1933 rows × 1 columns</p>\n",
       "</div>"
      ],
      "text/plain": [
       "                       0\n",
       "0                     LX\n",
       "1             328i SULEV\n",
       "2                     T5\n",
       "3                   650i\n",
       "4                  2.5 S\n",
       "...                  ...\n",
       "1928          S E-Hybrid\n",
       "1929  4.2 quattro Spyder\n",
       "1930                pure\n",
       "1931                 EWB\n",
       "1932         Power Wagon\n",
       "\n",
       "[1933 rows x 1 columns]"
      ]
     },
     "execution_count": 105,
     "metadata": {},
     "output_type": "execute_result"
    }
   ],
   "source": [
    "df = pd.DataFrame(updated_df.trim.unique())\n",
    "df"
   ]
  },
  {
   "cell_type": "code",
   "execution_count": 106,
   "id": "c12553ef",
   "metadata": {},
   "outputs": [],
   "source": [
    "unique_texts = updated_df['trim'].unique()\n",
    "text_to_index = {text: index for index, text in enumerate(unique_texts)}"
   ]
  },
  {
   "cell_type": "code",
   "execution_count": 107,
   "id": "31dee299",
   "metadata": {},
   "outputs": [],
   "source": [
    "updated_df['trim_index'] = updated_df['trim'].map(text_to_index)"
   ]
  },
  {
   "cell_type": "markdown",
   "id": "6cf5a8db",
   "metadata": {},
   "source": [
    "**vin**"
   ]
  },
  {
   "cell_type": "code",
   "execution_count": 108,
   "id": "b2b0284c",
   "metadata": {},
   "outputs": [
    {
     "data": {
      "text/plain": [
       "array(['5xyktca69fg566472', '5xyktca69fg561319', 'wba3c1c51ek116351', ...,\n",
       "       '5uxzw0c58cl668465', '1n4al3ap0fc216050', '1ftfw1et2eke87277'],\n",
       "      dtype=object)"
      ]
     },
     "execution_count": 108,
     "metadata": {},
     "output_type": "execute_result"
    }
   ],
   "source": [
    "updated_df.vin.unique()"
   ]
  },
  {
   "cell_type": "code",
   "execution_count": 109,
   "id": "c79dabdf",
   "metadata": {},
   "outputs": [
    {
     "data": {
      "text/html": [
       "<div>\n",
       "<style scoped>\n",
       "    .dataframe tbody tr th:only-of-type {\n",
       "        vertical-align: middle;\n",
       "    }\n",
       "\n",
       "    .dataframe tbody tr th {\n",
       "        vertical-align: top;\n",
       "    }\n",
       "\n",
       "    .dataframe thead th {\n",
       "        text-align: right;\n",
       "    }\n",
       "</style>\n",
       "<table border=\"1\" class=\"dataframe\">\n",
       "  <thead>\n",
       "    <tr style=\"text-align: right;\">\n",
       "      <th></th>\n",
       "      <th>0</th>\n",
       "    </tr>\n",
       "  </thead>\n",
       "  <tbody>\n",
       "    <tr>\n",
       "      <th>0</th>\n",
       "      <td>5xyktca69fg566472</td>\n",
       "    </tr>\n",
       "    <tr>\n",
       "      <th>1</th>\n",
       "      <td>5xyktca69fg561319</td>\n",
       "    </tr>\n",
       "    <tr>\n",
       "      <th>2</th>\n",
       "      <td>wba3c1c51ek116351</td>\n",
       "    </tr>\n",
       "    <tr>\n",
       "      <th>3</th>\n",
       "      <td>yv1612tb4f1310987</td>\n",
       "    </tr>\n",
       "    <tr>\n",
       "      <th>4</th>\n",
       "      <td>wba6b2c57ed129731</td>\n",
       "    </tr>\n",
       "    <tr>\n",
       "      <th>...</th>\n",
       "      <td>...</td>\n",
       "    </tr>\n",
       "    <tr>\n",
       "      <th>509362</th>\n",
       "      <td>knalw4d4xf6019304</td>\n",
       "    </tr>\n",
       "    <tr>\n",
       "      <th>509363</th>\n",
       "      <td>3c6td5et6cg112407</td>\n",
       "    </tr>\n",
       "    <tr>\n",
       "      <th>509364</th>\n",
       "      <td>5uxzw0c58cl668465</td>\n",
       "    </tr>\n",
       "    <tr>\n",
       "      <th>509365</th>\n",
       "      <td>1n4al3ap0fc216050</td>\n",
       "    </tr>\n",
       "    <tr>\n",
       "      <th>509366</th>\n",
       "      <td>1ftfw1et2eke87277</td>\n",
       "    </tr>\n",
       "  </tbody>\n",
       "</table>\n",
       "<p>509367 rows × 1 columns</p>\n",
       "</div>"
      ],
      "text/plain": [
       "                        0\n",
       "0       5xyktca69fg566472\n",
       "1       5xyktca69fg561319\n",
       "2       wba3c1c51ek116351\n",
       "3       yv1612tb4f1310987\n",
       "4       wba6b2c57ed129731\n",
       "...                   ...\n",
       "509362  knalw4d4xf6019304\n",
       "509363  3c6td5et6cg112407\n",
       "509364  5uxzw0c58cl668465\n",
       "509365  1n4al3ap0fc216050\n",
       "509366  1ftfw1et2eke87277\n",
       "\n",
       "[509367 rows x 1 columns]"
      ]
     },
     "execution_count": 109,
     "metadata": {},
     "output_type": "execute_result"
    }
   ],
   "source": [
    "df = pd.DataFrame(updated_df.vin.unique())\n",
    "df"
   ]
  },
  {
   "cell_type": "code",
   "execution_count": 110,
   "id": "ab9fb5bd",
   "metadata": {},
   "outputs": [],
   "source": [
    "unique_texts = updated_df['vin'].unique()\n",
    "text_to_index = {text: index for index, text in enumerate(unique_texts)}"
   ]
  },
  {
   "cell_type": "code",
   "execution_count": 111,
   "id": "f1c63f97",
   "metadata": {},
   "outputs": [],
   "source": [
    "updated_df['vin_index'] = updated_df['vin'].map(text_to_index)"
   ]
  },
  {
   "cell_type": "markdown",
   "id": "9d86d00c",
   "metadata": {},
   "source": [
    "**State**"
   ]
  },
  {
   "cell_type": "code",
   "execution_count": 112,
   "id": "d945e154",
   "metadata": {},
   "outputs": [
    {
     "data": {
      "text/plain": [
       "array(['ca', 'tx', 'pa', 'mn', 'az', 'wi', 'tn', 'md', 'fl', 'ne', 'nj',\n",
       "       'oh', 'mi', 'ga', 'va', 'sc', 'nc', 'in', 'il', 'co', 'ut', 'mo',\n",
       "       'nv', 'ma', 'pr', 'ny', 'or', 'wa', 'la', 'hi', 'qc', 'ab', 'on',\n",
       "       'ok', 'ms', 'nm', 'al', 'ns'], dtype=object)"
      ]
     },
     "execution_count": 112,
     "metadata": {},
     "output_type": "execute_result"
    }
   ],
   "source": [
    "updated_df.state.unique()"
   ]
  },
  {
   "cell_type": "code",
   "execution_count": 113,
   "id": "499f22b5",
   "metadata": {},
   "outputs": [
    {
     "data": {
      "text/html": [
       "<div>\n",
       "<style scoped>\n",
       "    .dataframe tbody tr th:only-of-type {\n",
       "        vertical-align: middle;\n",
       "    }\n",
       "\n",
       "    .dataframe tbody tr th {\n",
       "        vertical-align: top;\n",
       "    }\n",
       "\n",
       "    .dataframe thead th {\n",
       "        text-align: right;\n",
       "    }\n",
       "</style>\n",
       "<table border=\"1\" class=\"dataframe\">\n",
       "  <thead>\n",
       "    <tr style=\"text-align: right;\">\n",
       "      <th></th>\n",
       "      <th>0</th>\n",
       "    </tr>\n",
       "  </thead>\n",
       "  <tbody>\n",
       "    <tr>\n",
       "      <th>0</th>\n",
       "      <td>ca</td>\n",
       "    </tr>\n",
       "    <tr>\n",
       "      <th>1</th>\n",
       "      <td>tx</td>\n",
       "    </tr>\n",
       "    <tr>\n",
       "      <th>2</th>\n",
       "      <td>pa</td>\n",
       "    </tr>\n",
       "    <tr>\n",
       "      <th>3</th>\n",
       "      <td>mn</td>\n",
       "    </tr>\n",
       "    <tr>\n",
       "      <th>4</th>\n",
       "      <td>az</td>\n",
       "    </tr>\n",
       "    <tr>\n",
       "      <th>5</th>\n",
       "      <td>wi</td>\n",
       "    </tr>\n",
       "    <tr>\n",
       "      <th>6</th>\n",
       "      <td>tn</td>\n",
       "    </tr>\n",
       "    <tr>\n",
       "      <th>7</th>\n",
       "      <td>md</td>\n",
       "    </tr>\n",
       "    <tr>\n",
       "      <th>8</th>\n",
       "      <td>fl</td>\n",
       "    </tr>\n",
       "    <tr>\n",
       "      <th>9</th>\n",
       "      <td>ne</td>\n",
       "    </tr>\n",
       "    <tr>\n",
       "      <th>10</th>\n",
       "      <td>nj</td>\n",
       "    </tr>\n",
       "    <tr>\n",
       "      <th>11</th>\n",
       "      <td>oh</td>\n",
       "    </tr>\n",
       "    <tr>\n",
       "      <th>12</th>\n",
       "      <td>mi</td>\n",
       "    </tr>\n",
       "    <tr>\n",
       "      <th>13</th>\n",
       "      <td>ga</td>\n",
       "    </tr>\n",
       "    <tr>\n",
       "      <th>14</th>\n",
       "      <td>va</td>\n",
       "    </tr>\n",
       "    <tr>\n",
       "      <th>15</th>\n",
       "      <td>sc</td>\n",
       "    </tr>\n",
       "    <tr>\n",
       "      <th>16</th>\n",
       "      <td>nc</td>\n",
       "    </tr>\n",
       "    <tr>\n",
       "      <th>17</th>\n",
       "      <td>in</td>\n",
       "    </tr>\n",
       "    <tr>\n",
       "      <th>18</th>\n",
       "      <td>il</td>\n",
       "    </tr>\n",
       "    <tr>\n",
       "      <th>19</th>\n",
       "      <td>co</td>\n",
       "    </tr>\n",
       "    <tr>\n",
       "      <th>20</th>\n",
       "      <td>ut</td>\n",
       "    </tr>\n",
       "    <tr>\n",
       "      <th>21</th>\n",
       "      <td>mo</td>\n",
       "    </tr>\n",
       "    <tr>\n",
       "      <th>22</th>\n",
       "      <td>nv</td>\n",
       "    </tr>\n",
       "    <tr>\n",
       "      <th>23</th>\n",
       "      <td>ma</td>\n",
       "    </tr>\n",
       "    <tr>\n",
       "      <th>24</th>\n",
       "      <td>pr</td>\n",
       "    </tr>\n",
       "    <tr>\n",
       "      <th>25</th>\n",
       "      <td>ny</td>\n",
       "    </tr>\n",
       "    <tr>\n",
       "      <th>26</th>\n",
       "      <td>or</td>\n",
       "    </tr>\n",
       "    <tr>\n",
       "      <th>27</th>\n",
       "      <td>wa</td>\n",
       "    </tr>\n",
       "    <tr>\n",
       "      <th>28</th>\n",
       "      <td>la</td>\n",
       "    </tr>\n",
       "    <tr>\n",
       "      <th>29</th>\n",
       "      <td>hi</td>\n",
       "    </tr>\n",
       "    <tr>\n",
       "      <th>30</th>\n",
       "      <td>qc</td>\n",
       "    </tr>\n",
       "    <tr>\n",
       "      <th>31</th>\n",
       "      <td>ab</td>\n",
       "    </tr>\n",
       "    <tr>\n",
       "      <th>32</th>\n",
       "      <td>on</td>\n",
       "    </tr>\n",
       "    <tr>\n",
       "      <th>33</th>\n",
       "      <td>ok</td>\n",
       "    </tr>\n",
       "    <tr>\n",
       "      <th>34</th>\n",
       "      <td>ms</td>\n",
       "    </tr>\n",
       "    <tr>\n",
       "      <th>35</th>\n",
       "      <td>nm</td>\n",
       "    </tr>\n",
       "    <tr>\n",
       "      <th>36</th>\n",
       "      <td>al</td>\n",
       "    </tr>\n",
       "    <tr>\n",
       "      <th>37</th>\n",
       "      <td>ns</td>\n",
       "    </tr>\n",
       "  </tbody>\n",
       "</table>\n",
       "</div>"
      ],
      "text/plain": [
       "     0\n",
       "0   ca\n",
       "1   tx\n",
       "2   pa\n",
       "3   mn\n",
       "4   az\n",
       "5   wi\n",
       "6   tn\n",
       "7   md\n",
       "8   fl\n",
       "9   ne\n",
       "10  nj\n",
       "11  oh\n",
       "12  mi\n",
       "13  ga\n",
       "14  va\n",
       "15  sc\n",
       "16  nc\n",
       "17  in\n",
       "18  il\n",
       "19  co\n",
       "20  ut\n",
       "21  mo\n",
       "22  nv\n",
       "23  ma\n",
       "24  pr\n",
       "25  ny\n",
       "26  or\n",
       "27  wa\n",
       "28  la\n",
       "29  hi\n",
       "30  qc\n",
       "31  ab\n",
       "32  on\n",
       "33  ok\n",
       "34  ms\n",
       "35  nm\n",
       "36  al\n",
       "37  ns"
      ]
     },
     "execution_count": 113,
     "metadata": {},
     "output_type": "execute_result"
    }
   ],
   "source": [
    "df = pd.DataFrame(updated_df.state.unique())\n",
    "df"
   ]
  },
  {
   "cell_type": "code",
   "execution_count": 114,
   "id": "4eea0e87",
   "metadata": {},
   "outputs": [],
   "source": [
    "unique_texts = updated_df['state'].unique()\n",
    "text_to_index = {text: index for index, text in enumerate(unique_texts)}"
   ]
  },
  {
   "cell_type": "code",
   "execution_count": 115,
   "id": "7d59c277",
   "metadata": {},
   "outputs": [],
   "source": [
    "updated_df['state_index'] = updated_df['state'].map(text_to_index)"
   ]
  },
  {
   "cell_type": "markdown",
   "id": "d4e59f4c",
   "metadata": {},
   "source": [
    "**Saledata**"
   ]
  },
  {
   "cell_type": "code",
   "execution_count": 116,
   "id": "fd905605",
   "metadata": {},
   "outputs": [
    {
     "data": {
      "text/plain": [
       "array(['Tue Dec 16 2014 12:30:00 GMT-0800 (PST)',\n",
       "       'Thu Jan 15 2015 04:30:00 GMT-0800 (PST)',\n",
       "       'Thu Jan 29 2015 04:30:00 GMT-0800 (PST)', ...,\n",
       "       'Tue Jul 07 2015 08:45:00 GMT-0700 (PDT)',\n",
       "       'Thu Jul 02 2015 13:20:00 GMT-0700 (PDT)',\n",
       "       'Wed Jul 08 2015 09:45:00 GMT-0700 (PDT)'], dtype=object)"
      ]
     },
     "execution_count": 116,
     "metadata": {},
     "output_type": "execute_result"
    }
   ],
   "source": [
    "updated_df.saledate.unique()"
   ]
  },
  {
   "cell_type": "code",
   "execution_count": 117,
   "id": "2c169ebf",
   "metadata": {},
   "outputs": [
    {
     "data": {
      "text/html": [
       "<div>\n",
       "<style scoped>\n",
       "    .dataframe tbody tr th:only-of-type {\n",
       "        vertical-align: middle;\n",
       "    }\n",
       "\n",
       "    .dataframe tbody tr th {\n",
       "        vertical-align: top;\n",
       "    }\n",
       "\n",
       "    .dataframe thead th {\n",
       "        text-align: right;\n",
       "    }\n",
       "</style>\n",
       "<table border=\"1\" class=\"dataframe\">\n",
       "  <thead>\n",
       "    <tr style=\"text-align: right;\">\n",
       "      <th></th>\n",
       "      <th>0</th>\n",
       "    </tr>\n",
       "  </thead>\n",
       "  <tbody>\n",
       "    <tr>\n",
       "      <th>0</th>\n",
       "      <td>Tue Dec 16 2014 12:30:00 GMT-0800 (PST)</td>\n",
       "    </tr>\n",
       "    <tr>\n",
       "      <th>1</th>\n",
       "      <td>Thu Jan 15 2015 04:30:00 GMT-0800 (PST)</td>\n",
       "    </tr>\n",
       "    <tr>\n",
       "      <th>2</th>\n",
       "      <td>Thu Jan 29 2015 04:30:00 GMT-0800 (PST)</td>\n",
       "    </tr>\n",
       "    <tr>\n",
       "      <th>3</th>\n",
       "      <td>Thu Dec 18 2014 12:30:00 GMT-0800 (PST)</td>\n",
       "    </tr>\n",
       "    <tr>\n",
       "      <th>4</th>\n",
       "      <td>Tue Dec 30 2014 12:00:00 GMT-0800 (PST)</td>\n",
       "    </tr>\n",
       "    <tr>\n",
       "      <th>...</th>\n",
       "      <td>...</td>\n",
       "    </tr>\n",
       "    <tr>\n",
       "      <th>3691</th>\n",
       "      <td>Wed Jun 24 2015 04:45:00 GMT-0700 (PDT)</td>\n",
       "    </tr>\n",
       "    <tr>\n",
       "      <th>3692</th>\n",
       "      <td>Thu Jun 25 2015 07:10:00 GMT-0700 (PDT)</td>\n",
       "    </tr>\n",
       "    <tr>\n",
       "      <th>3693</th>\n",
       "      <td>Tue Jul 07 2015 08:45:00 GMT-0700 (PDT)</td>\n",
       "    </tr>\n",
       "    <tr>\n",
       "      <th>3694</th>\n",
       "      <td>Thu Jul 02 2015 13:20:00 GMT-0700 (PDT)</td>\n",
       "    </tr>\n",
       "    <tr>\n",
       "      <th>3695</th>\n",
       "      <td>Wed Jul 08 2015 09:45:00 GMT-0700 (PDT)</td>\n",
       "    </tr>\n",
       "  </tbody>\n",
       "</table>\n",
       "<p>3696 rows × 1 columns</p>\n",
       "</div>"
      ],
      "text/plain": [
       "                                            0\n",
       "0     Tue Dec 16 2014 12:30:00 GMT-0800 (PST)\n",
       "1     Thu Jan 15 2015 04:30:00 GMT-0800 (PST)\n",
       "2     Thu Jan 29 2015 04:30:00 GMT-0800 (PST)\n",
       "3     Thu Dec 18 2014 12:30:00 GMT-0800 (PST)\n",
       "4     Tue Dec 30 2014 12:00:00 GMT-0800 (PST)\n",
       "...                                       ...\n",
       "3691  Wed Jun 24 2015 04:45:00 GMT-0700 (PDT)\n",
       "3692  Thu Jun 25 2015 07:10:00 GMT-0700 (PDT)\n",
       "3693  Tue Jul 07 2015 08:45:00 GMT-0700 (PDT)\n",
       "3694  Thu Jul 02 2015 13:20:00 GMT-0700 (PDT)\n",
       "3695  Wed Jul 08 2015 09:45:00 GMT-0700 (PDT)\n",
       "\n",
       "[3696 rows x 1 columns]"
      ]
     },
     "execution_count": 117,
     "metadata": {},
     "output_type": "execute_result"
    }
   ],
   "source": [
    "df = pd.DataFrame(updated_df.saledate.unique())\n",
    "df"
   ]
  },
  {
   "cell_type": "code",
   "execution_count": 118,
   "id": "618d914b",
   "metadata": {},
   "outputs": [],
   "source": [
    "unique_texts = updated_df['saledate'].unique()\n",
    "text_to_index = {text: index for index, text in enumerate(unique_texts)}"
   ]
  },
  {
   "cell_type": "code",
   "execution_count": 119,
   "id": "5aa71ac5",
   "metadata": {},
   "outputs": [],
   "source": [
    "updated_df['saledate_index'] = updated_df['saledate'].map(text_to_index)"
   ]
  },
  {
   "cell_type": "code",
   "execution_count": 120,
   "id": "55b43059",
   "metadata": {},
   "outputs": [
    {
     "data": {
      "text/html": [
       "<div>\n",
       "<style scoped>\n",
       "    .dataframe tbody tr th:only-of-type {\n",
       "        vertical-align: middle;\n",
       "    }\n",
       "\n",
       "    .dataframe tbody tr th {\n",
       "        vertical-align: top;\n",
       "    }\n",
       "\n",
       "    .dataframe thead th {\n",
       "        text-align: right;\n",
       "    }\n",
       "</style>\n",
       "<table border=\"1\" class=\"dataframe\">\n",
       "  <thead>\n",
       "    <tr style=\"text-align: right;\">\n",
       "      <th></th>\n",
       "      <th>year</th>\n",
       "      <th>model</th>\n",
       "      <th>trim</th>\n",
       "      <th>transmission</th>\n",
       "      <th>vin</th>\n",
       "      <th>state</th>\n",
       "      <th>condition</th>\n",
       "      <th>odometer</th>\n",
       "      <th>color</th>\n",
       "      <th>interior</th>\n",
       "      <th>...</th>\n",
       "      <th>make_index</th>\n",
       "      <th>model_index</th>\n",
       "      <th>body_index</th>\n",
       "      <th>color_index</th>\n",
       "      <th>interior_index</th>\n",
       "      <th>seller_index</th>\n",
       "      <th>trim_index</th>\n",
       "      <th>vin_index</th>\n",
       "      <th>state_index</th>\n",
       "      <th>saledate_index</th>\n",
       "    </tr>\n",
       "  </thead>\n",
       "  <tbody>\n",
       "    <tr>\n",
       "      <th>0</th>\n",
       "      <td>2015</td>\n",
       "      <td>Sorento</td>\n",
       "      <td>LX</td>\n",
       "      <td>automatic</td>\n",
       "      <td>5xyktca69fg566472</td>\n",
       "      <td>ca</td>\n",
       "      <td>5.0</td>\n",
       "      <td>16639.0</td>\n",
       "      <td>white</td>\n",
       "      <td>black</td>\n",
       "      <td>...</td>\n",
       "      <td>0</td>\n",
       "      <td>0</td>\n",
       "      <td>0</td>\n",
       "      <td>0</td>\n",
       "      <td>0</td>\n",
       "      <td>0</td>\n",
       "      <td>0</td>\n",
       "      <td>0</td>\n",
       "      <td>0</td>\n",
       "      <td>0</td>\n",
       "    </tr>\n",
       "    <tr>\n",
       "      <th>1</th>\n",
       "      <td>2015</td>\n",
       "      <td>Sorento</td>\n",
       "      <td>LX</td>\n",
       "      <td>automatic</td>\n",
       "      <td>5xyktca69fg561319</td>\n",
       "      <td>ca</td>\n",
       "      <td>5.0</td>\n",
       "      <td>9393.0</td>\n",
       "      <td>white</td>\n",
       "      <td>beige</td>\n",
       "      <td>...</td>\n",
       "      <td>0</td>\n",
       "      <td>0</td>\n",
       "      <td>0</td>\n",
       "      <td>0</td>\n",
       "      <td>1</td>\n",
       "      <td>0</td>\n",
       "      <td>0</td>\n",
       "      <td>1</td>\n",
       "      <td>0</td>\n",
       "      <td>0</td>\n",
       "    </tr>\n",
       "    <tr>\n",
       "      <th>2</th>\n",
       "      <td>2014</td>\n",
       "      <td>3 Series</td>\n",
       "      <td>328i SULEV</td>\n",
       "      <td>automatic</td>\n",
       "      <td>wba3c1c51ek116351</td>\n",
       "      <td>ca</td>\n",
       "      <td>4.5</td>\n",
       "      <td>1331.0</td>\n",
       "      <td>gray</td>\n",
       "      <td>black</td>\n",
       "      <td>...</td>\n",
       "      <td>1</td>\n",
       "      <td>1</td>\n",
       "      <td>1</td>\n",
       "      <td>1</td>\n",
       "      <td>0</td>\n",
       "      <td>1</td>\n",
       "      <td>1</td>\n",
       "      <td>2</td>\n",
       "      <td>0</td>\n",
       "      <td>1</td>\n",
       "    </tr>\n",
       "    <tr>\n",
       "      <th>3</th>\n",
       "      <td>2015</td>\n",
       "      <td>S60</td>\n",
       "      <td>T5</td>\n",
       "      <td>automatic</td>\n",
       "      <td>yv1612tb4f1310987</td>\n",
       "      <td>ca</td>\n",
       "      <td>4.1</td>\n",
       "      <td>14282.0</td>\n",
       "      <td>white</td>\n",
       "      <td>black</td>\n",
       "      <td>...</td>\n",
       "      <td>2</td>\n",
       "      <td>2</td>\n",
       "      <td>1</td>\n",
       "      <td>0</td>\n",
       "      <td>0</td>\n",
       "      <td>2</td>\n",
       "      <td>2</td>\n",
       "      <td>3</td>\n",
       "      <td>0</td>\n",
       "      <td>2</td>\n",
       "    </tr>\n",
       "    <tr>\n",
       "      <th>4</th>\n",
       "      <td>2014</td>\n",
       "      <td>6 Series Gran Coupe</td>\n",
       "      <td>650i</td>\n",
       "      <td>automatic</td>\n",
       "      <td>wba6b2c57ed129731</td>\n",
       "      <td>ca</td>\n",
       "      <td>4.3</td>\n",
       "      <td>2641.0</td>\n",
       "      <td>gray</td>\n",
       "      <td>black</td>\n",
       "      <td>...</td>\n",
       "      <td>1</td>\n",
       "      <td>3</td>\n",
       "      <td>1</td>\n",
       "      <td>1</td>\n",
       "      <td>0</td>\n",
       "      <td>1</td>\n",
       "      <td>3</td>\n",
       "      <td>4</td>\n",
       "      <td>0</td>\n",
       "      <td>3</td>\n",
       "    </tr>\n",
       "    <tr>\n",
       "      <th>...</th>\n",
       "      <td>...</td>\n",
       "      <td>...</td>\n",
       "      <td>...</td>\n",
       "      <td>...</td>\n",
       "      <td>...</td>\n",
       "      <td>...</td>\n",
       "      <td>...</td>\n",
       "      <td>...</td>\n",
       "      <td>...</td>\n",
       "      <td>...</td>\n",
       "      <td>...</td>\n",
       "      <td>...</td>\n",
       "      <td>...</td>\n",
       "      <td>...</td>\n",
       "      <td>...</td>\n",
       "      <td>...</td>\n",
       "      <td>...</td>\n",
       "      <td>...</td>\n",
       "      <td>...</td>\n",
       "      <td>...</td>\n",
       "      <td>...</td>\n",
       "    </tr>\n",
       "    <tr>\n",
       "      <th>558806</th>\n",
       "      <td>2015</td>\n",
       "      <td>K900</td>\n",
       "      <td>Luxury</td>\n",
       "      <td>automatic</td>\n",
       "      <td>knalw4d4xf6019304</td>\n",
       "      <td>in</td>\n",
       "      <td>4.5</td>\n",
       "      <td>18255.0</td>\n",
       "      <td>silver</td>\n",
       "      <td>black</td>\n",
       "      <td>...</td>\n",
       "      <td>0</td>\n",
       "      <td>28</td>\n",
       "      <td>1</td>\n",
       "      <td>4</td>\n",
       "      <td>0</td>\n",
       "      <td>17</td>\n",
       "      <td>23</td>\n",
       "      <td>509362</td>\n",
       "      <td>17</td>\n",
       "      <td>1769</td>\n",
       "    </tr>\n",
       "    <tr>\n",
       "      <th>558807</th>\n",
       "      <td>2012</td>\n",
       "      <td>2500</td>\n",
       "      <td>Power Wagon</td>\n",
       "      <td>automatic</td>\n",
       "      <td>3c6td5et6cg112407</td>\n",
       "      <td>wa</td>\n",
       "      <td>5.0</td>\n",
       "      <td>54393.0</td>\n",
       "      <td>white</td>\n",
       "      <td>black</td>\n",
       "      <td>...</td>\n",
       "      <td>32</td>\n",
       "      <td>281</td>\n",
       "      <td>6</td>\n",
       "      <td>0</td>\n",
       "      <td>0</td>\n",
       "      <td>13431</td>\n",
       "      <td>1932</td>\n",
       "      <td>509363</td>\n",
       "      <td>27</td>\n",
       "      <td>976</td>\n",
       "    </tr>\n",
       "    <tr>\n",
       "      <th>558808</th>\n",
       "      <td>2012</td>\n",
       "      <td>X5</td>\n",
       "      <td>xDrive35d</td>\n",
       "      <td>automatic</td>\n",
       "      <td>5uxzw0c58cl668465</td>\n",
       "      <td>ca</td>\n",
       "      <td>4.8</td>\n",
       "      <td>50561.0</td>\n",
       "      <td>black</td>\n",
       "      <td>black</td>\n",
       "      <td>...</td>\n",
       "      <td>1</td>\n",
       "      <td>19</td>\n",
       "      <td>0</td>\n",
       "      <td>2</td>\n",
       "      <td>0</td>\n",
       "      <td>1</td>\n",
       "      <td>143</td>\n",
       "      <td>509364</td>\n",
       "      <td>0</td>\n",
       "      <td>976</td>\n",
       "    </tr>\n",
       "    <tr>\n",
       "      <th>558809</th>\n",
       "      <td>2015</td>\n",
       "      <td>Altima</td>\n",
       "      <td>2.5 S</td>\n",
       "      <td>automatic</td>\n",
       "      <td>1n4al3ap0fc216050</td>\n",
       "      <td>ga</td>\n",
       "      <td>3.8</td>\n",
       "      <td>16658.0</td>\n",
       "      <td>white</td>\n",
       "      <td>black</td>\n",
       "      <td>...</td>\n",
       "      <td>3</td>\n",
       "      <td>4</td>\n",
       "      <td>1</td>\n",
       "      <td>0</td>\n",
       "      <td>0</td>\n",
       "      <td>3</td>\n",
       "      <td>4</td>\n",
       "      <td>509365</td>\n",
       "      <td>13</td>\n",
       "      <td>2113</td>\n",
       "    </tr>\n",
       "    <tr>\n",
       "      <th>558810</th>\n",
       "      <td>2014</td>\n",
       "      <td>F-150</td>\n",
       "      <td>XLT</td>\n",
       "      <td>automatic</td>\n",
       "      <td>1ftfw1et2eke87277</td>\n",
       "      <td>ca</td>\n",
       "      <td>3.4</td>\n",
       "      <td>15008.0</td>\n",
       "      <td>gray</td>\n",
       "      <td>gray</td>\n",
       "      <td>...</td>\n",
       "      <td>6</td>\n",
       "      <td>168</td>\n",
       "      <td>6</td>\n",
       "      <td>1</td>\n",
       "      <td>3</td>\n",
       "      <td>122</td>\n",
       "      <td>154</td>\n",
       "      <td>509366</td>\n",
       "      <td>0</td>\n",
       "      <td>970</td>\n",
       "    </tr>\n",
       "  </tbody>\n",
       "</table>\n",
       "<p>517050 rows × 26 columns</p>\n",
       "</div>"
      ],
      "text/plain": [
       "        year                model         trim transmission  \\\n",
       "0       2015              Sorento           LX    automatic   \n",
       "1       2015              Sorento           LX    automatic   \n",
       "2       2014             3 Series   328i SULEV    automatic   \n",
       "3       2015                  S60           T5    automatic   \n",
       "4       2014  6 Series Gran Coupe         650i    automatic   \n",
       "...      ...                  ...          ...          ...   \n",
       "558806  2015                 K900       Luxury    automatic   \n",
       "558807  2012                 2500  Power Wagon    automatic   \n",
       "558808  2012                   X5    xDrive35d    automatic   \n",
       "558809  2015               Altima        2.5 S    automatic   \n",
       "558810  2014                F-150          XLT    automatic   \n",
       "\n",
       "                      vin state  condition  odometer   color interior  ...  \\\n",
       "0       5xyktca69fg566472    ca        5.0   16639.0   white    black  ...   \n",
       "1       5xyktca69fg561319    ca        5.0    9393.0   white    beige  ...   \n",
       "2       wba3c1c51ek116351    ca        4.5    1331.0    gray    black  ...   \n",
       "3       yv1612tb4f1310987    ca        4.1   14282.0   white    black  ...   \n",
       "4       wba6b2c57ed129731    ca        4.3    2641.0    gray    black  ...   \n",
       "...                   ...   ...        ...       ...     ...      ...  ...   \n",
       "558806  knalw4d4xf6019304    in        4.5   18255.0  silver    black  ...   \n",
       "558807  3c6td5et6cg112407    wa        5.0   54393.0   white    black  ...   \n",
       "558808  5uxzw0c58cl668465    ca        4.8   50561.0   black    black  ...   \n",
       "558809  1n4al3ap0fc216050    ga        3.8   16658.0   white    black  ...   \n",
       "558810  1ftfw1et2eke87277    ca        3.4   15008.0    gray     gray  ...   \n",
       "\n",
       "       make_index  model_index  body_index color_index interior_index  \\\n",
       "0               0            0           0           0              0   \n",
       "1               0            0           0           0              1   \n",
       "2               1            1           1           1              0   \n",
       "3               2            2           1           0              0   \n",
       "4               1            3           1           1              0   \n",
       "...           ...          ...         ...         ...            ...   \n",
       "558806          0           28           1           4              0   \n",
       "558807         32          281           6           0              0   \n",
       "558808          1           19           0           2              0   \n",
       "558809          3            4           1           0              0   \n",
       "558810          6          168           6           1              3   \n",
       "\n",
       "       seller_index  trim_index  vin_index  state_index  saledate_index  \n",
       "0                 0           0          0            0               0  \n",
       "1                 0           0          1            0               0  \n",
       "2                 1           1          2            0               1  \n",
       "3                 2           2          3            0               2  \n",
       "4                 1           3          4            0               3  \n",
       "...             ...         ...        ...          ...             ...  \n",
       "558806           17          23     509362           17            1769  \n",
       "558807        13431        1932     509363           27             976  \n",
       "558808            1         143     509364            0             976  \n",
       "558809            3           4     509365           13            2113  \n",
       "558810          122         154     509366            0             970  \n",
       "\n",
       "[517050 rows x 26 columns]"
      ]
     },
     "execution_count": 120,
     "metadata": {},
     "output_type": "execute_result"
    }
   ],
   "source": [
    "updated_df"
   ]
  },
  {
   "cell_type": "code",
   "execution_count": 121,
   "id": "7b7fc02c",
   "metadata": {},
   "outputs": [],
   "source": [
    "updated_df = updated_df.drop(\"model\", axis=1)"
   ]
  },
  {
   "cell_type": "code",
   "execution_count": 122,
   "id": "c6a7f037",
   "metadata": {},
   "outputs": [],
   "source": [
    "updated_df = updated_df.drop(\"trim\", axis=1)"
   ]
  },
  {
   "cell_type": "code",
   "execution_count": 123,
   "id": "367389b1",
   "metadata": {},
   "outputs": [],
   "source": [
    "updated_df = updated_df.drop(\"vin\", axis=1)"
   ]
  },
  {
   "cell_type": "code",
   "execution_count": 124,
   "id": "3e625325",
   "metadata": {},
   "outputs": [],
   "source": [
    "updated_df = updated_df.drop(\"state\", axis=1)"
   ]
  },
  {
   "cell_type": "code",
   "execution_count": 125,
   "id": "49625eb6",
   "metadata": {},
   "outputs": [],
   "source": [
    "updated_df = updated_df.drop(\"color\", axis=1)"
   ]
  },
  {
   "cell_type": "code",
   "execution_count": 126,
   "id": "99dcbd50",
   "metadata": {},
   "outputs": [],
   "source": [
    "updated_df = updated_df.drop(\"interior\", axis=1)"
   ]
  },
  {
   "cell_type": "code",
   "execution_count": 127,
   "id": "65aeceb1",
   "metadata": {},
   "outputs": [],
   "source": [
    "updated_df = updated_df.drop(\"saledate\", axis=1)"
   ]
  },
  {
   "cell_type": "code",
   "execution_count": 128,
   "id": "85733445",
   "metadata": {},
   "outputs": [],
   "source": [
    "updated_df = updated_df.drop(\"seller\", axis=1)"
   ]
  },
  {
   "cell_type": "code",
   "execution_count": 129,
   "id": "071b0dc6",
   "metadata": {},
   "outputs": [],
   "source": [
    "updated_df = updated_df.drop(\"make_new\", axis=1)"
   ]
  },
  {
   "cell_type": "code",
   "execution_count": 130,
   "id": "874bd77e",
   "metadata": {},
   "outputs": [],
   "source": [
    "updated_df = updated_df.drop(\"body_new\", axis=1)"
   ]
  },
  {
   "cell_type": "code",
   "execution_count": 131,
   "id": "e4179b41",
   "metadata": {},
   "outputs": [
    {
     "data": {
      "text/html": [
       "<div>\n",
       "<style scoped>\n",
       "    .dataframe tbody tr th:only-of-type {\n",
       "        vertical-align: middle;\n",
       "    }\n",
       "\n",
       "    .dataframe tbody tr th {\n",
       "        vertical-align: top;\n",
       "    }\n",
       "\n",
       "    .dataframe thead th {\n",
       "        text-align: right;\n",
       "    }\n",
       "</style>\n",
       "<table border=\"1\" class=\"dataframe\">\n",
       "  <thead>\n",
       "    <tr style=\"text-align: right;\">\n",
       "      <th></th>\n",
       "      <th>year</th>\n",
       "      <th>transmission</th>\n",
       "      <th>condition</th>\n",
       "      <th>odometer</th>\n",
       "      <th>mmr</th>\n",
       "      <th>sellingprice</th>\n",
       "      <th>make_index</th>\n",
       "      <th>model_index</th>\n",
       "      <th>body_index</th>\n",
       "      <th>color_index</th>\n",
       "      <th>interior_index</th>\n",
       "      <th>seller_index</th>\n",
       "      <th>trim_index</th>\n",
       "      <th>vin_index</th>\n",
       "      <th>state_index</th>\n",
       "      <th>saledate_index</th>\n",
       "    </tr>\n",
       "  </thead>\n",
       "  <tbody>\n",
       "    <tr>\n",
       "      <th>0</th>\n",
       "      <td>2015</td>\n",
       "      <td>automatic</td>\n",
       "      <td>5.0</td>\n",
       "      <td>16639.0</td>\n",
       "      <td>20500</td>\n",
       "      <td>21500</td>\n",
       "      <td>0</td>\n",
       "      <td>0</td>\n",
       "      <td>0</td>\n",
       "      <td>0</td>\n",
       "      <td>0</td>\n",
       "      <td>0</td>\n",
       "      <td>0</td>\n",
       "      <td>0</td>\n",
       "      <td>0</td>\n",
       "      <td>0</td>\n",
       "    </tr>\n",
       "    <tr>\n",
       "      <th>1</th>\n",
       "      <td>2015</td>\n",
       "      <td>automatic</td>\n",
       "      <td>5.0</td>\n",
       "      <td>9393.0</td>\n",
       "      <td>20800</td>\n",
       "      <td>21500</td>\n",
       "      <td>0</td>\n",
       "      <td>0</td>\n",
       "      <td>0</td>\n",
       "      <td>0</td>\n",
       "      <td>1</td>\n",
       "      <td>0</td>\n",
       "      <td>0</td>\n",
       "      <td>1</td>\n",
       "      <td>0</td>\n",
       "      <td>0</td>\n",
       "    </tr>\n",
       "    <tr>\n",
       "      <th>2</th>\n",
       "      <td>2014</td>\n",
       "      <td>automatic</td>\n",
       "      <td>4.5</td>\n",
       "      <td>1331.0</td>\n",
       "      <td>31900</td>\n",
       "      <td>30000</td>\n",
       "      <td>1</td>\n",
       "      <td>1</td>\n",
       "      <td>1</td>\n",
       "      <td>1</td>\n",
       "      <td>0</td>\n",
       "      <td>1</td>\n",
       "      <td>1</td>\n",
       "      <td>2</td>\n",
       "      <td>0</td>\n",
       "      <td>1</td>\n",
       "    </tr>\n",
       "    <tr>\n",
       "      <th>3</th>\n",
       "      <td>2015</td>\n",
       "      <td>automatic</td>\n",
       "      <td>4.1</td>\n",
       "      <td>14282.0</td>\n",
       "      <td>27500</td>\n",
       "      <td>27750</td>\n",
       "      <td>2</td>\n",
       "      <td>2</td>\n",
       "      <td>1</td>\n",
       "      <td>0</td>\n",
       "      <td>0</td>\n",
       "      <td>2</td>\n",
       "      <td>2</td>\n",
       "      <td>3</td>\n",
       "      <td>0</td>\n",
       "      <td>2</td>\n",
       "    </tr>\n",
       "    <tr>\n",
       "      <th>4</th>\n",
       "      <td>2014</td>\n",
       "      <td>automatic</td>\n",
       "      <td>4.3</td>\n",
       "      <td>2641.0</td>\n",
       "      <td>66000</td>\n",
       "      <td>67000</td>\n",
       "      <td>1</td>\n",
       "      <td>3</td>\n",
       "      <td>1</td>\n",
       "      <td>1</td>\n",
       "      <td>0</td>\n",
       "      <td>1</td>\n",
       "      <td>3</td>\n",
       "      <td>4</td>\n",
       "      <td>0</td>\n",
       "      <td>3</td>\n",
       "    </tr>\n",
       "    <tr>\n",
       "      <th>...</th>\n",
       "      <td>...</td>\n",
       "      <td>...</td>\n",
       "      <td>...</td>\n",
       "      <td>...</td>\n",
       "      <td>...</td>\n",
       "      <td>...</td>\n",
       "      <td>...</td>\n",
       "      <td>...</td>\n",
       "      <td>...</td>\n",
       "      <td>...</td>\n",
       "      <td>...</td>\n",
       "      <td>...</td>\n",
       "      <td>...</td>\n",
       "      <td>...</td>\n",
       "      <td>...</td>\n",
       "      <td>...</td>\n",
       "    </tr>\n",
       "    <tr>\n",
       "      <th>558806</th>\n",
       "      <td>2015</td>\n",
       "      <td>automatic</td>\n",
       "      <td>4.5</td>\n",
       "      <td>18255.0</td>\n",
       "      <td>35300</td>\n",
       "      <td>33000</td>\n",
       "      <td>0</td>\n",
       "      <td>28</td>\n",
       "      <td>1</td>\n",
       "      <td>4</td>\n",
       "      <td>0</td>\n",
       "      <td>17</td>\n",
       "      <td>23</td>\n",
       "      <td>509362</td>\n",
       "      <td>17</td>\n",
       "      <td>1769</td>\n",
       "    </tr>\n",
       "    <tr>\n",
       "      <th>558807</th>\n",
       "      <td>2012</td>\n",
       "      <td>automatic</td>\n",
       "      <td>5.0</td>\n",
       "      <td>54393.0</td>\n",
       "      <td>30200</td>\n",
       "      <td>30800</td>\n",
       "      <td>32</td>\n",
       "      <td>281</td>\n",
       "      <td>6</td>\n",
       "      <td>0</td>\n",
       "      <td>0</td>\n",
       "      <td>13431</td>\n",
       "      <td>1932</td>\n",
       "      <td>509363</td>\n",
       "      <td>27</td>\n",
       "      <td>976</td>\n",
       "    </tr>\n",
       "    <tr>\n",
       "      <th>558808</th>\n",
       "      <td>2012</td>\n",
       "      <td>automatic</td>\n",
       "      <td>4.8</td>\n",
       "      <td>50561.0</td>\n",
       "      <td>29800</td>\n",
       "      <td>34000</td>\n",
       "      <td>1</td>\n",
       "      <td>19</td>\n",
       "      <td>0</td>\n",
       "      <td>2</td>\n",
       "      <td>0</td>\n",
       "      <td>1</td>\n",
       "      <td>143</td>\n",
       "      <td>509364</td>\n",
       "      <td>0</td>\n",
       "      <td>976</td>\n",
       "    </tr>\n",
       "    <tr>\n",
       "      <th>558809</th>\n",
       "      <td>2015</td>\n",
       "      <td>automatic</td>\n",
       "      <td>3.8</td>\n",
       "      <td>16658.0</td>\n",
       "      <td>15100</td>\n",
       "      <td>11100</td>\n",
       "      <td>3</td>\n",
       "      <td>4</td>\n",
       "      <td>1</td>\n",
       "      <td>0</td>\n",
       "      <td>0</td>\n",
       "      <td>3</td>\n",
       "      <td>4</td>\n",
       "      <td>509365</td>\n",
       "      <td>13</td>\n",
       "      <td>2113</td>\n",
       "    </tr>\n",
       "    <tr>\n",
       "      <th>558810</th>\n",
       "      <td>2014</td>\n",
       "      <td>automatic</td>\n",
       "      <td>3.4</td>\n",
       "      <td>15008.0</td>\n",
       "      <td>29600</td>\n",
       "      <td>26700</td>\n",
       "      <td>6</td>\n",
       "      <td>168</td>\n",
       "      <td>6</td>\n",
       "      <td>1</td>\n",
       "      <td>3</td>\n",
       "      <td>122</td>\n",
       "      <td>154</td>\n",
       "      <td>509366</td>\n",
       "      <td>0</td>\n",
       "      <td>970</td>\n",
       "    </tr>\n",
       "  </tbody>\n",
       "</table>\n",
       "<p>517050 rows × 16 columns</p>\n",
       "</div>"
      ],
      "text/plain": [
       "        year transmission  condition  odometer    mmr  sellingprice  \\\n",
       "0       2015    automatic        5.0   16639.0  20500         21500   \n",
       "1       2015    automatic        5.0    9393.0  20800         21500   \n",
       "2       2014    automatic        4.5    1331.0  31900         30000   \n",
       "3       2015    automatic        4.1   14282.0  27500         27750   \n",
       "4       2014    automatic        4.3    2641.0  66000         67000   \n",
       "...      ...          ...        ...       ...    ...           ...   \n",
       "558806  2015    automatic        4.5   18255.0  35300         33000   \n",
       "558807  2012    automatic        5.0   54393.0  30200         30800   \n",
       "558808  2012    automatic        4.8   50561.0  29800         34000   \n",
       "558809  2015    automatic        3.8   16658.0  15100         11100   \n",
       "558810  2014    automatic        3.4   15008.0  29600         26700   \n",
       "\n",
       "        make_index  model_index  body_index  color_index  interior_index  \\\n",
       "0                0            0           0            0               0   \n",
       "1                0            0           0            0               1   \n",
       "2                1            1           1            1               0   \n",
       "3                2            2           1            0               0   \n",
       "4                1            3           1            1               0   \n",
       "...            ...          ...         ...          ...             ...   \n",
       "558806           0           28           1            4               0   \n",
       "558807          32          281           6            0               0   \n",
       "558808           1           19           0            2               0   \n",
       "558809           3            4           1            0               0   \n",
       "558810           6          168           6            1               3   \n",
       "\n",
       "        seller_index  trim_index  vin_index  state_index  saledate_index  \n",
       "0                  0           0          0            0               0  \n",
       "1                  0           0          1            0               0  \n",
       "2                  1           1          2            0               1  \n",
       "3                  2           2          3            0               2  \n",
       "4                  1           3          4            0               3  \n",
       "...              ...         ...        ...          ...             ...  \n",
       "558806            17          23     509362           17            1769  \n",
       "558807         13431        1932     509363           27             976  \n",
       "558808             1         143     509364            0             976  \n",
       "558809             3           4     509365           13            2113  \n",
       "558810           122         154     509366            0             970  \n",
       "\n",
       "[517050 rows x 16 columns]"
      ]
     },
     "execution_count": 131,
     "metadata": {},
     "output_type": "execute_result"
    }
   ],
   "source": [
    "updated_df"
   ]
  },
  {
   "cell_type": "code",
   "execution_count": null,
   "id": "bb91f337",
   "metadata": {},
   "outputs": [],
   "source": []
  },
  {
   "cell_type": "markdown",
   "id": "e92j_QgAVU45",
   "metadata": {
    "id": "e92j_QgAVU45"
   },
   "source": [
    "# **Encode Categorical Variables Using `OneHotEncoder` method**"
   ]
  },
  {
   "cell_type": "code",
   "execution_count": 132,
   "id": "h95GuyMhb8xd",
   "metadata": {
    "id": "h95GuyMhb8xd"
   },
   "outputs": [],
   "source": [
    "updated_df = pd.get_dummies(updated_df, prefix_sep='_', columns=[\"transmission\"])"
   ]
  },
  {
   "cell_type": "code",
   "execution_count": 133,
   "id": "Sg32YRXNVjb1",
   "metadata": {
    "colab": {
     "base_uri": "https://localhost:8080/",
     "height": 904
    },
    "id": "Sg32YRXNVjb1",
    "outputId": "b104f9c7-16b9-4013-8a70-f4be835f54cc"
   },
   "outputs": [
    {
     "data": {
      "text/html": [
       "<div>\n",
       "<style scoped>\n",
       "    .dataframe tbody tr th:only-of-type {\n",
       "        vertical-align: middle;\n",
       "    }\n",
       "\n",
       "    .dataframe tbody tr th {\n",
       "        vertical-align: top;\n",
       "    }\n",
       "\n",
       "    .dataframe thead th {\n",
       "        text-align: right;\n",
       "    }\n",
       "</style>\n",
       "<table border=\"1\" class=\"dataframe\">\n",
       "  <thead>\n",
       "    <tr style=\"text-align: right;\">\n",
       "      <th></th>\n",
       "      <th>year</th>\n",
       "      <th>condition</th>\n",
       "      <th>odometer</th>\n",
       "      <th>mmr</th>\n",
       "      <th>sellingprice</th>\n",
       "      <th>make_index</th>\n",
       "      <th>model_index</th>\n",
       "      <th>body_index</th>\n",
       "      <th>color_index</th>\n",
       "      <th>interior_index</th>\n",
       "      <th>seller_index</th>\n",
       "      <th>trim_index</th>\n",
       "      <th>vin_index</th>\n",
       "      <th>state_index</th>\n",
       "      <th>saledate_index</th>\n",
       "      <th>transmission_automatic</th>\n",
       "      <th>transmission_manual</th>\n",
       "    </tr>\n",
       "  </thead>\n",
       "  <tbody>\n",
       "    <tr>\n",
       "      <th>0</th>\n",
       "      <td>2015</td>\n",
       "      <td>5.0</td>\n",
       "      <td>16639.0</td>\n",
       "      <td>20500</td>\n",
       "      <td>21500</td>\n",
       "      <td>0</td>\n",
       "      <td>0</td>\n",
       "      <td>0</td>\n",
       "      <td>0</td>\n",
       "      <td>0</td>\n",
       "      <td>0</td>\n",
       "      <td>0</td>\n",
       "      <td>0</td>\n",
       "      <td>0</td>\n",
       "      <td>0</td>\n",
       "      <td>1</td>\n",
       "      <td>0</td>\n",
       "    </tr>\n",
       "    <tr>\n",
       "      <th>1</th>\n",
       "      <td>2015</td>\n",
       "      <td>5.0</td>\n",
       "      <td>9393.0</td>\n",
       "      <td>20800</td>\n",
       "      <td>21500</td>\n",
       "      <td>0</td>\n",
       "      <td>0</td>\n",
       "      <td>0</td>\n",
       "      <td>0</td>\n",
       "      <td>1</td>\n",
       "      <td>0</td>\n",
       "      <td>0</td>\n",
       "      <td>1</td>\n",
       "      <td>0</td>\n",
       "      <td>0</td>\n",
       "      <td>1</td>\n",
       "      <td>0</td>\n",
       "    </tr>\n",
       "    <tr>\n",
       "      <th>2</th>\n",
       "      <td>2014</td>\n",
       "      <td>4.5</td>\n",
       "      <td>1331.0</td>\n",
       "      <td>31900</td>\n",
       "      <td>30000</td>\n",
       "      <td>1</td>\n",
       "      <td>1</td>\n",
       "      <td>1</td>\n",
       "      <td>1</td>\n",
       "      <td>0</td>\n",
       "      <td>1</td>\n",
       "      <td>1</td>\n",
       "      <td>2</td>\n",
       "      <td>0</td>\n",
       "      <td>1</td>\n",
       "      <td>1</td>\n",
       "      <td>0</td>\n",
       "    </tr>\n",
       "    <tr>\n",
       "      <th>3</th>\n",
       "      <td>2015</td>\n",
       "      <td>4.1</td>\n",
       "      <td>14282.0</td>\n",
       "      <td>27500</td>\n",
       "      <td>27750</td>\n",
       "      <td>2</td>\n",
       "      <td>2</td>\n",
       "      <td>1</td>\n",
       "      <td>0</td>\n",
       "      <td>0</td>\n",
       "      <td>2</td>\n",
       "      <td>2</td>\n",
       "      <td>3</td>\n",
       "      <td>0</td>\n",
       "      <td>2</td>\n",
       "      <td>1</td>\n",
       "      <td>0</td>\n",
       "    </tr>\n",
       "    <tr>\n",
       "      <th>4</th>\n",
       "      <td>2014</td>\n",
       "      <td>4.3</td>\n",
       "      <td>2641.0</td>\n",
       "      <td>66000</td>\n",
       "      <td>67000</td>\n",
       "      <td>1</td>\n",
       "      <td>3</td>\n",
       "      <td>1</td>\n",
       "      <td>1</td>\n",
       "      <td>0</td>\n",
       "      <td>1</td>\n",
       "      <td>3</td>\n",
       "      <td>4</td>\n",
       "      <td>0</td>\n",
       "      <td>3</td>\n",
       "      <td>1</td>\n",
       "      <td>0</td>\n",
       "    </tr>\n",
       "    <tr>\n",
       "      <th>...</th>\n",
       "      <td>...</td>\n",
       "      <td>...</td>\n",
       "      <td>...</td>\n",
       "      <td>...</td>\n",
       "      <td>...</td>\n",
       "      <td>...</td>\n",
       "      <td>...</td>\n",
       "      <td>...</td>\n",
       "      <td>...</td>\n",
       "      <td>...</td>\n",
       "      <td>...</td>\n",
       "      <td>...</td>\n",
       "      <td>...</td>\n",
       "      <td>...</td>\n",
       "      <td>...</td>\n",
       "      <td>...</td>\n",
       "      <td>...</td>\n",
       "    </tr>\n",
       "    <tr>\n",
       "      <th>558806</th>\n",
       "      <td>2015</td>\n",
       "      <td>4.5</td>\n",
       "      <td>18255.0</td>\n",
       "      <td>35300</td>\n",
       "      <td>33000</td>\n",
       "      <td>0</td>\n",
       "      <td>28</td>\n",
       "      <td>1</td>\n",
       "      <td>4</td>\n",
       "      <td>0</td>\n",
       "      <td>17</td>\n",
       "      <td>23</td>\n",
       "      <td>509362</td>\n",
       "      <td>17</td>\n",
       "      <td>1769</td>\n",
       "      <td>1</td>\n",
       "      <td>0</td>\n",
       "    </tr>\n",
       "    <tr>\n",
       "      <th>558807</th>\n",
       "      <td>2012</td>\n",
       "      <td>5.0</td>\n",
       "      <td>54393.0</td>\n",
       "      <td>30200</td>\n",
       "      <td>30800</td>\n",
       "      <td>32</td>\n",
       "      <td>281</td>\n",
       "      <td>6</td>\n",
       "      <td>0</td>\n",
       "      <td>0</td>\n",
       "      <td>13431</td>\n",
       "      <td>1932</td>\n",
       "      <td>509363</td>\n",
       "      <td>27</td>\n",
       "      <td>976</td>\n",
       "      <td>1</td>\n",
       "      <td>0</td>\n",
       "    </tr>\n",
       "    <tr>\n",
       "      <th>558808</th>\n",
       "      <td>2012</td>\n",
       "      <td>4.8</td>\n",
       "      <td>50561.0</td>\n",
       "      <td>29800</td>\n",
       "      <td>34000</td>\n",
       "      <td>1</td>\n",
       "      <td>19</td>\n",
       "      <td>0</td>\n",
       "      <td>2</td>\n",
       "      <td>0</td>\n",
       "      <td>1</td>\n",
       "      <td>143</td>\n",
       "      <td>509364</td>\n",
       "      <td>0</td>\n",
       "      <td>976</td>\n",
       "      <td>1</td>\n",
       "      <td>0</td>\n",
       "    </tr>\n",
       "    <tr>\n",
       "      <th>558809</th>\n",
       "      <td>2015</td>\n",
       "      <td>3.8</td>\n",
       "      <td>16658.0</td>\n",
       "      <td>15100</td>\n",
       "      <td>11100</td>\n",
       "      <td>3</td>\n",
       "      <td>4</td>\n",
       "      <td>1</td>\n",
       "      <td>0</td>\n",
       "      <td>0</td>\n",
       "      <td>3</td>\n",
       "      <td>4</td>\n",
       "      <td>509365</td>\n",
       "      <td>13</td>\n",
       "      <td>2113</td>\n",
       "      <td>1</td>\n",
       "      <td>0</td>\n",
       "    </tr>\n",
       "    <tr>\n",
       "      <th>558810</th>\n",
       "      <td>2014</td>\n",
       "      <td>3.4</td>\n",
       "      <td>15008.0</td>\n",
       "      <td>29600</td>\n",
       "      <td>26700</td>\n",
       "      <td>6</td>\n",
       "      <td>168</td>\n",
       "      <td>6</td>\n",
       "      <td>1</td>\n",
       "      <td>3</td>\n",
       "      <td>122</td>\n",
       "      <td>154</td>\n",
       "      <td>509366</td>\n",
       "      <td>0</td>\n",
       "      <td>970</td>\n",
       "      <td>1</td>\n",
       "      <td>0</td>\n",
       "    </tr>\n",
       "  </tbody>\n",
       "</table>\n",
       "<p>517050 rows × 17 columns</p>\n",
       "</div>"
      ],
      "text/plain": [
       "        year  condition  odometer    mmr  sellingprice  make_index  \\\n",
       "0       2015        5.0   16639.0  20500         21500           0   \n",
       "1       2015        5.0    9393.0  20800         21500           0   \n",
       "2       2014        4.5    1331.0  31900         30000           1   \n",
       "3       2015        4.1   14282.0  27500         27750           2   \n",
       "4       2014        4.3    2641.0  66000         67000           1   \n",
       "...      ...        ...       ...    ...           ...         ...   \n",
       "558806  2015        4.5   18255.0  35300         33000           0   \n",
       "558807  2012        5.0   54393.0  30200         30800          32   \n",
       "558808  2012        4.8   50561.0  29800         34000           1   \n",
       "558809  2015        3.8   16658.0  15100         11100           3   \n",
       "558810  2014        3.4   15008.0  29600         26700           6   \n",
       "\n",
       "        model_index  body_index  color_index  interior_index  seller_index  \\\n",
       "0                 0           0            0               0             0   \n",
       "1                 0           0            0               1             0   \n",
       "2                 1           1            1               0             1   \n",
       "3                 2           1            0               0             2   \n",
       "4                 3           1            1               0             1   \n",
       "...             ...         ...          ...             ...           ...   \n",
       "558806           28           1            4               0            17   \n",
       "558807          281           6            0               0         13431   \n",
       "558808           19           0            2               0             1   \n",
       "558809            4           1            0               0             3   \n",
       "558810          168           6            1               3           122   \n",
       "\n",
       "        trim_index  vin_index  state_index  saledate_index  \\\n",
       "0                0          0            0               0   \n",
       "1                0          1            0               0   \n",
       "2                1          2            0               1   \n",
       "3                2          3            0               2   \n",
       "4                3          4            0               3   \n",
       "...            ...        ...          ...             ...   \n",
       "558806          23     509362           17            1769   \n",
       "558807        1932     509363           27             976   \n",
       "558808         143     509364            0             976   \n",
       "558809           4     509365           13            2113   \n",
       "558810         154     509366            0             970   \n",
       "\n",
       "        transmission_automatic  transmission_manual  \n",
       "0                            1                    0  \n",
       "1                            1                    0  \n",
       "2                            1                    0  \n",
       "3                            1                    0  \n",
       "4                            1                    0  \n",
       "...                        ...                  ...  \n",
       "558806                       1                    0  \n",
       "558807                       1                    0  \n",
       "558808                       1                    0  \n",
       "558809                       1                    0  \n",
       "558810                       1                    0  \n",
       "\n",
       "[517050 rows x 17 columns]"
      ]
     },
     "execution_count": 133,
     "metadata": {},
     "output_type": "execute_result"
    }
   ],
   "source": [
    "updated_df"
   ]
  },
  {
   "cell_type": "code",
   "execution_count": null,
   "id": "TQNBiZD8eWSq",
   "metadata": {
    "id": "TQNBiZD8eWSq"
   },
   "outputs": [],
   "source": []
  },
  {
   "cell_type": "markdown",
   "id": "uV0vAZKONsyp",
   "metadata": {
    "id": "uV0vAZKONsyp"
   },
   "source": [
    "# **Detect Outlier**"
   ]
  },
  {
   "cell_type": "code",
   "execution_count": 134,
   "id": "E66nbToFNzuD",
   "metadata": {
    "colab": {
     "base_uri": "https://localhost:8080/"
    },
    "id": "E66nbToFNzuD",
    "outputId": "f81f9176-25c5-4d8e-fade-80d488f9aed6"
   },
   "outputs": [
    {
     "data": {
      "text/plain": [
       "Index(['year', 'condition', 'odometer', 'mmr', 'sellingprice', 'make_index',\n",
       "       'model_index', 'body_index', 'color_index', 'interior_index',\n",
       "       'seller_index', 'trim_index', 'vin_index', 'state_index',\n",
       "       'saledate_index', 'transmission_automatic', 'transmission_manual'],\n",
       "      dtype='object')"
      ]
     },
     "execution_count": 134,
     "metadata": {},
     "output_type": "execute_result"
    }
   ],
   "source": [
    "updated_df.columns"
   ]
  },
  {
   "cell_type": "code",
   "execution_count": 135,
   "id": "33crGDhdNz3K",
   "metadata": {
    "colab": {
     "base_uri": "https://localhost:8080/",
     "height": 674
    },
    "id": "33crGDhdNz3K",
    "outputId": "2b7e551c-f171-4b10-d9e1-b278389e6cdc"
   },
   "outputs": [
    {
     "data": {
      "text/plain": [
       "<AxesSubplot:ylabel='year'>"
      ]
     },
     "execution_count": 135,
     "metadata": {},
     "output_type": "execute_result"
    },
    {
     "data": {
      "image/png": "[encoded data removed]",
      "text/plain": [
       "<Figure size 400x800 with 1 Axes>"
      ]
     },
     "metadata": {},
     "output_type": "display_data"
    }
   ],
   "source": [
    "import matplotlib.pyplot as plt\n",
    "import seaborn as sns \n",
    "plt.figure(figsize = (4,8))\n",
    "sns.boxplot(y = updated_df.year)"
   ]
  },
  {
   "cell_type": "code",
   "execution_count": 136,
   "id": "P0Fhmgg_OBZ-",
   "metadata": {
    "colab": {
     "base_uri": "https://localhost:8080/",
     "height": 428
    },
    "id": "P0Fhmgg_OBZ-",
    "outputId": "5dd7ed25-bb46-47d8-802b-770f16c4b9a4"
   },
   "outputs": [
    {
     "data": {
      "text/plain": [
       "<AxesSubplot:ylabel='condition'>"
      ]
     },
     "execution_count": 136,
     "metadata": {},
     "output_type": "execute_result"
    },
    {
     "data": {
      "image/png": "[encoded data removed]",
      "text/plain": [
       "<Figure size 640x480 with 1 Axes>"
      ]
     },
     "metadata": {},
     "output_type": "display_data"
    }
   ],
   "source": [
    "sns.boxplot(y = updated_df.condition)"
   ]
  },
  {
   "cell_type": "code",
   "execution_count": 137,
   "id": "fCHksprXOI2A",
   "metadata": {
    "colab": {
     "base_uri": "https://localhost:8080/",
     "height": 443
    },
    "id": "fCHksprXOI2A",
    "outputId": "c0ba62ec-ec08-4cb4-b7d7-37089f332552"
   },
   "outputs": [
    {
     "data": {
      "text/plain": [
       "<AxesSubplot:ylabel='odometer'>"
      ]
     },
     "execution_count": 137,
     "metadata": {},
     "output_type": "execute_result"
    },
    {
     "data": {
      "image/png": "[encoded data removed]",
      "text/plain": [
       "<Figure size 640x480 with 1 Axes>"
      ]
     },
     "metadata": {},
     "output_type": "display_data"
    }
   ],
   "source": [
    "sns.boxplot(y = updated_df.odometer)"
   ]
  },
  {
   "cell_type": "code",
   "execution_count": 138,
   "id": "8ksg2u5xOJC7",
   "metadata": {
    "colab": {
     "base_uri": "https://localhost:8080/",
     "height": 428
    },
    "id": "8ksg2u5xOJC7",
    "outputId": "89e91485-6691-41fd-9505-8f654d6d1873"
   },
   "outputs": [
    {
     "data": {
      "text/plain": [
       "<AxesSubplot:ylabel='mmr'>"
      ]
     },
     "execution_count": 138,
     "metadata": {},
     "output_type": "execute_result"
    },
    {
     "data": {
      "image/png": "[encoded data removed]",
      "text/plain": [
       "<Figure size 640x480 with 1 Axes>"
      ]
     },
     "metadata": {},
     "output_type": "display_data"
    }
   ],
   "source": [
    "sns.boxplot(y = updated_df.mmr)"
   ]
  },
  {
   "cell_type": "code",
   "execution_count": 139,
   "id": "5J-SLezTOgb6",
   "metadata": {
    "colab": {
     "base_uri": "https://localhost:8080/",
     "height": 502
    },
    "id": "5J-SLezTOgb6",
    "outputId": "9a475465-0c3e-4683-e7c0-de05f61084d9"
   },
   "outputs": [],
   "source": [
    "def out_std(df, column):\n",
    "    global lower,upper\n",
    "    # calculate the mean and standard deviation of the data frame\n",
    "    data_mean, data_std = df[column].mean(), df[column].std()\n",
    "    # calculate the cutoff value\n",
    "    cut_off = data_std * 3\n",
    "    # calculate the lower and upper bound value\n",
    "    lower, upper = data_mean - cut_off, data_mean + cut_off\n",
    "    print('The lower bound value is', lower)\n",
    "    print('The upper bound value is', upper)\n",
    "    # Calculate the number of records below and above lower and above bound value respectively\n",
    "    df1 = df[df[column] > upper]\n",
    "    df2 = df[df[column] < lower]\n",
    "    return print('Total number of outliers are', df1.shape[0]+ df2.shape[0])"
   ]
  },
  {
   "cell_type": "code",
   "execution_count": 140,
   "id": "QO09TFmgO16e",
   "metadata": {
    "colab": {
     "base_uri": "https://localhost:8080/",
     "height": 321
    },
    "id": "QO09TFmgO16e",
    "outputId": "b4a32040-b10a-4d9a-fcf0-c46fdc961b02"
   },
   "outputs": [
    {
     "name": "stdout",
     "output_type": "stream",
     "text": [
      "\n",
      "year\n",
      "The lower bound value is 1998.1800137628102\n",
      "The upper bound value is 2021.8500645661716\n",
      "Total number of outliers are 5469\n",
      "\n",
      "condition\n",
      "The lower bound value is 0.5953401131181502\n",
      "The upper bound value is 6.231962013727463\n",
      "Total number of outliers are 0\n",
      "\n",
      "odometer\n",
      "The lower bound value is -91078.71177569717\n",
      "The upper bound value is 228519.61833383894\n",
      "Total number of outliers are 4834\n",
      "\n",
      "mmr\n",
      "The lower bound value is -15084.799330350055\n",
      "The upper bound value is 42410.92272267188\n",
      "Total number of outliers are 6359\n",
      "\n",
      "sellingprice\n",
      "The lower bound value is -15445.324222447789\n",
      "The upper bound value is 42465.35916297579\n",
      "Total number of outliers are 6455\n",
      "\n",
      "make_index\n",
      "The lower bound value is -18.2921932177974\n",
      "The upper bound value is 43.67703414227279\n",
      "Total number of outliers are 287\n",
      "\n",
      "model_index\n",
      "The lower bound value is -249.23925818647658\n",
      "The upper bound value is 547.8073811919886\n",
      "Total number of outliers are 10246\n",
      "\n",
      "body_index\n",
      "The lower bound value is -4.74422102413296\n",
      "The upper bound value is 8.504851524084609\n",
      "Total number of outliers are 0\n",
      "\n",
      "color_index\n",
      "The lower bound value is -5.6697390935380785\n",
      "The upper bound value is 11.45972072007323\n",
      "Total number of outliers are 15027\n",
      "\n",
      "interior_index\n",
      "The lower bound value is -3.400891371237199\n",
      "The upper bound value is 6.254116397830371\n",
      "Total number of outliers are 4817\n",
      "\n",
      "seller_index\n",
      "The lower bound value is -5965.786494641827\n",
      "The upper bound value is 9145.766086557502\n",
      "Total number of outliers are 14865\n",
      "\n",
      "trim_index\n",
      "The lower bound value is -549.8450203803329\n",
      "The upper bound value is 839.6270066485856\n",
      "Total number of outliers are 12967\n",
      "\n",
      "vin_index\n",
      "The lower bound value is -187767.73524761604\n",
      "The upper bound value is 694589.0153172418\n",
      "Total number of outliers are 0\n",
      "\n",
      "state_index\n",
      "The lower bound value is -14.256842538689252\n",
      "The upper bound value is 32.80439113166865\n",
      "Total number of outliers are 1990\n",
      "\n",
      "saledate_index\n",
      "The lower bound value is -1567.5259060038918\n",
      "The upper bound value is 3283.871829995769\n",
      "Total number of outliers are 5575\n",
      "\n",
      "transmission_automatic\n",
      "The lower bound value is 0.44187068265707685\n",
      "The upper bound value is 1.4945455246729686\n",
      "Total number of outliers are 16438\n",
      "\n",
      "transmission_manual\n",
      "The lower bound value is -0.49454552467296864\n",
      "The upper bound value is 0.5581293173429231\n",
      "Total number of outliers are 16438\n"
     ]
    }
   ],
   "source": [
    "updated_df3 = updated_df.copy()\n",
    "for i in updated_df.columns:\n",
    "    print(\"\\n\"+i)\n",
    "    out_std(updated_df,i)\n",
    "    updated_df3 = updated_df3[(updated_df3[i] < upper) & (updated_df3[i] > lower)]"
   ]
  },
  {
   "cell_type": "code",
   "execution_count": 141,
   "id": "eUTRDrD0SWiU",
   "metadata": {
    "colab": {
     "base_uri": "https://localhost:8080/"
    },
    "id": "eUTRDrD0SWiU",
    "outputId": "bf0b91f5-b85d-437a-e6e3-6e6f4be212e5"
   },
   "outputs": [
    {
     "data": {
      "text/plain": [
       "(517050, 17)"
      ]
     },
     "execution_count": 141,
     "metadata": {},
     "output_type": "execute_result"
    }
   ],
   "source": [
    "updated_df.shape"
   ]
  },
  {
   "cell_type": "code",
   "execution_count": 142,
   "id": "OOEXcFeYSZpT",
   "metadata": {
    "id": "OOEXcFeYSZpT"
   },
   "outputs": [
    {
     "data": {
      "text/plain": [
       "(433913, 17)"
      ]
     },
     "execution_count": 142,
     "metadata": {},
     "output_type": "execute_result"
    }
   ],
   "source": [
    "updated_df3.shape"
   ]
  },
  {
   "cell_type": "code",
   "execution_count": 143,
   "id": "25183f11",
   "metadata": {
    "scrolled": true
   },
   "outputs": [
    {
     "data": {
      "text/html": [
       "<div>\n",
       "<style scoped>\n",
       "    .dataframe tbody tr th:only-of-type {\n",
       "        vertical-align: middle;\n",
       "    }\n",
       "\n",
       "    .dataframe tbody tr th {\n",
       "        vertical-align: top;\n",
       "    }\n",
       "\n",
       "    .dataframe thead th {\n",
       "        text-align: right;\n",
       "    }\n",
       "</style>\n",
       "<table border=\"1\" class=\"dataframe\">\n",
       "  <thead>\n",
       "    <tr style=\"text-align: right;\">\n",
       "      <th></th>\n",
       "      <th>year</th>\n",
       "      <th>condition</th>\n",
       "      <th>odometer</th>\n",
       "      <th>mmr</th>\n",
       "      <th>sellingprice</th>\n",
       "      <th>make_index</th>\n",
       "      <th>model_index</th>\n",
       "      <th>body_index</th>\n",
       "      <th>color_index</th>\n",
       "      <th>interior_index</th>\n",
       "      <th>seller_index</th>\n",
       "      <th>trim_index</th>\n",
       "      <th>vin_index</th>\n",
       "      <th>state_index</th>\n",
       "      <th>saledate_index</th>\n",
       "      <th>transmission_automatic</th>\n",
       "      <th>transmission_manual</th>\n",
       "    </tr>\n",
       "  </thead>\n",
       "  <tbody>\n",
       "    <tr>\n",
       "      <th>count</th>\n",
       "      <td>433913.000000</td>\n",
       "      <td>433913.000000</td>\n",
       "      <td>433913.000000</td>\n",
       "      <td>433913.000000</td>\n",
       "      <td>433913.000000</td>\n",
       "      <td>433913.000000</td>\n",
       "      <td>433913.000000</td>\n",
       "      <td>433913.000000</td>\n",
       "      <td>433913.000000</td>\n",
       "      <td>433913.000000</td>\n",
       "      <td>433913.000000</td>\n",
       "      <td>433913.000000</td>\n",
       "      <td>433913.000000</td>\n",
       "      <td>433913.000000</td>\n",
       "      <td>433913.000000</td>\n",
       "      <td>433913.0</td>\n",
       "      <td>433913.0</td>\n",
       "    </tr>\n",
       "    <tr>\n",
       "      <th>mean</th>\n",
       "      <td>2010.436290</td>\n",
       "      <td>3.451659</td>\n",
       "      <td>64382.074617</td>\n",
       "      <td>13577.262493</td>\n",
       "      <td>13426.636787</td>\n",
       "      <td>12.386531</td>\n",
       "      <td>134.892112</td>\n",
       "      <td>1.844169</td>\n",
       "      <td>2.581545</td>\n",
       "      <td>1.334337</td>\n",
       "      <td>1230.631297</td>\n",
       "      <td>113.168594</td>\n",
       "      <td>247736.572329</td>\n",
       "      <td>9.128623</td>\n",
       "      <td>809.836799</td>\n",
       "      <td>1.0</td>\n",
       "      <td>0.0</td>\n",
       "    </tr>\n",
       "    <tr>\n",
       "      <th>std</th>\n",
       "      <td>3.479981</td>\n",
       "      <td>0.916031</td>\n",
       "      <td>46727.481220</td>\n",
       "      <td>7871.373664</td>\n",
       "      <td>7972.464229</td>\n",
       "      <td>10.182647</td>\n",
       "      <td>107.634034</td>\n",
       "      <td>2.212928</td>\n",
       "      <td>2.308517</td>\n",
       "      <td>1.384968</td>\n",
       "      <td>1891.527647</td>\n",
       "      <td>143.590160</td>\n",
       "      <td>145031.294118</td>\n",
       "      <td>7.666881</td>\n",
       "      <td>752.071461</td>\n",
       "      <td>0.0</td>\n",
       "      <td>0.0</td>\n",
       "    </tr>\n",
       "    <tr>\n",
       "      <th>min</th>\n",
       "      <td>1999.000000</td>\n",
       "      <td>1.000000</td>\n",
       "      <td>1.000000</td>\n",
       "      <td>25.000000</td>\n",
       "      <td>1.000000</td>\n",
       "      <td>0.000000</td>\n",
       "      <td>0.000000</td>\n",
       "      <td>0.000000</td>\n",
       "      <td>0.000000</td>\n",
       "      <td>0.000000</td>\n",
       "      <td>0.000000</td>\n",
       "      <td>0.000000</td>\n",
       "      <td>0.000000</td>\n",
       "      <td>0.000000</td>\n",
       "      <td>0.000000</td>\n",
       "      <td>1.0</td>\n",
       "      <td>0.0</td>\n",
       "    </tr>\n",
       "    <tr>\n",
       "      <th>25%</th>\n",
       "      <td>2008.000000</td>\n",
       "      <td>2.800000</td>\n",
       "      <td>28547.000000</td>\n",
       "      <td>8025.000000</td>\n",
       "      <td>7800.000000</td>\n",
       "      <td>4.000000</td>\n",
       "      <td>43.000000</td>\n",
       "      <td>0.000000</td>\n",
       "      <td>1.000000</td>\n",
       "      <td>0.000000</td>\n",
       "      <td>38.000000</td>\n",
       "      <td>10.000000</td>\n",
       "      <td>122875.000000</td>\n",
       "      <td>2.000000</td>\n",
       "      <td>257.000000</td>\n",
       "      <td>1.0</td>\n",
       "      <td>0.0</td>\n",
       "    </tr>\n",
       "    <tr>\n",
       "      <th>50%</th>\n",
       "      <td>2012.000000</td>\n",
       "      <td>3.600000</td>\n",
       "      <td>50262.000000</td>\n",
       "      <td>12500.000000</td>\n",
       "      <td>12400.000000</td>\n",
       "      <td>7.000000</td>\n",
       "      <td>131.000000</td>\n",
       "      <td>1.000000</td>\n",
       "      <td>2.000000</td>\n",
       "      <td>1.000000</td>\n",
       "      <td>300.000000</td>\n",
       "      <td>58.000000</td>\n",
       "      <td>244035.000000</td>\n",
       "      <td>8.000000</td>\n",
       "      <td>493.000000</td>\n",
       "      <td>1.0</td>\n",
       "      <td>0.0</td>\n",
       "    </tr>\n",
       "    <tr>\n",
       "      <th>75%</th>\n",
       "      <td>2013.000000</td>\n",
       "      <td>4.200000</td>\n",
       "      <td>93609.000000</td>\n",
       "      <td>18050.000000</td>\n",
       "      <td>18000.000000</td>\n",
       "      <td>22.000000</td>\n",
       "      <td>186.000000</td>\n",
       "      <td>2.000000</td>\n",
       "      <td>4.000000</td>\n",
       "      <td>3.000000</td>\n",
       "      <td>1431.000000</td>\n",
       "      <td>154.000000</td>\n",
       "      <td>371796.000000</td>\n",
       "      <td>13.000000</td>\n",
       "      <td>1167.000000</td>\n",
       "      <td>1.0</td>\n",
       "      <td>0.0</td>\n",
       "    </tr>\n",
       "    <tr>\n",
       "      <th>max</th>\n",
       "      <td>2015.000000</td>\n",
       "      <td>5.000000</td>\n",
       "      <td>228498.000000</td>\n",
       "      <td>42400.000000</td>\n",
       "      <td>42400.000000</td>\n",
       "      <td>42.000000</td>\n",
       "      <td>547.000000</td>\n",
       "      <td>7.000000</td>\n",
       "      <td>11.000000</td>\n",
       "      <td>6.000000</td>\n",
       "      <td>9145.000000</td>\n",
       "      <td>839.000000</td>\n",
       "      <td>509366.000000</td>\n",
       "      <td>32.000000</td>\n",
       "      <td>3283.000000</td>\n",
       "      <td>1.0</td>\n",
       "      <td>0.0</td>\n",
       "    </tr>\n",
       "  </tbody>\n",
       "</table>\n",
       "</div>"
      ],
      "text/plain": [
       "                year      condition       odometer            mmr  \\\n",
       "count  433913.000000  433913.000000  433913.000000  433913.000000   \n",
       "mean     2010.436290       3.451659   64382.074617   13577.262493   \n",
       "std         3.479981       0.916031   46727.481220    7871.373664   \n",
       "min      1999.000000       1.000000       1.000000      25.000000   \n",
       "25%      2008.000000       2.800000   28547.000000    8025.000000   \n",
       "50%      2012.000000       3.600000   50262.000000   12500.000000   \n",
       "75%      2013.000000       4.200000   93609.000000   18050.000000   \n",
       "max      2015.000000       5.000000  228498.000000   42400.000000   \n",
       "\n",
       "        sellingprice     make_index    model_index     body_index  \\\n",
       "count  433913.000000  433913.000000  433913.000000  433913.000000   \n",
       "mean    13426.636787      12.386531     134.892112       1.844169   \n",
       "std      7972.464229      10.182647     107.634034       2.212928   \n",
       "min         1.000000       0.000000       0.000000       0.000000   \n",
       "25%      7800.000000       4.000000      43.000000       0.000000   \n",
       "50%     12400.000000       7.000000     131.000000       1.000000   \n",
       "75%     18000.000000      22.000000     186.000000       2.000000   \n",
       "max     42400.000000      42.000000     547.000000       7.000000   \n",
       "\n",
       "         color_index  interior_index   seller_index     trim_index  \\\n",
       "count  433913.000000   433913.000000  433913.000000  433913.000000   \n",
       "mean        2.581545        1.334337    1230.631297     113.168594   \n",
       "std         2.308517        1.384968    1891.527647     143.590160   \n",
       "min         0.000000        0.000000       0.000000       0.000000   \n",
       "25%         1.000000        0.000000      38.000000      10.000000   \n",
       "50%         2.000000        1.000000     300.000000      58.000000   \n",
       "75%         4.000000        3.000000    1431.000000     154.000000   \n",
       "max        11.000000        6.000000    9145.000000     839.000000   \n",
       "\n",
       "           vin_index    state_index  saledate_index  transmission_automatic  \\\n",
       "count  433913.000000  433913.000000   433913.000000                433913.0   \n",
       "mean   247736.572329       9.128623      809.836799                     1.0   \n",
       "std    145031.294118       7.666881      752.071461                     0.0   \n",
       "min         0.000000       0.000000        0.000000                     1.0   \n",
       "25%    122875.000000       2.000000      257.000000                     1.0   \n",
       "50%    244035.000000       8.000000      493.000000                     1.0   \n",
       "75%    371796.000000      13.000000     1167.000000                     1.0   \n",
       "max    509366.000000      32.000000     3283.000000                     1.0   \n",
       "\n",
       "       transmission_manual  \n",
       "count             433913.0  \n",
       "mean                   0.0  \n",
       "std                    0.0  \n",
       "min                    0.0  \n",
       "25%                    0.0  \n",
       "50%                    0.0  \n",
       "75%                    0.0  \n",
       "max                    0.0  "
      ]
     },
     "execution_count": 143,
     "metadata": {},
     "output_type": "execute_result"
    }
   ],
   "source": [
    "updated_df3.describe()"
   ]
  },
  {
   "cell_type": "markdown",
   "id": "4084abb1",
   "metadata": {},
   "source": [
    "Because of standard deviation of transmission_ automatic and transmission_ manual are equal to 0, we eliminate these columns."
   ]
  },
  {
   "cell_type": "code",
   "execution_count": 144,
   "id": "b4ba0989",
   "metadata": {},
   "outputs": [],
   "source": [
    "updated_df3.drop([\"transmission_automatic\", \"transmission_manual\"],axis=1, inplace=True)"
   ]
  },
  {
   "cell_type": "markdown",
   "id": "c1675c8b",
   "metadata": {},
   "source": [
    "Because of the standard deviation of condition and interior are so low, we eliminate these columns also. "
   ]
  },
  {
   "cell_type": "code",
   "execution_count": 145,
   "id": "80914533",
   "metadata": {},
   "outputs": [],
   "source": [
    "updated_df3.drop([\"condition\", \"interior_index\"],axis=1, inplace=True)"
   ]
  },
  {
   "cell_type": "code",
   "execution_count": 146,
   "id": "e1e6cb93",
   "metadata": {},
   "outputs": [
    {
     "data": {
      "text/html": [
       "<div>\n",
       "<style scoped>\n",
       "    .dataframe tbody tr th:only-of-type {\n",
       "        vertical-align: middle;\n",
       "    }\n",
       "\n",
       "    .dataframe tbody tr th {\n",
       "        vertical-align: top;\n",
       "    }\n",
       "\n",
       "    .dataframe thead th {\n",
       "        text-align: right;\n",
       "    }\n",
       "</style>\n",
       "<table border=\"1\" class=\"dataframe\">\n",
       "  <thead>\n",
       "    <tr style=\"text-align: right;\">\n",
       "      <th></th>\n",
       "      <th>year</th>\n",
       "      <th>odometer</th>\n",
       "      <th>mmr</th>\n",
       "      <th>sellingprice</th>\n",
       "      <th>make_index</th>\n",
       "      <th>model_index</th>\n",
       "      <th>body_index</th>\n",
       "      <th>color_index</th>\n",
       "      <th>seller_index</th>\n",
       "      <th>trim_index</th>\n",
       "      <th>vin_index</th>\n",
       "      <th>state_index</th>\n",
       "      <th>saledate_index</th>\n",
       "    </tr>\n",
       "  </thead>\n",
       "  <tbody>\n",
       "    <tr>\n",
       "      <th>0</th>\n",
       "      <td>2015</td>\n",
       "      <td>16639.0</td>\n",
       "      <td>20500</td>\n",
       "      <td>21500</td>\n",
       "      <td>0</td>\n",
       "      <td>0</td>\n",
       "      <td>0</td>\n",
       "      <td>0</td>\n",
       "      <td>0</td>\n",
       "      <td>0</td>\n",
       "      <td>0</td>\n",
       "      <td>0</td>\n",
       "      <td>0</td>\n",
       "    </tr>\n",
       "    <tr>\n",
       "      <th>1</th>\n",
       "      <td>2015</td>\n",
       "      <td>9393.0</td>\n",
       "      <td>20800</td>\n",
       "      <td>21500</td>\n",
       "      <td>0</td>\n",
       "      <td>0</td>\n",
       "      <td>0</td>\n",
       "      <td>0</td>\n",
       "      <td>0</td>\n",
       "      <td>0</td>\n",
       "      <td>1</td>\n",
       "      <td>0</td>\n",
       "      <td>0</td>\n",
       "    </tr>\n",
       "    <tr>\n",
       "      <th>2</th>\n",
       "      <td>2014</td>\n",
       "      <td>1331.0</td>\n",
       "      <td>31900</td>\n",
       "      <td>30000</td>\n",
       "      <td>1</td>\n",
       "      <td>1</td>\n",
       "      <td>1</td>\n",
       "      <td>1</td>\n",
       "      <td>1</td>\n",
       "      <td>1</td>\n",
       "      <td>2</td>\n",
       "      <td>0</td>\n",
       "      <td>1</td>\n",
       "    </tr>\n",
       "    <tr>\n",
       "      <th>3</th>\n",
       "      <td>2015</td>\n",
       "      <td>14282.0</td>\n",
       "      <td>27500</td>\n",
       "      <td>27750</td>\n",
       "      <td>2</td>\n",
       "      <td>2</td>\n",
       "      <td>1</td>\n",
       "      <td>0</td>\n",
       "      <td>2</td>\n",
       "      <td>2</td>\n",
       "      <td>3</td>\n",
       "      <td>0</td>\n",
       "      <td>2</td>\n",
       "    </tr>\n",
       "    <tr>\n",
       "      <th>5</th>\n",
       "      <td>2015</td>\n",
       "      <td>5554.0</td>\n",
       "      <td>15350</td>\n",
       "      <td>10900</td>\n",
       "      <td>3</td>\n",
       "      <td>4</td>\n",
       "      <td>1</td>\n",
       "      <td>1</td>\n",
       "      <td>3</td>\n",
       "      <td>4</td>\n",
       "      <td>5</td>\n",
       "      <td>0</td>\n",
       "      <td>4</td>\n",
       "    </tr>\n",
       "    <tr>\n",
       "      <th>...</th>\n",
       "      <td>...</td>\n",
       "      <td>...</td>\n",
       "      <td>...</td>\n",
       "      <td>...</td>\n",
       "      <td>...</td>\n",
       "      <td>...</td>\n",
       "      <td>...</td>\n",
       "      <td>...</td>\n",
       "      <td>...</td>\n",
       "      <td>...</td>\n",
       "      <td>...</td>\n",
       "      <td>...</td>\n",
       "      <td>...</td>\n",
       "    </tr>\n",
       "    <tr>\n",
       "      <th>558805</th>\n",
       "      <td>2011</td>\n",
       "      <td>66403.0</td>\n",
       "      <td>20300</td>\n",
       "      <td>22800</td>\n",
       "      <td>1</td>\n",
       "      <td>15</td>\n",
       "      <td>1</td>\n",
       "      <td>0</td>\n",
       "      <td>890</td>\n",
       "      <td>14</td>\n",
       "      <td>509361</td>\n",
       "      <td>8</td>\n",
       "      <td>706</td>\n",
       "    </tr>\n",
       "    <tr>\n",
       "      <th>558806</th>\n",
       "      <td>2015</td>\n",
       "      <td>18255.0</td>\n",
       "      <td>35300</td>\n",
       "      <td>33000</td>\n",
       "      <td>0</td>\n",
       "      <td>28</td>\n",
       "      <td>1</td>\n",
       "      <td>4</td>\n",
       "      <td>17</td>\n",
       "      <td>23</td>\n",
       "      <td>509362</td>\n",
       "      <td>17</td>\n",
       "      <td>1769</td>\n",
       "    </tr>\n",
       "    <tr>\n",
       "      <th>558808</th>\n",
       "      <td>2012</td>\n",
       "      <td>50561.0</td>\n",
       "      <td>29800</td>\n",
       "      <td>34000</td>\n",
       "      <td>1</td>\n",
       "      <td>19</td>\n",
       "      <td>0</td>\n",
       "      <td>2</td>\n",
       "      <td>1</td>\n",
       "      <td>143</td>\n",
       "      <td>509364</td>\n",
       "      <td>0</td>\n",
       "      <td>976</td>\n",
       "    </tr>\n",
       "    <tr>\n",
       "      <th>558809</th>\n",
       "      <td>2015</td>\n",
       "      <td>16658.0</td>\n",
       "      <td>15100</td>\n",
       "      <td>11100</td>\n",
       "      <td>3</td>\n",
       "      <td>4</td>\n",
       "      <td>1</td>\n",
       "      <td>0</td>\n",
       "      <td>3</td>\n",
       "      <td>4</td>\n",
       "      <td>509365</td>\n",
       "      <td>13</td>\n",
       "      <td>2113</td>\n",
       "    </tr>\n",
       "    <tr>\n",
       "      <th>558810</th>\n",
       "      <td>2014</td>\n",
       "      <td>15008.0</td>\n",
       "      <td>29600</td>\n",
       "      <td>26700</td>\n",
       "      <td>6</td>\n",
       "      <td>168</td>\n",
       "      <td>6</td>\n",
       "      <td>1</td>\n",
       "      <td>122</td>\n",
       "      <td>154</td>\n",
       "      <td>509366</td>\n",
       "      <td>0</td>\n",
       "      <td>970</td>\n",
       "    </tr>\n",
       "  </tbody>\n",
       "</table>\n",
       "<p>433913 rows × 13 columns</p>\n",
       "</div>"
      ],
      "text/plain": [
       "        year  odometer    mmr  sellingprice  make_index  model_index  \\\n",
       "0       2015   16639.0  20500         21500           0            0   \n",
       "1       2015    9393.0  20800         21500           0            0   \n",
       "2       2014    1331.0  31900         30000           1            1   \n",
       "3       2015   14282.0  27500         27750           2            2   \n",
       "5       2015    5554.0  15350         10900           3            4   \n",
       "...      ...       ...    ...           ...         ...          ...   \n",
       "558805  2011   66403.0  20300         22800           1           15   \n",
       "558806  2015   18255.0  35300         33000           0           28   \n",
       "558808  2012   50561.0  29800         34000           1           19   \n",
       "558809  2015   16658.0  15100         11100           3            4   \n",
       "558810  2014   15008.0  29600         26700           6          168   \n",
       "\n",
       "        body_index  color_index  seller_index  trim_index  vin_index  \\\n",
       "0                0            0             0           0          0   \n",
       "1                0            0             0           0          1   \n",
       "2                1            1             1           1          2   \n",
       "3                1            0             2           2          3   \n",
       "5                1            1             3           4          5   \n",
       "...            ...          ...           ...         ...        ...   \n",
       "558805           1            0           890          14     509361   \n",
       "558806           1            4            17          23     509362   \n",
       "558808           0            2             1         143     509364   \n",
       "558809           1            0             3           4     509365   \n",
       "558810           6            1           122         154     509366   \n",
       "\n",
       "        state_index  saledate_index  \n",
       "0                 0               0  \n",
       "1                 0               0  \n",
       "2                 0               1  \n",
       "3                 0               2  \n",
       "5                 0               4  \n",
       "...             ...             ...  \n",
       "558805            8             706  \n",
       "558806           17            1769  \n",
       "558808            0             976  \n",
       "558809           13            2113  \n",
       "558810            0             970  \n",
       "\n",
       "[433913 rows x 13 columns]"
      ]
     },
     "execution_count": 146,
     "metadata": {},
     "output_type": "execute_result"
    }
   ],
   "source": [
    "updated_df3"
   ]
  },
  {
   "cell_type": "markdown",
   "id": "214855a0",
   "metadata": {},
   "source": [
    "# Divide Dataset for x and y values "
   ]
  },
  {
   "cell_type": "code",
   "execution_count": 147,
   "id": "463313e8",
   "metadata": {},
   "outputs": [],
   "source": [
    "y = updated_df3[\"sellingprice\"]\n",
    "updated_df3.drop([\"sellingprice\"],axis=1, inplace=True)\n",
    "x = updated_df3"
   ]
  },
  {
   "cell_type": "code",
   "execution_count": 148,
   "id": "377d0a0f",
   "metadata": {},
   "outputs": [
    {
     "data": {
      "text/html": [
       "<div>\n",
       "<style scoped>\n",
       "    .dataframe tbody tr th:only-of-type {\n",
       "        vertical-align: middle;\n",
       "    }\n",
       "\n",
       "    .dataframe tbody tr th {\n",
       "        vertical-align: top;\n",
       "    }\n",
       "\n",
       "    .dataframe thead th {\n",
       "        text-align: right;\n",
       "    }\n",
       "</style>\n",
       "<table border=\"1\" class=\"dataframe\">\n",
       "  <thead>\n",
       "    <tr style=\"text-align: right;\">\n",
       "      <th></th>\n",
       "      <th>year</th>\n",
       "      <th>odometer</th>\n",
       "      <th>mmr</th>\n",
       "      <th>make_index</th>\n",
       "      <th>model_index</th>\n",
       "      <th>body_index</th>\n",
       "      <th>color_index</th>\n",
       "      <th>seller_index</th>\n",
       "      <th>trim_index</th>\n",
       "      <th>vin_index</th>\n",
       "      <th>state_index</th>\n",
       "      <th>saledate_index</th>\n",
       "    </tr>\n",
       "  </thead>\n",
       "  <tbody>\n",
       "    <tr>\n",
       "      <th>0</th>\n",
       "      <td>2015</td>\n",
       "      <td>16639.0</td>\n",
       "      <td>20500</td>\n",
       "      <td>0</td>\n",
       "      <td>0</td>\n",
       "      <td>0</td>\n",
       "      <td>0</td>\n",
       "      <td>0</td>\n",
       "      <td>0</td>\n",
       "      <td>0</td>\n",
       "      <td>0</td>\n",
       "      <td>0</td>\n",
       "    </tr>\n",
       "    <tr>\n",
       "      <th>1</th>\n",
       "      <td>2015</td>\n",
       "      <td>9393.0</td>\n",
       "      <td>20800</td>\n",
       "      <td>0</td>\n",
       "      <td>0</td>\n",
       "      <td>0</td>\n",
       "      <td>0</td>\n",
       "      <td>0</td>\n",
       "      <td>0</td>\n",
       "      <td>1</td>\n",
       "      <td>0</td>\n",
       "      <td>0</td>\n",
       "    </tr>\n",
       "    <tr>\n",
       "      <th>2</th>\n",
       "      <td>2014</td>\n",
       "      <td>1331.0</td>\n",
       "      <td>31900</td>\n",
       "      <td>1</td>\n",
       "      <td>1</td>\n",
       "      <td>1</td>\n",
       "      <td>1</td>\n",
       "      <td>1</td>\n",
       "      <td>1</td>\n",
       "      <td>2</td>\n",
       "      <td>0</td>\n",
       "      <td>1</td>\n",
       "    </tr>\n",
       "    <tr>\n",
       "      <th>3</th>\n",
       "      <td>2015</td>\n",
       "      <td>14282.0</td>\n",
       "      <td>27500</td>\n",
       "      <td>2</td>\n",
       "      <td>2</td>\n",
       "      <td>1</td>\n",
       "      <td>0</td>\n",
       "      <td>2</td>\n",
       "      <td>2</td>\n",
       "      <td>3</td>\n",
       "      <td>0</td>\n",
       "      <td>2</td>\n",
       "    </tr>\n",
       "    <tr>\n",
       "      <th>5</th>\n",
       "      <td>2015</td>\n",
       "      <td>5554.0</td>\n",
       "      <td>15350</td>\n",
       "      <td>3</td>\n",
       "      <td>4</td>\n",
       "      <td>1</td>\n",
       "      <td>1</td>\n",
       "      <td>3</td>\n",
       "      <td>4</td>\n",
       "      <td>5</td>\n",
       "      <td>0</td>\n",
       "      <td>4</td>\n",
       "    </tr>\n",
       "    <tr>\n",
       "      <th>...</th>\n",
       "      <td>...</td>\n",
       "      <td>...</td>\n",
       "      <td>...</td>\n",
       "      <td>...</td>\n",
       "      <td>...</td>\n",
       "      <td>...</td>\n",
       "      <td>...</td>\n",
       "      <td>...</td>\n",
       "      <td>...</td>\n",
       "      <td>...</td>\n",
       "      <td>...</td>\n",
       "      <td>...</td>\n",
       "    </tr>\n",
       "    <tr>\n",
       "      <th>558805</th>\n",
       "      <td>2011</td>\n",
       "      <td>66403.0</td>\n",
       "      <td>20300</td>\n",
       "      <td>1</td>\n",
       "      <td>15</td>\n",
       "      <td>1</td>\n",
       "      <td>0</td>\n",
       "      <td>890</td>\n",
       "      <td>14</td>\n",
       "      <td>509361</td>\n",
       "      <td>8</td>\n",
       "      <td>706</td>\n",
       "    </tr>\n",
       "    <tr>\n",
       "      <th>558806</th>\n",
       "      <td>2015</td>\n",
       "      <td>18255.0</td>\n",
       "      <td>35300</td>\n",
       "      <td>0</td>\n",
       "      <td>28</td>\n",
       "      <td>1</td>\n",
       "      <td>4</td>\n",
       "      <td>17</td>\n",
       "      <td>23</td>\n",
       "      <td>509362</td>\n",
       "      <td>17</td>\n",
       "      <td>1769</td>\n",
       "    </tr>\n",
       "    <tr>\n",
       "      <th>558808</th>\n",
       "      <td>2012</td>\n",
       "      <td>50561.0</td>\n",
       "      <td>29800</td>\n",
       "      <td>1</td>\n",
       "      <td>19</td>\n",
       "      <td>0</td>\n",
       "      <td>2</td>\n",
       "      <td>1</td>\n",
       "      <td>143</td>\n",
       "      <td>509364</td>\n",
       "      <td>0</td>\n",
       "      <td>976</td>\n",
       "    </tr>\n",
       "    <tr>\n",
       "      <th>558809</th>\n",
       "      <td>2015</td>\n",
       "      <td>16658.0</td>\n",
       "      <td>15100</td>\n",
       "      <td>3</td>\n",
       "      <td>4</td>\n",
       "      <td>1</td>\n",
       "      <td>0</td>\n",
       "      <td>3</td>\n",
       "      <td>4</td>\n",
       "      <td>509365</td>\n",
       "      <td>13</td>\n",
       "      <td>2113</td>\n",
       "    </tr>\n",
       "    <tr>\n",
       "      <th>558810</th>\n",
       "      <td>2014</td>\n",
       "      <td>15008.0</td>\n",
       "      <td>29600</td>\n",
       "      <td>6</td>\n",
       "      <td>168</td>\n",
       "      <td>6</td>\n",
       "      <td>1</td>\n",
       "      <td>122</td>\n",
       "      <td>154</td>\n",
       "      <td>509366</td>\n",
       "      <td>0</td>\n",
       "      <td>970</td>\n",
       "    </tr>\n",
       "  </tbody>\n",
       "</table>\n",
       "<p>433913 rows × 12 columns</p>\n",
       "</div>"
      ],
      "text/plain": [
       "        year  odometer    mmr  make_index  model_index  body_index  \\\n",
       "0       2015   16639.0  20500           0            0           0   \n",
       "1       2015    9393.0  20800           0            0           0   \n",
       "2       2014    1331.0  31900           1            1           1   \n",
       "3       2015   14282.0  27500           2            2           1   \n",
       "5       2015    5554.0  15350           3            4           1   \n",
       "...      ...       ...    ...         ...          ...         ...   \n",
       "558805  2011   66403.0  20300           1           15           1   \n",
       "558806  2015   18255.0  35300           0           28           1   \n",
       "558808  2012   50561.0  29800           1           19           0   \n",
       "558809  2015   16658.0  15100           3            4           1   \n",
       "558810  2014   15008.0  29600           6          168           6   \n",
       "\n",
       "        color_index  seller_index  trim_index  vin_index  state_index  \\\n",
       "0                 0             0           0          0            0   \n",
       "1                 0             0           0          1            0   \n",
       "2                 1             1           1          2            0   \n",
       "3                 0             2           2          3            0   \n",
       "5                 1             3           4          5            0   \n",
       "...             ...           ...         ...        ...          ...   \n",
       "558805            0           890          14     509361            8   \n",
       "558806            4            17          23     509362           17   \n",
       "558808            2             1         143     509364            0   \n",
       "558809            0             3           4     509365           13   \n",
       "558810            1           122         154     509366            0   \n",
       "\n",
       "        saledate_index  \n",
       "0                    0  \n",
       "1                    0  \n",
       "2                    1  \n",
       "3                    2  \n",
       "5                    4  \n",
       "...                ...  \n",
       "558805             706  \n",
       "558806            1769  \n",
       "558808             976  \n",
       "558809            2113  \n",
       "558810             970  \n",
       "\n",
       "[433913 rows x 12 columns]"
      ]
     },
     "execution_count": 148,
     "metadata": {},
     "output_type": "execute_result"
    }
   ],
   "source": [
    "x"
   ]
  },
  {
   "cell_type": "code",
   "execution_count": 149,
   "id": "bce38dd4",
   "metadata": {},
   "outputs": [
    {
     "data": {
      "text/plain": [
       "0         21500\n",
       "1         21500\n",
       "2         30000\n",
       "3         27750\n",
       "5         10900\n",
       "          ...  \n",
       "558805    22800\n",
       "558806    33000\n",
       "558808    34000\n",
       "558809    11100\n",
       "558810    26700\n",
       "Name: sellingprice, Length: 433913, dtype: int64"
      ]
     },
     "execution_count": 149,
     "metadata": {},
     "output_type": "execute_result"
    }
   ],
   "source": [
    "y"
   ]
  },
  {
   "cell_type": "code",
   "execution_count": 150,
   "id": "7eb83ec1",
   "metadata": {},
   "outputs": [
    {
     "data": {
      "text/plain": [
       "(433913,)"
      ]
     },
     "execution_count": 150,
     "metadata": {},
     "output_type": "execute_result"
    }
   ],
   "source": [
    "y.shape"
   ]
  },
  {
   "cell_type": "markdown",
   "id": "22800011",
   "metadata": {},
   "source": [
    "# Feature Selection"
   ]
  },
  {
   "cell_type": "markdown",
   "id": "0a7158c9",
   "metadata": {},
   "source": [
    "**Correlation Matrix**"
   ]
  },
  {
   "cell_type": "code",
   "execution_count": 151,
   "id": "3dc91337",
   "metadata": {},
   "outputs": [
    {
     "data": {
      "image/png": "[encoded data removed]",
      "text/plain": [
       "<Figure size 1500x1500 with 2 Axes>"
      ]
     },
     "metadata": {},
     "output_type": "display_data"
    }
   ],
   "source": [
    "#get correlations of each features in dataset\n",
    "corrmat = updated_df3.corr()\n",
    "top_corr_features = corrmat.index\n",
    "plt.figure(figsize=(15,15))\n",
    "#plot heat map\n",
    "g=sns.heatmap(updated_df3[top_corr_features].corr(),annot=True,cmap=\"RdYlGn\")"
   ]
  },
  {
   "cell_type": "markdown",
   "id": "ced7a90b",
   "metadata": {},
   "source": [
    "**K-Best Feature Selection**"
   ]
  },
  {
   "cell_type": "code",
   "execution_count": 152,
   "id": "2d3a38f0",
   "metadata": {},
   "outputs": [],
   "source": [
    "from sklearn.feature_selection import SelectKBest\n",
    "from sklearn.feature_selection import f_regression"
   ]
  },
  {
   "cell_type": "code",
   "execution_count": 153,
   "id": "5046ee9e",
   "metadata": {},
   "outputs": [
    {
     "data": {
      "text/plain": [
       "array([[2.0150e+03, 1.6639e+04, 2.0500e+04, 0.0000e+00, 0.0000e+00],\n",
       "       [2.0150e+03, 9.3930e+03, 2.0800e+04, 0.0000e+00, 0.0000e+00],\n",
       "       [2.0140e+03, 1.3310e+03, 3.1900e+04, 1.0000e+00, 1.0000e+00],\n",
       "       ...,\n",
       "       [2.0120e+03, 5.0561e+04, 2.9800e+04, 1.9000e+01, 2.0000e+00],\n",
       "       [2.0150e+03, 1.6658e+04, 1.5100e+04, 4.0000e+00, 0.0000e+00],\n",
       "       [2.0140e+03, 1.5008e+04, 2.9600e+04, 1.6800e+02, 1.0000e+00]])"
      ]
     },
     "execution_count": 153,
     "metadata": {},
     "output_type": "execute_result"
    }
   ],
   "source": [
    "bestfeatures = SelectKBest(score_func=f_regression, k=5)\n",
    "new_data = bestfeatures.fit_transform(x,y)\n",
    "new_data"
   ]
  },
  {
   "cell_type": "code",
   "execution_count": 154,
   "id": "2615e4e2",
   "metadata": {},
   "outputs": [
    {
     "data": {
      "text/html": [
       "<div>\n",
       "<style scoped>\n",
       "    .dataframe tbody tr th:only-of-type {\n",
       "        vertical-align: middle;\n",
       "    }\n",
       "\n",
       "    .dataframe tbody tr th {\n",
       "        vertical-align: top;\n",
       "    }\n",
       "\n",
       "    .dataframe thead th {\n",
       "        text-align: right;\n",
       "    }\n",
       "</style>\n",
       "<table border=\"1\" class=\"dataframe\">\n",
       "  <thead>\n",
       "    <tr style=\"text-align: right;\">\n",
       "      <th></th>\n",
       "      <th>year</th>\n",
       "      <th>odometer</th>\n",
       "      <th>mmr</th>\n",
       "      <th>model_index</th>\n",
       "      <th>color_index</th>\n",
       "    </tr>\n",
       "  </thead>\n",
       "  <tbody>\n",
       "    <tr>\n",
       "      <th>0</th>\n",
       "      <td>2015.0</td>\n",
       "      <td>16639.0</td>\n",
       "      <td>20500.0</td>\n",
       "      <td>0.0</td>\n",
       "      <td>0.0</td>\n",
       "    </tr>\n",
       "    <tr>\n",
       "      <th>1</th>\n",
       "      <td>2015.0</td>\n",
       "      <td>9393.0</td>\n",
       "      <td>20800.0</td>\n",
       "      <td>0.0</td>\n",
       "      <td>0.0</td>\n",
       "    </tr>\n",
       "    <tr>\n",
       "      <th>2</th>\n",
       "      <td>2014.0</td>\n",
       "      <td>1331.0</td>\n",
       "      <td>31900.0</td>\n",
       "      <td>1.0</td>\n",
       "      <td>1.0</td>\n",
       "    </tr>\n",
       "    <tr>\n",
       "      <th>3</th>\n",
       "      <td>2015.0</td>\n",
       "      <td>14282.0</td>\n",
       "      <td>27500.0</td>\n",
       "      <td>2.0</td>\n",
       "      <td>0.0</td>\n",
       "    </tr>\n",
       "    <tr>\n",
       "      <th>4</th>\n",
       "      <td>2015.0</td>\n",
       "      <td>5554.0</td>\n",
       "      <td>15350.0</td>\n",
       "      <td>4.0</td>\n",
       "      <td>1.0</td>\n",
       "    </tr>\n",
       "  </tbody>\n",
       "</table>\n",
       "</div>"
      ],
      "text/plain": [
       "     year  odometer      mmr  model_index  color_index\n",
       "0  2015.0   16639.0  20500.0          0.0          0.0\n",
       "1  2015.0    9393.0  20800.0          0.0          0.0\n",
       "2  2014.0    1331.0  31900.0          1.0          1.0\n",
       "3  2015.0   14282.0  27500.0          2.0          0.0\n",
       "4  2015.0    5554.0  15350.0          4.0          1.0"
      ]
     },
     "execution_count": 154,
     "metadata": {},
     "output_type": "execute_result"
    }
   ],
   "source": [
    "new_data=pd.DataFrame(new_data,columns=x.columns[bestfeatures.get_support()])\n",
    "new_data.head()"
   ]
  },
  {
   "cell_type": "code",
   "execution_count": 155,
   "id": "8af15852",
   "metadata": {},
   "outputs": [
    {
     "data": {
      "text/html": [
       "<div>\n",
       "<style scoped>\n",
       "    .dataframe tbody tr th:only-of-type {\n",
       "        vertical-align: middle;\n",
       "    }\n",
       "\n",
       "    .dataframe tbody tr th {\n",
       "        vertical-align: top;\n",
       "    }\n",
       "\n",
       "    .dataframe thead th {\n",
       "        text-align: right;\n",
       "    }\n",
       "</style>\n",
       "<table border=\"1\" class=\"dataframe\">\n",
       "  <thead>\n",
       "    <tr style=\"text-align: right;\">\n",
       "      <th></th>\n",
       "      <th>year</th>\n",
       "      <th>odometer</th>\n",
       "      <th>mmr</th>\n",
       "      <th>model_index</th>\n",
       "      <th>color_index</th>\n",
       "    </tr>\n",
       "  </thead>\n",
       "  <tbody>\n",
       "    <tr>\n",
       "      <th>0</th>\n",
       "      <td>2015.0</td>\n",
       "      <td>16639.0</td>\n",
       "      <td>20500.0</td>\n",
       "      <td>0.0</td>\n",
       "      <td>0.0</td>\n",
       "    </tr>\n",
       "    <tr>\n",
       "      <th>1</th>\n",
       "      <td>2015.0</td>\n",
       "      <td>9393.0</td>\n",
       "      <td>20800.0</td>\n",
       "      <td>0.0</td>\n",
       "      <td>0.0</td>\n",
       "    </tr>\n",
       "    <tr>\n",
       "      <th>2</th>\n",
       "      <td>2014.0</td>\n",
       "      <td>1331.0</td>\n",
       "      <td>31900.0</td>\n",
       "      <td>1.0</td>\n",
       "      <td>1.0</td>\n",
       "    </tr>\n",
       "    <tr>\n",
       "      <th>3</th>\n",
       "      <td>2015.0</td>\n",
       "      <td>14282.0</td>\n",
       "      <td>27500.0</td>\n",
       "      <td>2.0</td>\n",
       "      <td>0.0</td>\n",
       "    </tr>\n",
       "    <tr>\n",
       "      <th>4</th>\n",
       "      <td>2015.0</td>\n",
       "      <td>5554.0</td>\n",
       "      <td>15350.0</td>\n",
       "      <td>4.0</td>\n",
       "      <td>1.0</td>\n",
       "    </tr>\n",
       "    <tr>\n",
       "      <th>...</th>\n",
       "      <td>...</td>\n",
       "      <td>...</td>\n",
       "      <td>...</td>\n",
       "      <td>...</td>\n",
       "      <td>...</td>\n",
       "    </tr>\n",
       "    <tr>\n",
       "      <th>433908</th>\n",
       "      <td>2011.0</td>\n",
       "      <td>66403.0</td>\n",
       "      <td>20300.0</td>\n",
       "      <td>15.0</td>\n",
       "      <td>0.0</td>\n",
       "    </tr>\n",
       "    <tr>\n",
       "      <th>433909</th>\n",
       "      <td>2015.0</td>\n",
       "      <td>18255.0</td>\n",
       "      <td>35300.0</td>\n",
       "      <td>28.0</td>\n",
       "      <td>4.0</td>\n",
       "    </tr>\n",
       "    <tr>\n",
       "      <th>433910</th>\n",
       "      <td>2012.0</td>\n",
       "      <td>50561.0</td>\n",
       "      <td>29800.0</td>\n",
       "      <td>19.0</td>\n",
       "      <td>2.0</td>\n",
       "    </tr>\n",
       "    <tr>\n",
       "      <th>433911</th>\n",
       "      <td>2015.0</td>\n",
       "      <td>16658.0</td>\n",
       "      <td>15100.0</td>\n",
       "      <td>4.0</td>\n",
       "      <td>0.0</td>\n",
       "    </tr>\n",
       "    <tr>\n",
       "      <th>433912</th>\n",
       "      <td>2014.0</td>\n",
       "      <td>15008.0</td>\n",
       "      <td>29600.0</td>\n",
       "      <td>168.0</td>\n",
       "      <td>1.0</td>\n",
       "    </tr>\n",
       "  </tbody>\n",
       "</table>\n",
       "<p>433913 rows × 5 columns</p>\n",
       "</div>"
      ],
      "text/plain": [
       "          year  odometer      mmr  model_index  color_index\n",
       "0       2015.0   16639.0  20500.0          0.0          0.0\n",
       "1       2015.0    9393.0  20800.0          0.0          0.0\n",
       "2       2014.0    1331.0  31900.0          1.0          1.0\n",
       "3       2015.0   14282.0  27500.0          2.0          0.0\n",
       "4       2015.0    5554.0  15350.0          4.0          1.0\n",
       "...        ...       ...      ...          ...          ...\n",
       "433908  2011.0   66403.0  20300.0         15.0          0.0\n",
       "433909  2015.0   18255.0  35300.0         28.0          4.0\n",
       "433910  2012.0   50561.0  29800.0         19.0          2.0\n",
       "433911  2015.0   16658.0  15100.0          4.0          0.0\n",
       "433912  2014.0   15008.0  29600.0        168.0          1.0\n",
       "\n",
       "[433913 rows x 5 columns]"
      ]
     },
     "execution_count": 155,
     "metadata": {},
     "output_type": "execute_result"
    }
   ],
   "source": [
    "new_data"
   ]
  },
  {
   "cell_type": "markdown",
   "id": "7512b411",
   "metadata": {},
   "source": [
    "# Normalize Data "
   ]
  },
  {
   "cell_type": "code",
   "execution_count": 156,
   "id": "0954a91c",
   "metadata": {},
   "outputs": [],
   "source": [
    "from sklearn.preprocessing import StandardScaler\n",
    "scaler = StandardScaler()\n",
    "new_data[[\"year\",\"odometer\",\"mmr\",\"model_index\",\"color_index\"]]=scaler.fit_transform(new_data)"
   ]
  },
  {
   "cell_type": "code",
   "execution_count": 157,
   "id": "9b2d6ce2",
   "metadata": {},
   "outputs": [
    {
     "data": {
      "text/html": [
       "<div>\n",
       "<style scoped>\n",
       "    .dataframe tbody tr th:only-of-type {\n",
       "        vertical-align: middle;\n",
       "    }\n",
       "\n",
       "    .dataframe tbody tr th {\n",
       "        vertical-align: top;\n",
       "    }\n",
       "\n",
       "    .dataframe thead th {\n",
       "        text-align: right;\n",
       "    }\n",
       "</style>\n",
       "<table border=\"1\" class=\"dataframe\">\n",
       "  <thead>\n",
       "    <tr style=\"text-align: right;\">\n",
       "      <th></th>\n",
       "      <th>year</th>\n",
       "      <th>odometer</th>\n",
       "      <th>mmr</th>\n",
       "      <th>model_index</th>\n",
       "      <th>color_index</th>\n",
       "    </tr>\n",
       "  </thead>\n",
       "  <tbody>\n",
       "    <tr>\n",
       "      <th>0</th>\n",
       "      <td>1.311420</td>\n",
       "      <td>-1.021736</td>\n",
       "      <td>0.879484</td>\n",
       "      <td>-1.253249</td>\n",
       "      <td>-1.118271</td>\n",
       "    </tr>\n",
       "    <tr>\n",
       "      <th>1</th>\n",
       "      <td>1.311420</td>\n",
       "      <td>-1.176805</td>\n",
       "      <td>0.917597</td>\n",
       "      <td>-1.253249</td>\n",
       "      <td>-1.118271</td>\n",
       "    </tr>\n",
       "    <tr>\n",
       "      <th>2</th>\n",
       "      <td>1.024061</td>\n",
       "      <td>-1.349338</td>\n",
       "      <td>2.327771</td>\n",
       "      <td>-1.243958</td>\n",
       "      <td>-0.685092</td>\n",
       "    </tr>\n",
       "    <tr>\n",
       "      <th>3</th>\n",
       "      <td>1.311420</td>\n",
       "      <td>-1.072177</td>\n",
       "      <td>1.768783</td>\n",
       "      <td>-1.234668</td>\n",
       "      <td>-1.118271</td>\n",
       "    </tr>\n",
       "    <tr>\n",
       "      <th>4</th>\n",
       "      <td>1.311420</td>\n",
       "      <td>-1.258962</td>\n",
       "      <td>0.225213</td>\n",
       "      <td>-1.216086</td>\n",
       "      <td>-0.685092</td>\n",
       "    </tr>\n",
       "    <tr>\n",
       "      <th>...</th>\n",
       "      <td>...</td>\n",
       "      <td>...</td>\n",
       "      <td>...</td>\n",
       "      <td>...</td>\n",
       "      <td>...</td>\n",
       "    </tr>\n",
       "    <tr>\n",
       "      <th>433908</th>\n",
       "      <td>0.161987</td>\n",
       "      <td>0.043249</td>\n",
       "      <td>0.854075</td>\n",
       "      <td>-1.113888</td>\n",
       "      <td>-1.118271</td>\n",
       "    </tr>\n",
       "    <tr>\n",
       "      <th>433909</th>\n",
       "      <td>1.311420</td>\n",
       "      <td>-0.987152</td>\n",
       "      <td>2.759717</td>\n",
       "      <td>-0.993108</td>\n",
       "      <td>0.614445</td>\n",
       "    </tr>\n",
       "    <tr>\n",
       "      <th>433910</th>\n",
       "      <td>0.449345</td>\n",
       "      <td>-0.295781</td>\n",
       "      <td>2.060982</td>\n",
       "      <td>-1.076725</td>\n",
       "      <td>-0.251913</td>\n",
       "    </tr>\n",
       "    <tr>\n",
       "      <th>433911</th>\n",
       "      <td>1.311420</td>\n",
       "      <td>-1.021329</td>\n",
       "      <td>0.193453</td>\n",
       "      <td>-1.216086</td>\n",
       "      <td>-1.118271</td>\n",
       "    </tr>\n",
       "    <tr>\n",
       "      <th>433912</th>\n",
       "      <td>1.024061</td>\n",
       "      <td>-1.056640</td>\n",
       "      <td>2.035573</td>\n",
       "      <td>0.307597</td>\n",
       "      <td>-0.685092</td>\n",
       "    </tr>\n",
       "  </tbody>\n",
       "</table>\n",
       "<p>433913 rows × 5 columns</p>\n",
       "</div>"
      ],
      "text/plain": [
       "            year  odometer       mmr  model_index  color_index\n",
       "0       1.311420 -1.021736  0.879484    -1.253249    -1.118271\n",
       "1       1.311420 -1.176805  0.917597    -1.253249    -1.118271\n",
       "2       1.024061 -1.349338  2.327771    -1.243958    -0.685092\n",
       "3       1.311420 -1.072177  1.768783    -1.234668    -1.118271\n",
       "4       1.311420 -1.258962  0.225213    -1.216086    -0.685092\n",
       "...          ...       ...       ...          ...          ...\n",
       "433908  0.161987  0.043249  0.854075    -1.113888    -1.118271\n",
       "433909  1.311420 -0.987152  2.759717    -0.993108     0.614445\n",
       "433910  0.449345 -0.295781  2.060982    -1.076725    -0.251913\n",
       "433911  1.311420 -1.021329  0.193453    -1.216086    -1.118271\n",
       "433912  1.024061 -1.056640  2.035573     0.307597    -0.685092\n",
       "\n",
       "[433913 rows x 5 columns]"
      ]
     },
     "execution_count": 157,
     "metadata": {},
     "output_type": "execute_result"
    }
   ],
   "source": [
    "new_data"
   ]
  },
  {
   "cell_type": "markdown",
   "id": "16e95b9b",
   "metadata": {},
   "source": [
    "**Train-Test Data**\n"
   ]
  },
  {
   "cell_type": "code",
   "execution_count": 158,
   "id": "a1a3d1fd",
   "metadata": {},
   "outputs": [],
   "source": [
    "x_new = x[[\"year\",\"odometer\",\"mmr\",\"model_index\",\"color_index\"]]"
   ]
  },
  {
   "cell_type": "markdown",
   "id": "67f3e4c2",
   "metadata": {},
   "source": [
    "We took the first 300000 rows as train and the others as test. Actually, we took the approximately 70% of the data for the train part."
   ]
  },
  {
   "cell_type": "code",
   "execution_count": 159,
   "id": "abc83205",
   "metadata": {},
   "outputs": [],
   "source": [
    "x_train = x_new.iloc[:300000, :]\n",
    "x_test = x_new.iloc[300000:, :]"
   ]
  },
  {
   "cell_type": "code",
   "execution_count": 160,
   "id": "7e2c01bf",
   "metadata": {},
   "outputs": [
    {
     "data": {
      "text/plain": [
       "(300000, 5)"
      ]
     },
     "execution_count": 160,
     "metadata": {},
     "output_type": "execute_result"
    }
   ],
   "source": [
    "x_train.shape"
   ]
  },
  {
   "cell_type": "code",
   "execution_count": 161,
   "id": "171c4a19",
   "metadata": {},
   "outputs": [],
   "source": [
    "y_train = y.iloc[:300000]\n",
    "y_test = y.iloc[300000:]"
   ]
  },
  {
   "cell_type": "code",
   "execution_count": 162,
   "id": "3fe6063e",
   "metadata": {},
   "outputs": [
    {
     "data": {
      "text/plain": [
       "(300000,)"
      ]
     },
     "execution_count": 162,
     "metadata": {},
     "output_type": "execute_result"
    }
   ],
   "source": [
    "y_train.shape"
   ]
  },
  {
   "cell_type": "code",
   "execution_count": 163,
   "id": "4aa056c8",
   "metadata": {},
   "outputs": [
    {
     "name": "stdout",
     "output_type": "stream",
     "text": [
      "Train MSE: 2617786.582857059\n",
      "Test MSE: 2721264.4559922107\n",
      "Train Accuracy: 0.9586361307610987\n",
      "Test Accuracy: 0.9572308434566893\n"
     ]
    }
   ],
   "source": [
    "from sklearn.linear_model import LinearRegression\n",
    "from sklearn.metrics import mean_squared_error\n",
    "\n",
    "# Create an instance of the LinearRegression model\n",
    "model = LinearRegression()\n",
    "\n",
    "# Fit the model on the training data\n",
    "model.fit(x_train, y_train)\n",
    "\n",
    "# Predict on the training and test data\n",
    "y_train_pred = model.predict(x_train)\n",
    "y_test_pred = model.predict(x_test)\n",
    "\n",
    "# Calculate Mean Squared Error (MSE)\n",
    "train_mse = mean_squared_error(y_train, y_train_pred)\n",
    "test_mse = mean_squared_error(y_test, y_test_pred)\n",
    "\n",
    "# Calculate Accuracy (optional)\n",
    "train_accuracy = model.score(x_train, y_train)\n",
    "test_accuracy = model.score(x_test, y_test)\n",
    "\n",
    "# Print the MSE and Accuracy\n",
    "print(\"Train MSE:\", train_mse)\n",
    "print(\"Test MSE:\", test_mse)\n",
    "print(\"Train Accuracy:\", train_accuracy)\n",
    "print(\"Test Accuracy:\", test_accuracy)\n"
   ]
  },
  {
   "cell_type": "code",
   "execution_count": 164,
   "id": "cbad6e8e",
   "metadata": {},
   "outputs": [
    {
     "name": "stdout",
     "output_type": "stream",
     "text": [
      "Train MAPE: 27.96258502631892\n",
      "Test MAPE: 13.660117037306014\n"
     ]
    }
   ],
   "source": [
    "def mean_absolute_percentage_error(y_true, y_pred):\n",
    "    y_true, y_pred = np.array(y_true), np.array(y_pred)\n",
    "    return np.mean(np.abs((y_true - y_pred) / y_true)) * 100\n",
    "\n",
    "# Calculate MAPE for the training and test data\n",
    "train_mape = mean_absolute_percentage_error(y_train, y_train_pred)\n",
    "test_mape = mean_absolute_percentage_error(y_test, y_test_pred)\n",
    "\n",
    "# Print the MAPE scores\n",
    "print(\"Train MAPE:\", train_mape)\n",
    "print(\"Test MAPE:\", test_mape)"
   ]
  },
  {
   "cell_type": "code",
   "execution_count": 165,
   "id": "a17d7a05",
   "metadata": {},
   "outputs": [
    {
     "name": "stdout",
     "output_type": "stream",
     "text": [
      "Train R-squared: 0.9586361307610987\n",
      "Test R-squared: 0.9572308434566893\n"
     ]
    }
   ],
   "source": [
    "from sklearn.linear_model import LinearRegression\n",
    "from sklearn.metrics import r2_score\n",
    "\n",
    "# Calculate R-squared (coefficient of determination)\n",
    "train_r2 = r2_score(y_train, y_train_pred)\n",
    "test_r2 = r2_score(y_test, y_test_pred)\n",
    "\n",
    "# Print the R-squared values\n",
    "print(\"Train R-squared:\", train_r2)\n",
    "print(\"Test R-squared:\", test_r2)\n"
   ]
  },
  {
   "cell_type": "code",
   "execution_count": 166,
   "id": "f2645b78",
   "metadata": {},
   "outputs": [
    {
     "data": {
      "text/plain": [
       "61975.2745360944"
      ]
     },
     "execution_count": 166,
     "metadata": {},
     "output_type": "execute_result"
    }
   ],
   "source": [
    "model.intercept_"
   ]
  },
  {
   "cell_type": "code",
   "execution_count": 167,
   "id": "e0671f90",
   "metadata": {},
   "outputs": [
    {
     "data": {
      "text/plain": [
       "array([-3.07252123e+01, -2.56521359e-03,  9.90454963e-01, -6.99750683e-02,\n",
       "       -1.99073862e+01])"
      ]
     },
     "execution_count": 167,
     "metadata": {},
     "output_type": "execute_result"
    }
   ],
   "source": [
    "model.coef_ "
   ]
  },
  {
   "cell_type": "code",
   "execution_count": null,
   "id": "8b22cff5",
   "metadata": {},
   "outputs": [],
   "source": []
  },
  {
   "cell_type": "code",
   "execution_count": null,
   "id": "e11c31fb",
   "metadata": {},
   "outputs": [],
   "source": []
  }
 ],
 "metadata": {
  "colab": {
   "provenance": []
  },
  "kernelspec": {
   "display_name": "Python 3 (ipykernel)",
   "language": "python",
   "name": "python3"
  },
  "language_info": {
   "codemirror_mode": {
    "name": "ipython",
    "version": 3
   },
   "file_extension": ".py",
   "mimetype": "text/x-python",
   "name": "python",
   "nbconvert_exporter": "python",
   "pygments_lexer": "ipython3",
   "version": "3.9.13"
  }
 },
 "nbformat": 4,
 "nbformat_minor": 5
}
